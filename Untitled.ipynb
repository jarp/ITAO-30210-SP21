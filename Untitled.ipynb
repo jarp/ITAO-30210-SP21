{
 "cells": [
  {
   "cell_type": "code",
   "execution_count": null,
   "metadata": {},
   "outputs": [],
   "source": []
  },
  {
   "cell_type": "code",
   "execution_count": null,
   "metadata": {},
   "outputs": [],
   "source": [
    "# Restaurant Items\n",
    "restaurant_items = pd.DataFrame(\n",
    "    {\n",
    "        'item': [\n",
    "        'Shakes', \n",
    "        'Burritos', \n",
    "        'Burger'\n",
    "        ]\n",
    "    ,\n",
    "        'restaurant':[\n",
    "        'In-N-Out',\n",
    "        'Chipotle',\n",
    "        'Five Guys',\n",
    "    ]\n",
    "    }\n",
    ")\n",
    "restaurant_items"
   ]
  }
 ],
 "metadata": {
  "kernelspec": {
   "display_name": "Python 3",
   "language": "python",
   "name": "python3"
  },
  "language_info": {
   "codemirror_mode": {
    "name": "ipython",
    "version": 3
   },
   "file_extension": ".py",
   "mimetype": "text/x-python",
   "name": "python",
   "nbconvert_exporter": "python",
   "pygments_lexer": "ipython3",
   "version": "3.7.4"
  }
 },
 "nbformat": 4,
 "nbformat_minor": 2
}
