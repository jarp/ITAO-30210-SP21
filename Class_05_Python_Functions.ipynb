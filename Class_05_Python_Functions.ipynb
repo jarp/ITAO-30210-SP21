{
 "cells": [
  {
   "cell_type": "markdown",
   "metadata": {},
   "source": [
    "## Functions: Defining your first function"
   ]
  },
  {
   "cell_type": "code",
   "execution_count": 1,
   "metadata": {},
   "outputs": [
    {
     "name": "stdout",
     "output_type": "stream",
     "text": [
      "51320.457334283376\n"
     ]
    }
   ],
   "source": [
    "#Simple code to show the reusability of code using functions\n",
    "\n",
    "x = 15\n",
    "x = x + 20\n",
    "x = x**2\n",
    "x = x +156\n",
    "x = x**3\n",
    "x = x**0.5\n",
    "print(x)\n"
   ]
  },
  {
   "cell_type": "code",
   "execution_count": 2,
   "metadata": {},
   "outputs": [
    {
     "name": "stdout",
     "output_type": "stream",
     "text": [
      "122012.03219355049\n"
     ]
    }
   ],
   "source": [
    "# What if I need to know what happens if I assign the value of the variable to 28 initially\n",
    "y = 28\n",
    "y = y + 20\n",
    "y = y**2\n",
    "y = y + 156\n",
    "y = y**3\n",
    "y = y**0.5\n",
    "print(y)"
   ]
  },
  {
   "cell_type": "code",
   "execution_count": 6,
   "metadata": {},
   "outputs": [
    {
     "name": "stdout",
     "output_type": "stream",
     "text": [
      "returning value:  670.1535317962123\n",
      "670.1535317962123\n",
      "returning value:  1126.7863996416286\n",
      "1126.7863996416286\n"
     ]
    }
   ],
   "source": [
    "def set_of_operations(x):\n",
    "    x = x + 20\n",
    "    x = x**2\n",
    "    x = x +156\n",
    "    x = x**3\n",
    "    x = x**0.3\n",
    "    print(\"returning value: \", x)\n",
    "    return x\n",
    "\n",
    "\n",
    "\n",
    "print(set_of_operations(15))\n",
    "print(set_of_operations(28))"
   ]
  },
  {
   "cell_type": "code",
   "execution_count": 5,
   "metadata": {},
   "outputs": [
    {
     "name": "stdout",
     "output_type": "stream",
     "text": [
      "returning value:  3082617.860316293\n",
      "3082617.860316293\n"
     ]
    }
   ],
   "source": [
    "print(set_of_operations(125))"
   ]
  },
  {
   "cell_type": "code",
   "execution_count": 7,
   "metadata": {},
   "outputs": [
    {
     "name": "stdout",
     "output_type": "stream",
     "text": [
      "returning value:  1011.0906610019161\n",
      "1011.0906610019161\n"
     ]
    }
   ],
   "source": [
    "# THE RETURN VALUE OF A FUNCTION IS STORED IN A VARIABLE IN THE BELOW ASSIGNMENT\n",
    "answer = set_of_operations(25)\n",
    "print(answer)"
   ]
  },
  {
   "cell_type": "markdown",
   "metadata": {},
   "source": [
    "## Functions with no return statement"
   ]
  },
  {
   "cell_type": "code",
   "execution_count": 11,
   "metadata": {},
   "outputs": [
    {
     "name": "stdout",
     "output_type": "stream",
     "text": [
      "116226146.7\n",
      "<class 'float'>\n"
     ]
    }
   ],
   "source": [
    "def function_with_return(num):\n",
    "    return num ** num * .3\n",
    "\n",
    "print(function_with_return(9))\n",
    "print(type(function_with_return(9)))\n"
   ]
  },
  {
   "cell_type": "code",
   "execution_count": 12,
   "metadata": {},
   "outputs": [
    {
     "name": "stdout",
     "output_type": "stream",
     "text": [
      "None\n",
      "<class 'NoneType'>\n"
     ]
    }
   ],
   "source": [
    "def function_with_no_return(num):\n",
    "    num ** num\n",
    "\n",
    "print(function_with_no_return(9))\n",
    "print(type(function_with_no_return(9)))\n"
   ]
  },
  {
   "cell_type": "code",
   "execution_count": 14,
   "metadata": {},
   "outputs": [
    {
     "name": "stdout",
     "output_type": "stream",
     "text": [
      "I'm printing '9' using a function\n",
      "I'm printing 'ITAO' using a function\n",
      "I'm printing '9' using a function\n"
     ]
    },
    {
     "data": {
      "text/plain": [
       "NoneType"
      ]
     },
     "execution_count": 14,
     "metadata": {},
     "output_type": "execute_result"
    }
   ],
   "source": [
    "def print_fancy(x):\n",
    "    print(\"I'm printing '{}' using a function\".format(x))\n",
    "\n",
    "print_fancy(9)\n",
    "print_fancy('ITAO')\n",
    "return_val = print_fancy(9)\n",
    "type(return_val)"
   ]
  },
  {
   "cell_type": "code",
   "execution_count": 15,
   "metadata": {},
   "outputs": [
    {
     "name": "stdout",
     "output_type": "stream",
     "text": [
      "I'm printing '232' using a function\n",
      "True\n",
      "None\n"
     ]
    }
   ],
   "source": [
    "testing = print_fancy(232)\n",
    "print(testing == None)\n",
    "print(testing)"
   ]
  },
  {
   "cell_type": "code",
   "execution_count": 16,
   "metadata": {},
   "outputs": [
    {
     "name": "stdout",
     "output_type": "stream",
     "text": [
      "None is like true?\n"
     ]
    }
   ],
   "source": [
    "if None:\n",
    "    print(\"none is like false\")\n",
    "else:\n",
    "    print(\"None is like true?\")"
   ]
  },
  {
   "cell_type": "markdown",
   "metadata": {},
   "source": [
    "## Muliple Assignment\n",
    "you can assign values to multiple variables in a single line"
   ]
  },
  {
   "cell_type": "code",
   "execution_count": 19,
   "metadata": {},
   "outputs": [
    {
     "name": "stdout",
     "output_type": "stream",
     "text": [
      "1\n",
      "2\n",
      "3\n"
     ]
    }
   ],
   "source": [
    "a,b,c = 1,2,3\n",
    "print(a)\n",
    "print(b)\n",
    "print(c)"
   ]
  },
  {
   "cell_type": "code",
   "execution_count": 20,
   "metadata": {},
   "outputs": [
    {
     "name": "stdout",
     "output_type": "stream",
     "text": [
      "63\n",
      "768\n",
      "26733\n"
     ]
    }
   ],
   "source": [
    "import random\n",
    "def three_random_numbers():\n",
    "    return random.randint(0,100), random.randint(100,1000), random.randint(1000,100000)\n",
    "\n",
    "a,b,c = three_random_numbers()\n",
    "\n",
    "print(a)\n",
    "print(b)\n",
    "print(c)"
   ]
  },
  {
   "cell_type": "markdown",
   "metadata": {},
   "source": [
    "## Practice: Function that sums positive even numbers up to 𝑁\n",
    "\n",
    "* Write a function that sums the positive even numbers up to 𝑁, where 𝑁 is a parameter to the function.\n",
    "    * The function should **return** the summation. \n",
    "\n",
    "* Write a program that tests the function with various parameter values. \n",
    "    * Store the returned value in a variable and print it.\n"
   ]
  },
  {
   "cell_type": "code",
   "execution_count": 42,
   "metadata": {},
   "outputs": [],
   "source": [
    "# Function called `sum_even` here\n",
    "def sum_even(upto):\n",
    "    total = 0\n",
    "    for i in range(2,upto,2):\n",
    "        print(\"checking \", i)\n",
    "        if i % 2 == 0:\n",
    "            total += i\n",
    "            print(\"adding \", i, \"total: \", total)\n",
    "    return total"
   ]
  },
  {
   "cell_type": "code",
   "execution_count": 43,
   "metadata": {},
   "outputs": [
    {
     "name": "stdout",
     "output_type": "stream",
     "text": [
      "checking  2\n",
      "adding  2 total:  2\n",
      "checking  4\n",
      "adding  4 total:  6\n",
      "checking  6\n",
      "adding  6 total:  12\n",
      "checking  8\n",
      "adding  8 total:  20\n",
      "checking  10\n",
      "adding  10 total:  30\n",
      "checking  12\n",
      "adding  12 total:  42\n",
      "checking  14\n",
      "adding  14 total:  56\n",
      "checking  16\n",
      "adding  16 total:  72\n",
      "checking  18\n",
      "adding  18 total:  90\n",
      "90\n"
     ]
    }
   ],
   "source": [
    "# this should run if function is created\n",
    "# enter 7 returns 12 (2,4,6)\n",
    "# enter 16 returns 56\n",
    "print(sum_even(19))"
   ]
  },
  {
   "cell_type": "markdown",
   "metadata": {},
   "source": [
    "## Fibonacci Series with Functions\n",
    "\n"
   ]
  },
  {
   "cell_type": "code",
   "execution_count": 60,
   "metadata": {},
   "outputs": [],
   "source": [
    "# create a function called `fibonacci`\n",
    "def finonacci(limit):\n",
    "    ''' creates a fibonacci sequence up to and including \n",
    "        the number passed in as an argument...\n",
    "    '''\n",
    "    first,second = 0,1\n",
    "    next_val = 0\n",
    "    while first <= limit:\n",
    "        print(first)\n",
    "        next_val = first + second\n",
    "        first = second\n",
    "        second = next_val"
   ]
  },
  {
   "cell_type": "code",
   "execution_count": 61,
   "metadata": {},
   "outputs": [
    {
     "name": "stdout",
     "output_type": "stream",
     "text": [
      "0\n",
      "1\n",
      "1\n",
      "2\n",
      "3\n",
      "5\n",
      "8\n",
      "13\n",
      "21\n",
      "34\n",
      "55\n",
      "89\n"
     ]
    }
   ],
   "source": [
    "# call the function and pass the number of  100\n",
    "# correct sequence will be 0, 1, 1, 2, 3, 5, 8, 13, 21, 34, ...\n",
    "finonacci(89)\n"
   ]
  },
  {
   "cell_type": "markdown",
   "metadata": {},
   "source": [
    "## Global vs. Local Scope"
   ]
  },
  {
   "cell_type": "code",
   "execution_count": 44,
   "metadata": {},
   "outputs": [
    {
     "name": "stdout",
     "output_type": "stream",
     "text": [
      "Sin of 5 is -0.9589242746631385 and cos is 0.2836621854632263\n"
     ]
    }
   ],
   "source": [
    "import math\n",
    "number = 5\n",
    "sin = math.sin(number)\n",
    "cos = math.cos(number)\n",
    "print(\"Sin of {0} is {1} and cos is {2}\".format(number, sin, cos))\n"
   ]
  },
  {
   "cell_type": "markdown",
   "metadata": {},
   "source": [
    "### Local variables in a function are not visible outside the function"
   ]
  },
  {
   "cell_type": "code",
   "execution_count": 45,
   "metadata": {},
   "outputs": [
    {
     "ename": "NameError",
     "evalue": "name 'sin_f' is not defined",
     "output_type": "error",
     "traceback": [
      "\u001b[0;31m---------------------------------------------------------------------------\u001b[0m",
      "\u001b[0;31mNameError\u001b[0m                                 Traceback (most recent call last)",
      "\u001b[0;32m<ipython-input-45-c3aef3696856>\u001b[0m in \u001b[0;36m<module>\u001b[0;34m\u001b[0m\n\u001b[1;32m      6\u001b[0m \u001b[0mnumber\u001b[0m \u001b[0;34m=\u001b[0m \u001b[0;36m10\u001b[0m\u001b[0;34m\u001b[0m\u001b[0;34m\u001b[0m\u001b[0m\n\u001b[1;32m      7\u001b[0m \u001b[0mmath_operations\u001b[0m\u001b[0;34m(\u001b[0m\u001b[0mnumber\u001b[0m\u001b[0;34m)\u001b[0m\u001b[0;34m\u001b[0m\u001b[0;34m\u001b[0m\u001b[0m\n\u001b[0;32m----> 8\u001b[0;31m \u001b[0mprint\u001b[0m\u001b[0;34m(\u001b[0m\u001b[0;34m\"Sin of {0} is {1} and cos is {2}\"\u001b[0m\u001b[0;34m.\u001b[0m\u001b[0mformat\u001b[0m\u001b[0;34m(\u001b[0m\u001b[0mnumber\u001b[0m\u001b[0;34m,\u001b[0m \u001b[0msin_f\u001b[0m\u001b[0;34m,\u001b[0m \u001b[0mcos_f\u001b[0m\u001b[0;34m)\u001b[0m\u001b[0;34m)\u001b[0m\u001b[0;34m\u001b[0m\u001b[0;34m\u001b[0m\u001b[0m\n\u001b[0m",
      "\u001b[0;31mNameError\u001b[0m: name 'sin_f' is not defined"
     ]
    }
   ],
   "source": [
    "import math\n",
    "def math_operations(num):\n",
    "    sin_f = math.sin(num) # sin_f is a local variable\n",
    "    cos_f = math.cos(num) # cos_f is a local variable\n",
    "\n",
    "number = 10\n",
    "math_operations(number)\n",
    "print(\"Sin of {0} is {1} and cos is {2}\".format(number, sin_f, cos_f))"
   ]
  },
  {
   "cell_type": "markdown",
   "metadata": {},
   "source": [
    "### Local variables with same name as global variables do not get modified"
   ]
  },
  {
   "cell_type": "code",
   "execution_count": 46,
   "metadata": {},
   "outputs": [
    {
     "name": "stdout",
     "output_type": "stream",
     "text": [
      "sin: 5, cos: 20\n"
     ]
    }
   ],
   "source": [
    "import math\n",
    "def math_operations(num):\n",
    "    sin = math.sin(num)\n",
    "    cos = math.cos(num)\n",
    "\n",
    "number = 5\n",
    "sin = 5\n",
    "cos = 20\n",
    "math_operations(number)\n",
    "print(\"sin: {}, cos: {}\".format(sin, cos))"
   ]
  },
  {
   "cell_type": "markdown",
   "metadata": {},
   "source": [
    "### Each function has it's own local variables and they are not accessible across in other places"
   ]
  },
  {
   "cell_type": "code",
   "execution_count": 47,
   "metadata": {},
   "outputs": [
    {
     "name": "stdout",
     "output_type": "stream",
     "text": [
      "I'm trying to print local variables 10, 20 and a global variable 20\n"
     ]
    },
    {
     "ename": "NameError",
     "evalue": "name 'local2' is not defined",
     "output_type": "error",
     "traceback": [
      "\u001b[0;31m---------------------------------------------------------------------------\u001b[0m",
      "\u001b[0;31mNameError\u001b[0m                                 Traceback (most recent call last)",
      "\u001b[0;32m<ipython-input-47-8c50c3e9ad1e>\u001b[0m in \u001b[0;36m<module>\u001b[0;34m\u001b[0m\n\u001b[1;32m     12\u001b[0m \u001b[0;34m\u001b[0m\u001b[0m\n\u001b[1;32m     13\u001b[0m \u001b[0mfunc1\u001b[0m\u001b[0;34m(\u001b[0m\u001b[0;36m10\u001b[0m\u001b[0;34m)\u001b[0m\u001b[0;34m\u001b[0m\u001b[0;34m\u001b[0m\u001b[0m\n\u001b[0;32m---> 14\u001b[0;31m \u001b[0mfunc2\u001b[0m\u001b[0;34m(\u001b[0m\u001b[0;36m10\u001b[0m\u001b[0;34m)\u001b[0m\u001b[0;34m\u001b[0m\u001b[0;34m\u001b[0m\u001b[0m\n\u001b[0m",
      "\u001b[0;32m<ipython-input-47-8c50c3e9ad1e>\u001b[0m in \u001b[0;36mfunc2\u001b[0;34m(num)\u001b[0m\n\u001b[1;32m      9\u001b[0m \u001b[0;32mdef\u001b[0m \u001b[0mfunc2\u001b[0m\u001b[0;34m(\u001b[0m\u001b[0mnum\u001b[0m\u001b[0;34m)\u001b[0m\u001b[0;34m:\u001b[0m\u001b[0;34m\u001b[0m\u001b[0;34m\u001b[0m\u001b[0m\n\u001b[1;32m     10\u001b[0m     \u001b[0mlocal1\u001b[0m \u001b[0;34m=\u001b[0m \u001b[0;36m10\u001b[0m\u001b[0;34m\u001b[0m\u001b[0;34m\u001b[0m\u001b[0m\n\u001b[0;32m---> 11\u001b[0;31m     \u001b[0mprint\u001b[0m\u001b[0;34m(\u001b[0m\u001b[0;34m\"I'm trying to print local variables {}, {} and a global variable{}\"\u001b[0m\u001b[0;34m.\u001b[0m\u001b[0mformat\u001b[0m\u001b[0;34m(\u001b[0m\u001b[0mlocal1\u001b[0m\u001b[0;34m,\u001b[0m \u001b[0mlocal2\u001b[0m\u001b[0;34m,\u001b[0m \u001b[0mglobal_var\u001b[0m\u001b[0;34m)\u001b[0m\u001b[0;34m)\u001b[0m\u001b[0;34m\u001b[0m\u001b[0;34m\u001b[0m\u001b[0m\n\u001b[0m\u001b[1;32m     12\u001b[0m \u001b[0;34m\u001b[0m\u001b[0m\n\u001b[1;32m     13\u001b[0m \u001b[0mfunc1\u001b[0m\u001b[0;34m(\u001b[0m\u001b[0;36m10\u001b[0m\u001b[0;34m)\u001b[0m\u001b[0;34m\u001b[0m\u001b[0;34m\u001b[0m\u001b[0m\n",
      "\u001b[0;31mNameError\u001b[0m: name 'local2' is not defined"
     ]
    }
   ],
   "source": [
    "global_var = 20\n",
    "\n",
    "def func1(num):\n",
    "    local1 = 10\n",
    "    local2 = 20\n",
    "    print(\"I'm trying to print local variables {}, {} and a global variable {}\".format(local1, local2, global_var))\n",
    "    \n",
    "\n",
    "def func2(num):\n",
    "    local1 = 10\n",
    "    print(\"I'm trying to print local variables {}, {} and a global variable{}\".format(local1, local2, global_var))\n",
    "\n",
    "func1(10)\n",
    "func2(10)\n"
   ]
  },
  {
   "cell_type": "markdown",
   "metadata": {},
   "source": [
    "## Named Arguments: default values for arguments"
   ]
  },
  {
   "cell_type": "code",
   "execution_count": 55,
   "metadata": {},
   "outputs": [
    {
     "name": "stdout",
     "output_type": "stream",
     "text": [
      "3.0\n",
      "9\n"
     ]
    }
   ],
   "source": [
    "def calc_summary(var1, var2, var3, calc_mean = True):\n",
    "    '''this is about thr funcion'''\n",
    "    if calc_mean:\n",
    "        return (var1+var2+var3)/3\n",
    "    else:\n",
    "        return var1+var2+var3\n",
    "\n",
    "summary = calc_summary(2, 3, 4)\n",
    "print(summary)\n",
    "\n",
    "summary = calc_summary(2, 3, 4, calc_mean=False)\n",
    "print(summary)\n"
   ]
  },
  {
   "cell_type": "code",
   "execution_count": null,
   "metadata": {},
   "outputs": [],
   "source": []
  },
  {
   "cell_type": "markdown",
   "metadata": {},
   "source": [
    "## Helpers\n",
    "\n",
    "add a `?` at the end of most functions to get documentation"
   ]
  },
  {
   "cell_type": "code",
   "execution_count": 53,
   "metadata": {},
   "outputs": [],
   "source": [
    "print?"
   ]
  },
  {
   "cell_type": "code",
   "execution_count": null,
   "metadata": {},
   "outputs": [],
   "source": [
    "random?"
   ]
  },
  {
   "cell_type": "code",
   "execution_count": null,
   "metadata": {},
   "outputs": [],
   "source": [
    "random.randint?"
   ]
  },
  {
   "cell_type": "code",
   "execution_count": 56,
   "metadata": {},
   "outputs": [],
   "source": [
    "calc_summary?"
   ]
  }
 ],
 "metadata": {
  "kernelspec": {
   "display_name": "Python 3",
   "language": "python",
   "name": "python3"
  },
  "language_info": {
   "codemirror_mode": {
    "name": "ipython",
    "version": 3
   },
   "file_extension": ".py",
   "mimetype": "text/x-python",
   "name": "python",
   "nbconvert_exporter": "python",
   "pygments_lexer": "ipython3",
   "version": "3.7.4"
  }
 },
 "nbformat": 4,
 "nbformat_minor": 2
}
