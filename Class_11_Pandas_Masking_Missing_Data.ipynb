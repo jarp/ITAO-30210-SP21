{
 "cells": [
  {
   "cell_type": "code",
   "execution_count": 1,
   "metadata": {},
   "outputs": [],
   "source": [
    "import numpy as np\n",
    "import pandas as pd"
   ]
  },
  {
   "cell_type": "markdown",
   "metadata": {},
   "source": [
    "## Selecting Data from `DataFrame` Objects"
   ]
  },
  {
   "cell_type": "markdown",
   "metadata": {},
   "source": [
    "Similiarly to what we found with `Series` objects. You can interact with `DataFrame` objects in ways that sometimes resemble a dictionary and other times a NumPy array."
   ]
  },
  {
   "cell_type": "code",
   "execution_count": 2,
   "metadata": {},
   "outputs": [
    {
     "data": {
      "text/html": [
       "<div>\n",
       "<style scoped>\n",
       "    .dataframe tbody tr th:only-of-type {\n",
       "        vertical-align: middle;\n",
       "    }\n",
       "\n",
       "    .dataframe tbody tr th {\n",
       "        vertical-align: top;\n",
       "    }\n",
       "\n",
       "    .dataframe thead th {\n",
       "        text-align: right;\n",
       "    }\n",
       "</style>\n",
       "<table border=\"1\" class=\"dataframe\">\n",
       "  <thead>\n",
       "    <tr style=\"text-align: right;\">\n",
       "      <th></th>\n",
       "      <th>UNITID</th>\n",
       "      <th>OPEID</th>\n",
       "      <th>OPEID6</th>\n",
       "      <th>city</th>\n",
       "      <th>state</th>\n",
       "      <th>url</th>\n",
       "      <th>predominant_degree_code</th>\n",
       "      <th>predominant_degree_desc</th>\n",
       "      <th>institutional_owner_code</th>\n",
       "      <th>institutional_owner_desc</th>\n",
       "      <th>...</th>\n",
       "      <th>pell_grant_receipents</th>\n",
       "      <th>full_time_retention_rate_4_year</th>\n",
       "      <th>full_time_retention_rate_less_than_4_year</th>\n",
       "      <th>part_time_rentention_rate_4_year</th>\n",
       "      <th>part_time_rentention_rate_less_than_4_year</th>\n",
       "      <th>students_with_federal_loans</th>\n",
       "      <th>median_student_earnings</th>\n",
       "      <th>median_student_debt</th>\n",
       "      <th>less_than_4_year_school_completion_rate</th>\n",
       "      <th>4_year_school_completion_rate</th>\n",
       "    </tr>\n",
       "    <tr>\n",
       "      <th>institution_name</th>\n",
       "      <th></th>\n",
       "      <th></th>\n",
       "      <th></th>\n",
       "      <th></th>\n",
       "      <th></th>\n",
       "      <th></th>\n",
       "      <th></th>\n",
       "      <th></th>\n",
       "      <th></th>\n",
       "      <th></th>\n",
       "      <th></th>\n",
       "      <th></th>\n",
       "      <th></th>\n",
       "      <th></th>\n",
       "      <th></th>\n",
       "      <th></th>\n",
       "      <th></th>\n",
       "      <th></th>\n",
       "      <th></th>\n",
       "      <th></th>\n",
       "      <th></th>\n",
       "    </tr>\n",
       "  </thead>\n",
       "  <tbody>\n",
       "    <tr>\n",
       "      <td>Alaska Bible College</td>\n",
       "      <td>102580</td>\n",
       "      <td>884300</td>\n",
       "      <td>8843</td>\n",
       "      <td>Palmer</td>\n",
       "      <td>AK</td>\n",
       "      <td>www.akbible.edu/</td>\n",
       "      <td>3</td>\n",
       "      <td>Bachelors</td>\n",
       "      <td>2</td>\n",
       "      <td>PrivateNonProfit</td>\n",
       "      <td>...</td>\n",
       "      <td>0.3571</td>\n",
       "      <td>0.3333</td>\n",
       "      <td>NaN</td>\n",
       "      <td>NaN</td>\n",
       "      <td>NaN</td>\n",
       "      <td>0.2857</td>\n",
       "      <td>NaN</td>\n",
       "      <td>PrivacySuppressed</td>\n",
       "      <td>NaN</td>\n",
       "      <td>NaN</td>\n",
       "    </tr>\n",
       "    <tr>\n",
       "      <td>Alaska Career College</td>\n",
       "      <td>103501</td>\n",
       "      <td>2541000</td>\n",
       "      <td>25410</td>\n",
       "      <td>Anchorage</td>\n",
       "      <td>AK</td>\n",
       "      <td>www.alaskacareercollege.edu</td>\n",
       "      <td>1</td>\n",
       "      <td>Certificate</td>\n",
       "      <td>3</td>\n",
       "      <td>PrivateForProfit</td>\n",
       "      <td>...</td>\n",
       "      <td>0.7078</td>\n",
       "      <td>NaN</td>\n",
       "      <td>0.7941</td>\n",
       "      <td>NaN</td>\n",
       "      <td>NaN</td>\n",
       "      <td>0.7860</td>\n",
       "      <td>28700</td>\n",
       "      <td>8994</td>\n",
       "      <td>0.707589494</td>\n",
       "      <td>NaN</td>\n",
       "    </tr>\n",
       "    <tr>\n",
       "      <td>Alaska Christian College</td>\n",
       "      <td>442523</td>\n",
       "      <td>4138600</td>\n",
       "      <td>41386</td>\n",
       "      <td>Soldotna</td>\n",
       "      <td>AK</td>\n",
       "      <td>www.alaskacc.edu</td>\n",
       "      <td>1</td>\n",
       "      <td>Certificate</td>\n",
       "      <td>2</td>\n",
       "      <td>PrivateNonProfit</td>\n",
       "      <td>...</td>\n",
       "      <td>0.8868</td>\n",
       "      <td>NaN</td>\n",
       "      <td>0.4737</td>\n",
       "      <td>NaN</td>\n",
       "      <td>1.0</td>\n",
       "      <td>0.6792</td>\n",
       "      <td>NaN</td>\n",
       "      <td>PrivacySuppressed</td>\n",
       "      <td>0</td>\n",
       "      <td>NaN</td>\n",
       "    </tr>\n",
       "    <tr>\n",
       "      <td>Alaska Pacific University</td>\n",
       "      <td>102669</td>\n",
       "      <td>106100</td>\n",
       "      <td>1061</td>\n",
       "      <td>Anchorage</td>\n",
       "      <td>AK</td>\n",
       "      <td>www.alaskapacific.edu</td>\n",
       "      <td>3</td>\n",
       "      <td>Bachelors</td>\n",
       "      <td>2</td>\n",
       "      <td>PrivateNonProfit</td>\n",
       "      <td>...</td>\n",
       "      <td>0.3152</td>\n",
       "      <td>0.7742</td>\n",
       "      <td>NaN</td>\n",
       "      <td>1.0</td>\n",
       "      <td>NaN</td>\n",
       "      <td>0.5297</td>\n",
       "      <td>47000</td>\n",
       "      <td>23250</td>\n",
       "      <td>NaN</td>\n",
       "      <td>0.514833663</td>\n",
       "    </tr>\n",
       "    <tr>\n",
       "      <td>AVTEC-Alaska's Institute of Technology</td>\n",
       "      <td>102711</td>\n",
       "      <td>3160300</td>\n",
       "      <td>31603</td>\n",
       "      <td>Seward</td>\n",
       "      <td>AK</td>\n",
       "      <td>www.avtec.edu/</td>\n",
       "      <td>1</td>\n",
       "      <td>Certificate</td>\n",
       "      <td>1</td>\n",
       "      <td>Public</td>\n",
       "      <td>...</td>\n",
       "      <td>0.0737</td>\n",
       "      <td>NaN</td>\n",
       "      <td>1.0000</td>\n",
       "      <td>NaN</td>\n",
       "      <td>1.0</td>\n",
       "      <td>0.0664</td>\n",
       "      <td>33500</td>\n",
       "      <td>PrivacySuppressed</td>\n",
       "      <td>0.846055789</td>\n",
       "      <td>NaN</td>\n",
       "    </tr>\n",
       "  </tbody>\n",
       "</table>\n",
       "<p>5 rows × 62 columns</p>\n",
       "</div>"
      ],
      "text/plain": [
       "                                        UNITID    OPEID  OPEID6       city  \\\n",
       "institution_name                                                             \n",
       "Alaska Bible College                    102580   884300    8843     Palmer   \n",
       "Alaska Career College                   103501  2541000   25410  Anchorage   \n",
       "Alaska Christian College                442523  4138600   41386   Soldotna   \n",
       "Alaska Pacific University               102669   106100    1061  Anchorage   \n",
       "AVTEC-Alaska's Institute of Technology  102711  3160300   31603     Seward   \n",
       "\n",
       "                                       state                          url  \\\n",
       "institution_name                                                            \n",
       "Alaska Bible College                      AK             www.akbible.edu/   \n",
       "Alaska Career College                     AK  www.alaskacareercollege.edu   \n",
       "Alaska Christian College                  AK             www.alaskacc.edu   \n",
       "Alaska Pacific University                 AK        www.alaskapacific.edu   \n",
       "AVTEC-Alaska's Institute of Technology    AK               www.avtec.edu/   \n",
       "\n",
       "                                        predominant_degree_code  \\\n",
       "institution_name                                                  \n",
       "Alaska Bible College                                          3   \n",
       "Alaska Career College                                         1   \n",
       "Alaska Christian College                                      1   \n",
       "Alaska Pacific University                                     3   \n",
       "AVTEC-Alaska's Institute of Technology                        1   \n",
       "\n",
       "                                       predominant_degree_desc  \\\n",
       "institution_name                                                 \n",
       "Alaska Bible College                                 Bachelors   \n",
       "Alaska Career College                              Certificate   \n",
       "Alaska Christian College                           Certificate   \n",
       "Alaska Pacific University                            Bachelors   \n",
       "AVTEC-Alaska's Institute of Technology             Certificate   \n",
       "\n",
       "                                        institutional_owner_code  \\\n",
       "institution_name                                                   \n",
       "Alaska Bible College                                           2   \n",
       "Alaska Career College                                          3   \n",
       "Alaska Christian College                                       2   \n",
       "Alaska Pacific University                                      2   \n",
       "AVTEC-Alaska's Institute of Technology                         1   \n",
       "\n",
       "                                       institutional_owner_desc  ...  \\\n",
       "institution_name                                                 ...   \n",
       "Alaska Bible College                           PrivateNonProfit  ...   \n",
       "Alaska Career College                          PrivateForProfit  ...   \n",
       "Alaska Christian College                       PrivateNonProfit  ...   \n",
       "Alaska Pacific University                      PrivateNonProfit  ...   \n",
       "AVTEC-Alaska's Institute of Technology                   Public  ...   \n",
       "\n",
       "                                        pell_grant_receipents  \\\n",
       "institution_name                                                \n",
       "Alaska Bible College                                   0.3571   \n",
       "Alaska Career College                                  0.7078   \n",
       "Alaska Christian College                               0.8868   \n",
       "Alaska Pacific University                              0.3152   \n",
       "AVTEC-Alaska's Institute of Technology                 0.0737   \n",
       "\n",
       "                                        full_time_retention_rate_4_year  \\\n",
       "institution_name                                                          \n",
       "Alaska Bible College                                             0.3333   \n",
       "Alaska Career College                                               NaN   \n",
       "Alaska Christian College                                            NaN   \n",
       "Alaska Pacific University                                        0.7742   \n",
       "AVTEC-Alaska's Institute of Technology                              NaN   \n",
       "\n",
       "                                        full_time_retention_rate_less_than_4_year  \\\n",
       "institution_name                                                                    \n",
       "Alaska Bible College                                                          NaN   \n",
       "Alaska Career College                                                      0.7941   \n",
       "Alaska Christian College                                                   0.4737   \n",
       "Alaska Pacific University                                                     NaN   \n",
       "AVTEC-Alaska's Institute of Technology                                     1.0000   \n",
       "\n",
       "                                        part_time_rentention_rate_4_year  \\\n",
       "institution_name                                                           \n",
       "Alaska Bible College                                                 NaN   \n",
       "Alaska Career College                                                NaN   \n",
       "Alaska Christian College                                             NaN   \n",
       "Alaska Pacific University                                            1.0   \n",
       "AVTEC-Alaska's Institute of Technology                               NaN   \n",
       "\n",
       "                                       part_time_rentention_rate_less_than_4_year  \\\n",
       "institution_name                                                                    \n",
       "Alaska Bible College                                                          NaN   \n",
       "Alaska Career College                                                         NaN   \n",
       "Alaska Christian College                                                      1.0   \n",
       "Alaska Pacific University                                                     NaN   \n",
       "AVTEC-Alaska's Institute of Technology                                        1.0   \n",
       "\n",
       "                                        students_with_federal_loans  \\\n",
       "institution_name                                                      \n",
       "Alaska Bible College                                         0.2857   \n",
       "Alaska Career College                                        0.7860   \n",
       "Alaska Christian College                                     0.6792   \n",
       "Alaska Pacific University                                    0.5297   \n",
       "AVTEC-Alaska's Institute of Technology                       0.0664   \n",
       "\n",
       "                                        median_student_earnings  \\\n",
       "institution_name                                                  \n",
       "Alaska Bible College                                        NaN   \n",
       "Alaska Career College                                     28700   \n",
       "Alaska Christian College                                    NaN   \n",
       "Alaska Pacific University                                 47000   \n",
       "AVTEC-Alaska's Institute of Technology                    33500   \n",
       "\n",
       "                                        median_student_debt  \\\n",
       "institution_name                                              \n",
       "Alaska Bible College                      PrivacySuppressed   \n",
       "Alaska Career College                                  8994   \n",
       "Alaska Christian College                  PrivacySuppressed   \n",
       "Alaska Pacific University                             23250   \n",
       "AVTEC-Alaska's Institute of Technology    PrivacySuppressed   \n",
       "\n",
       "                                        less_than_4_year_school_completion_rate  \\\n",
       "institution_name                                                                  \n",
       "Alaska Bible College                                                        NaN   \n",
       "Alaska Career College                                               0.707589494   \n",
       "Alaska Christian College                                                      0   \n",
       "Alaska Pacific University                                                   NaN   \n",
       "AVTEC-Alaska's Institute of Technology                              0.846055789   \n",
       "\n",
       "                                        4_year_school_completion_rate  \n",
       "institution_name                                                       \n",
       "Alaska Bible College                                              NaN  \n",
       "Alaska Career College                                             NaN  \n",
       "Alaska Christian College                                          NaN  \n",
       "Alaska Pacific University                                 0.514833663  \n",
       "AVTEC-Alaska's Institute of Technology                            NaN  \n",
       "\n",
       "[5 rows x 62 columns]"
      ]
     },
     "execution_count": 2,
     "metadata": {},
     "output_type": "execute_result"
    }
   ],
   "source": [
    "college_scorecard = pd.read_csv(\n",
    "    './data/college-scorecard-data-scrubbed.csv', \n",
    "    encoding='latin-1',\n",
    "    index_col = 'institution_name')\n",
    "college_scorecard.head()"
   ]
  },
  {
   "cell_type": "markdown",
   "metadata": {},
   "source": [
    "### Masking\n",
    "\n",
    "Masking operations likewise return rows from a `DataFrame`, but the **criteria of the masks will be a comparison on one of the columns/Series**. This is somewhat confusing sounding, so let's just demonstrate:"
   ]
  },
  {
   "cell_type": "code",
   "execution_count": null,
   "metadata": {},
   "outputs": [],
   "source": [
    "college_scorecard['state'] == 'AK'"
   ]
  },
  {
   "cell_type": "code",
   "execution_count": null,
   "metadata": {},
   "outputs": [],
   "source": [
    "# Return all rows where the 'state' Series has a value of 'AK'\n",
    "college_scorecard[ college_scorecard['state'] == 'AK']"
   ]
  },
  {
   "cell_type": "code",
   "execution_count": null,
   "metadata": {},
   "outputs": [],
   "source": [
    "# Which colleges in IN offer Bachelors degrees?\n",
    "# Again, notice the parathesis here\n",
    "# Also, notice that I'm assigning it to a variable so that I can use it later\n",
    "colleges_IN_Bachelors = college_scorecard[\n",
    "    (college_scorecard['state'] == 'IN') & \n",
    "    (college_scorecard['predominant_degree_desc'] == 'Bachelors')\n",
    "    ]"
   ]
  },
  {
   "cell_type": "markdown",
   "metadata": {},
   "source": [
    "**NOTE**: You can break down the right hand side of the assignment into two lines for readability of the code. "
   ]
  },
  {
   "cell_type": "code",
   "execution_count": null,
   "metadata": {},
   "outputs": [],
   "source": [
    "colleges_IN_Bachelors"
   ]
  },
  {
   "cell_type": "code",
   "execution_count": null,
   "metadata": {},
   "outputs": [],
   "source": [
    "# how many colleges met the criteria?\n",
    "print(len(colleges_IN_Bachelors))\n",
    "colleges_IN_Bachelors.shape[0]\n"
   ]
  },
  {
   "cell_type": "markdown",
   "metadata": {},
   "source": [
    "### Selecting Multiple Columns of DataFrame"
   ]
  },
  {
   "cell_type": "code",
   "execution_count": null,
   "metadata": {},
   "outputs": [],
   "source": [
    "two_columns = college_scorecard[ ['state', 'predominant_degree_desc'] ]\n",
    "two_columns.head()"
   ]
  },
  {
   "cell_type": "markdown",
   "metadata": {},
   "source": [
    "**NOTE**: Among the two sets of square brackets `[[ ]]`, the first set is used to select the columns, the second set is used to list the columns you want to select. "
   ]
  },
  {
   "cell_type": "markdown",
   "metadata": {},
   "source": [
    "# Handling Missing Data"
   ]
  },
  {
   "cell_type": "code",
   "execution_count": null,
   "metadata": {},
   "outputs": [],
   "source": [
    "none_val = None\n",
    "print(type(none_val))\n",
    "print(none_val is None)"
   ]
  },
  {
   "cell_type": "code",
   "execution_count": null,
   "metadata": {},
   "outputs": [],
   "source": [
    "none_val*5"
   ]
  },
  {
   "cell_type": "code",
   "execution_count": null,
   "metadata": {},
   "outputs": [],
   "source": [
    "# what is this included None?\n",
    "vals1 = np.array([1, 3, None, 4])\n",
    "vals1*5"
   ]
  },
  {
   "cell_type": "code",
   "execution_count": null,
   "metadata": {},
   "outputs": [],
   "source": [
    "vals1"
   ]
  },
  {
   "cell_type": "code",
   "execution_count": null,
   "metadata": {},
   "outputs": [],
   "source": [
    "np.sum(vals1)"
   ]
  },
  {
   "cell_type": "markdown",
   "metadata": {},
   "source": [
    "### NaN: Missing numerical data\n",
    "\n",
    "NaN stands for Not-a-Number"
   ]
  },
  {
   "cell_type": "code",
   "execution_count": null,
   "metadata": {},
   "outputs": [],
   "source": [
    "vals1 = np.array([1, np.nan, 3, 4])\n",
    "vals1*5"
   ]
  },
  {
   "cell_type": "code",
   "execution_count": null,
   "metadata": {},
   "outputs": [],
   "source": [
    "vals1"
   ]
  },
  {
   "cell_type": "code",
   "execution_count": null,
   "metadata": {},
   "outputs": [],
   "source": [
    "vals1.dtype"
   ]
  },
  {
   "cell_type": "code",
   "execution_count": null,
   "metadata": {},
   "outputs": [],
   "source": [
    "np.sum(vals1)"
   ]
  },
  {
   "cell_type": "markdown",
   "metadata": {},
   "source": [
    "**Sum of any true number and a nan is a nan**"
   ]
  },
  {
   "cell_type": "markdown",
   "metadata": {},
   "source": [
    "### np.nansum\n",
    "\n",
    "Used to treat nan as a zero in adding the elements of the array"
   ]
  },
  {
   "cell_type": "code",
   "execution_count": null,
   "metadata": {},
   "outputs": [],
   "source": [
    "np.nansum(vals1)"
   ]
  },
  {
   "cell_type": "code",
   "execution_count": null,
   "metadata": {},
   "outputs": [],
   "source": [
    "# lots of nan related functions...\n",
    "np.nanmedian(vals1)\n"
   ]
  },
  {
   "cell_type": "markdown",
   "metadata": {},
   "source": [
    "### NaN and None in pandas\n",
    "\n",
    "Pandas converts both NaN and None as NaN"
   ]
  },
  {
   "cell_type": "code",
   "execution_count": null,
   "metadata": {},
   "outputs": [],
   "source": [
    "simple_series = pd.Series([1,np.nan, 2, None])"
   ]
  },
  {
   "cell_type": "code",
   "execution_count": null,
   "metadata": {},
   "outputs": [],
   "source": [
    "simple_series"
   ]
  },
  {
   "cell_type": "code",
   "execution_count": null,
   "metadata": {},
   "outputs": [],
   "source": [
    "print(\"sums up total:  \", simple_series.sum())\n",
    "print(\"averages of existing numbers:  \", simple_series.mean())"
   ]
  },
  {
   "cell_type": "markdown",
   "metadata": {},
   "source": [
    "## Operating on Null Values\n",
    "\n",
    "The following functions help in detecting and handling the null values in Pandas package\n",
    "\n",
    "| Ufunc for missing values              | Description |                         \n",
    "|---------------------|----------------------------------------------------------|\n",
    "|``isnull()``          |Generate a Boolean mask indicating missing values         |\n",
    "|``notnull()``      |Opposite of isnull()                                      |\n",
    "|``dropna()``           |Return a filtered version of the data                     |\n",
    "|``fillna()``         |Return a copy of the data with missing values filled      |\n"
   ]
  },
  {
   "cell_type": "code",
   "execution_count": null,
   "metadata": {},
   "outputs": [],
   "source": [
    "simple_data = pd.Series([1,np.nan, 'Hello', None])\n",
    "simple_data"
   ]
  },
  {
   "cell_type": "code",
   "execution_count": null,
   "metadata": {},
   "outputs": [],
   "source": [
    "simple_data.isnull()"
   ]
  },
  {
   "cell_type": "code",
   "execution_count": null,
   "metadata": {},
   "outputs": [],
   "source": [
    "~simple_data.isnull()"
   ]
  },
  {
   "cell_type": "code",
   "execution_count": null,
   "metadata": {},
   "outputs": [],
   "source": [
    "simple_data[ ~simple_data.isnull() ]"
   ]
  },
  {
   "cell_type": "code",
   "execution_count": null,
   "metadata": {},
   "outputs": [],
   "source": [
    "simple_data[simple_data.notnull()]"
   ]
  },
  {
   "cell_type": "code",
   "execution_count": null,
   "metadata": {},
   "outputs": [],
   "source": [
    "simple_data"
   ]
  },
  {
   "cell_type": "code",
   "execution_count": null,
   "metadata": {},
   "outputs": [],
   "source": [
    "simple_data.dropna()"
   ]
  },
  {
   "cell_type": "code",
   "execution_count": null,
   "metadata": {},
   "outputs": [],
   "source": [
    "df = pd.DataFrame([[1,      np.nan, 2],\n",
    "                   [2,      3,      5],\n",
    "                   [np.nan, 4,    6]])\n",
    "\n",
    "df"
   ]
  },
  {
   "cell_type": "code",
   "execution_count": null,
   "metadata": {},
   "outputs": [],
   "source": [
    "df.dropna()"
   ]
  },
  {
   "cell_type": "code",
   "execution_count": null,
   "metadata": {},
   "outputs": [],
   "source": [
    "df.dropna(axis=1)"
   ]
  },
  {
   "cell_type": "code",
   "execution_count": null,
   "metadata": {},
   "outputs": [],
   "source": []
  },
  {
   "cell_type": "markdown",
   "metadata": {},
   "source": [
    "<div class=\"alert alert-block alert-info\">\n",
    "<p>\n",
    "There are other optional parameters that are offered by the ``dropna()`` function on dataframe, like, ``how`` and ``thresh``. **Look at Page 126 of the textbook for more details.** </p>\n",
    "</div> "
   ]
  },
  {
   "cell_type": "code",
   "execution_count": null,
   "metadata": {},
   "outputs": [],
   "source": [
    "df"
   ]
  },
  {
   "cell_type": "code",
   "execution_count": null,
   "metadata": {
    "scrolled": true
   },
   "outputs": [],
   "source": [
    "df.fillna(100)"
   ]
  },
  {
   "cell_type": "code",
   "execution_count": null,
   "metadata": {},
   "outputs": [],
   "source": [
    "df"
   ]
  },
  {
   "cell_type": "code",
   "execution_count": null,
   "metadata": {},
   "outputs": [],
   "source": [
    "df = df.fillna(100)"
   ]
  },
  {
   "cell_type": "code",
   "execution_count": null,
   "metadata": {},
   "outputs": [],
   "source": [
    "df"
   ]
  },
  {
   "cell_type": "markdown",
   "metadata": {},
   "source": [
    "<div class=\"alert alert-block alert-info\">\n",
    "<p>\n",
    "There are other optional parameter called method that are offered by the ``fillna()`` function on dataframe, like, ``method='ffill'`` and ``method='bfill'``. **Look at Page 127 of the textbook for more details.** </p>\n",
    "\n",
    "<p>\n",
    "**Also, read other important keyword argument ``inplace``. What happens when it is set to `False` and `True`? **\n",
    "</p>\n",
    "</div> "
   ]
  },
  {
   "cell_type": "markdown",
   "metadata": {},
   "source": [
    "## Working with dataset with missing values\n",
    "\n",
    "Marketing dataset: This dataset contains questions from questionaries that were filled out by shopping mall customers in the San Francisco Bay area. The goal is to predict the Anual Income of Household from the other 13 demographics attributes. [Source](http://sci2s.ugr.es/keel/dataset.php?cod=163)\n",
    "\n",
    "[Data Dictionary](http://sci2s.ugr.es/keel/dataset/data/classification/marketing-names.txt)"
   ]
  },
  {
   "cell_type": "code",
   "execution_count": null,
   "metadata": {},
   "outputs": [],
   "source": [
    "mark_data = pd.read_csv('./data/marketing.csv')"
   ]
  },
  {
   "cell_type": "code",
   "execution_count": null,
   "metadata": {
    "scrolled": true
   },
   "outputs": [],
   "source": [
    "mark_data.head()"
   ]
  },
  {
   "cell_type": "code",
   "execution_count": null,
   "metadata": {},
   "outputs": [],
   "source": [
    "mark_data[ ['YearsInSf', 'Language']]"
   ]
  },
  {
   "cell_type": "code",
   "execution_count": null,
   "metadata": {},
   "outputs": [],
   "source": [
    "mark_data[ ['YearsInSf', 'Language']].isnull()"
   ]
  },
  {
   "cell_type": "code",
   "execution_count": null,
   "metadata": {},
   "outputs": [],
   "source": [
    "mark_data.isnull()"
   ]
  },
  {
   "cell_type": "code",
   "execution_count": null,
   "metadata": {},
   "outputs": [],
   "source": [
    "mark_data[ ['YearsInSf', 'Language']].isnull().mean()"
   ]
  },
  {
   "cell_type": "code",
   "execution_count": null,
   "metadata": {},
   "outputs": [],
   "source": [
    "mark_data.sample(15)\n",
    "print(mark_data.shape)\n",
    "dropped_df = mark_data.dropna(axis=1)\n",
    "print(dropped_df.shape)"
   ]
  },
  {
   "cell_type": "markdown",
   "metadata": {},
   "source": [
    "### Activity:\n",
    "\n",
    "* How many total responders in the dataset? \n"
   ]
  },
  {
   "cell_type": "code",
   "execution_count": null,
   "metadata": {},
   "outputs": [],
   "source": [
    "len(mark_data)\n",
    "mark_data.shape[0]"
   ]
  },
  {
   "cell_type": "markdown",
   "metadata": {},
   "source": [
    "\n",
    "* How many missing values for each attribute (column) in the dataset? \n"
   ]
  },
  {
   "cell_type": "code",
   "execution_count": null,
   "metadata": {},
   "outputs": [],
   "source": [
    "null_counts = mark_data.isnull().sum()\n",
    "# when you aggregate a dataframe like this, the columns become the index. Neat!\n",
    "print(null_counts.index)\n",
    "null_counts"
   ]
  },
  {
   "cell_type": "markdown",
   "metadata": {},
   "source": [
    "\n",
    "\n",
    "* Which attribute has the most missing values in the dataset? (**Hint**: To get the index of the maximum element you can use [`idxmax()`](https://pandas.pydata.org/pandas-docs/stable/generated/pandas.Series.idxmax.html) function)\n",
    "\n"
   ]
  },
  {
   "cell_type": "code",
   "execution_count": null,
   "metadata": {},
   "outputs": [],
   "source": [
    "# the most missing column\n",
    "null_counts.idxmax()\n",
    "\n",
    "# # the least missing column, but only first found\n",
    "null_counts.idxmin()\n",
    "\n",
    "# # get all the columns with no missing data\n",
    "null_counts[null_counts == 0]"
   ]
  },
  {
   "cell_type": "markdown",
   "metadata": {},
   "source": [
    "\n",
    "* How do you fill the missing values with a `0`? \n"
   ]
  },
  {
   "cell_type": "code",
   "execution_count": null,
   "metadata": {},
   "outputs": [],
   "source": [
    "mark_data_filled = mark_data.fillna(0)\n",
    "mark_data_filled.sample(10)"
   ]
  },
  {
   "cell_type": "markdown",
   "metadata": {},
   "source": [
    "\n",
    "* **Most Common Use**: Can you fill each missing value with the corresponding average for that attribute? \n",
    "    * For example, if 'Education' attribute is missing for a person, can you find the average 'Education' of all people and fill that missing 'Age' with that average. See if you can figure out how you would do that."
   ]
  },
  {
   "cell_type": "code",
   "execution_count": null,
   "metadata": {},
   "outputs": [],
   "source": [
    "mark_data['Education'].unique()\n",
    "avg_ed = mark_data['Education'].mean()\n",
    "avg_ed\n",
    "new = mark_data['Education'].fillna(avg_ed)\n",
    "new"
   ]
  },
  {
   "cell_type": "markdown",
   "metadata": {},
   "source": [
    "## Activity"
   ]
  },
  {
   "cell_type": "code",
   "execution_count": null,
   "metadata": {},
   "outputs": [],
   "source": [
    "mark_data = pd.read_csv('./data/marketing.csv')"
   ]
  },
  {
   "cell_type": "code",
   "execution_count": null,
   "metadata": {
    "scrolled": true
   },
   "outputs": [],
   "source": [
    "mark_data.head()"
   ]
  },
  {
   "cell_type": "markdown",
   "metadata": {},
   "source": [
    "* How many elements of Occupation are missing? Default all the missing values for Occupation to `1`. Write a line of code that verifies there is no more missing data."
   ]
  },
  {
   "cell_type": "code",
   "execution_count": null,
   "metadata": {},
   "outputs": [],
   "source": []
  },
  {
   "cell_type": "markdown",
   "metadata": {},
   "source": [
    "* Drop all the cols with missing data into a new data frame"
   ]
  },
  {
   "cell_type": "code",
   "execution_count": null,
   "metadata": {},
   "outputs": [],
   "source": []
  },
  {
   "cell_type": "markdown",
   "metadata": {},
   "source": [
    "* Drop all the rows with missing data  into a new data frame"
   ]
  },
  {
   "cell_type": "code",
   "execution_count": null,
   "metadata": {
    "scrolled": true
   },
   "outputs": [],
   "source": []
  }
 ],
 "metadata": {
  "kernelspec": {
   "display_name": "Python 3",
   "language": "python",
   "name": "python3"
  },
  "language_info": {
   "codemirror_mode": {
    "name": "ipython",
    "version": 3
   },
   "file_extension": ".py",
   "mimetype": "text/x-python",
   "name": "python",
   "nbconvert_exporter": "python",
   "pygments_lexer": "ipython3",
   "version": "3.7.4"
  }
 },
 "nbformat": 4,
 "nbformat_minor": 2
}
