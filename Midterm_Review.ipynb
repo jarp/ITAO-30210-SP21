{
 "cells": [
  {
   "cell_type": "markdown",
   "metadata": {},
   "source": [
    "# Variable Assignments and Data Types"
   ]
  },
  {
   "cell_type": "code",
   "execution_count": 1,
   "metadata": {},
   "outputs": [
    {
     "name": "stdout",
     "output_type": "stream",
     "text": [
      "3\n",
      "March\n"
     ]
    }
   ],
   "source": [
    "name = \"Jonathan\"\n",
    "birth_month = 3\n",
    "print(birth_month)\n",
    "birth_month = \"March\"\n",
    "print(birth_month)"
   ]
  },
  {
   "cell_type": "markdown",
   "metadata": {},
   "source": [
    "## Fancy Print and Input Statements"
   ]
  },
  {
   "cell_type": "code",
   "execution_count": 2,
   "metadata": {},
   "outputs": [
    {
     "name": "stdout",
     "output_type": "stream",
     "text": [
      "Jonathan March\n",
      "Jonathan was born in March\n",
      "Jonathan was born in March\n"
     ]
    }
   ],
   "source": [
    "print(name, birth_month)\n",
    "print(name + \" was born in \" + birth_month)\n",
    "print(\"{} was born in {}\".format(name, birth_month))\n",
    "\n",
    "# who would you specifiy the order on insertions\n",
    "# what about formatting numbers? IE. If you want to round to 2 decimel points?"
   ]
  },
  {
   "cell_type": "code",
   "execution_count": 3,
   "metadata": {},
   "outputs": [
    {
     "name": "stdout",
     "output_type": "stream",
     "text": [
      "what is your name? \n",
      "jon\n",
      "what is your birth month? \n",
      "3/23\n",
      "jon was born in 3/23\n"
     ]
    }
   ],
   "source": [
    "print(\"what is your name? \")\n",
    "your_name = input()\n",
    "print(\"what is your birth month? \")\n",
    "your_birth_month = input()\n",
    "print(\"{} was born in {}\".format(your_name, your_birth_month))"
   ]
  },
  {
   "cell_type": "code",
   "execution_count": null,
   "metadata": {},
   "outputs": [],
   "source": [
    "your_name = input(\"What is your name? \")\n",
    "your_birth_month = input(\"What month were you born in? \")\n",
    "print(\"{} was born in {}\".format(your_name, your_birth_month))"
   ]
  },
  {
   "cell_type": "markdown",
   "metadata": {},
   "source": [
    "## Converting between Data Types"
   ]
  },
  {
   "cell_type": "code",
   "execution_count": 4,
   "metadata": {},
   "outputs": [
    {
     "name": "stdout",
     "output_type": "stream",
     "text": [
      "42 is a <class 'str'>\n",
      "42 is a <class 'int'>\n",
      "4.2 is a <class 'float'>\n",
      "4.2 is a <class 'str'>\n",
      "4 is a <class 'int'>\n"
     ]
    }
   ],
   "source": [
    "my_var = \"42\"\n",
    "print(\"{} is a {}\".format(my_var, type(my_var)))\n",
    "\n",
    "my_var = 42\n",
    "print(\"{} is a {}\".format(my_var, type(my_var)))\n",
    "\n",
    "my_var = 4.2\n",
    "print(\"{} is a {}\".format(my_var, type(my_var)))\n",
    "\n",
    "my_float_as_str = str(my_var)\n",
    "print(\"{} is a {}\".format(my_float_as_str, type(my_float_as_str)))\n",
    "\n",
    "my_float_as_str_and_back_again_but_then_an_integer = int(float(my_float_as_str))\n",
    "print(\"{} is a {}\".format(my_float_as_str_and_back_again_but_then_an_integer, type(my_float_as_str_and_back_again_but_then_an_integer)))\n",
    "\n",
    "# my_float_as_str_and_back_again_but_then_an_integer is a bad variable name..."
   ]
  },
  {
   "cell_type": "code",
   "execution_count": 5,
   "metadata": {},
   "outputs": [
    {
     "name": "stdout",
     "output_type": "stream",
     "text": [
      "Give me a number... 3\n",
      "Give me another number... 4\n",
      "result:  34\n"
     ]
    },
    {
     "ename": "TypeError",
     "evalue": "can't multiply sequence by non-int of type 'str'",
     "output_type": "error",
     "traceback": [
      "\u001b[0;31m---------------------------------------------------------------------------\u001b[0m",
      "\u001b[0;31mTypeError\u001b[0m                                 Traceback (most recent call last)",
      "\u001b[0;32m<ipython-input-5-4c838487e4b0>\u001b[0m in \u001b[0;36m<module>\u001b[0;34m\u001b[0m\n\u001b[1;32m      5\u001b[0m \u001b[0;34m\u001b[0m\u001b[0m\n\u001b[1;32m      6\u001b[0m \u001b[0mprint\u001b[0m\u001b[0;34m(\u001b[0m\u001b[0;34m\"result: \"\u001b[0m\u001b[0;34m,\u001b[0m \u001b[0mnum1\u001b[0m \u001b[0;34m+\u001b[0m \u001b[0mnum2\u001b[0m\u001b[0;34m)\u001b[0m\u001b[0;34m\u001b[0m\u001b[0;34m\u001b[0m\u001b[0m\n\u001b[0;32m----> 7\u001b[0;31m \u001b[0mprint\u001b[0m\u001b[0;34m(\u001b[0m\u001b[0;34m\"result: \"\u001b[0m\u001b[0;34m,\u001b[0m \u001b[0mnum1\u001b[0m \u001b[0;34m*\u001b[0m \u001b[0mnum2\u001b[0m\u001b[0;34m)\u001b[0m\u001b[0;34m\u001b[0m\u001b[0;34m\u001b[0m\u001b[0m\n\u001b[0m",
      "\u001b[0;31mTypeError\u001b[0m: can't multiply sequence by non-int of type 'str'"
     ]
    }
   ],
   "source": [
    "# what's going on here?\n",
    "\n",
    "num1 = input(\"Give me a number... \")\n",
    "num2 = input(\"Give me another number... \")\n",
    "\n",
    "print(\"result: \", num1 + num2)\n",
    "print(\"result: \", num1 * num2)"
   ]
  },
  {
   "cell_type": "markdown",
   "metadata": {},
   "source": [
    "# Flow Control with Conditionals and Boolean Operators"
   ]
  },
  {
   "cell_type": "code",
   "execution_count": 6,
   "metadata": {},
   "outputs": [
    {
     "name": "stdout",
     "output_type": "stream",
     "text": [
      "Give me a number... 2\n",
      "Your number is even\n"
     ]
    }
   ],
   "source": [
    "num = int(input(\"Give me a number... \"))\n",
    "\n",
    "if num % 2 == 0:\n",
    "    print(\"Your number is even\")"
   ]
  },
  {
   "cell_type": "code",
   "execution_count": 7,
   "metadata": {},
   "outputs": [
    {
     "name": "stdout",
     "output_type": "stream",
     "text": [
      "Give me a number... 3\n",
      "your number is odd\n"
     ]
    }
   ],
   "source": [
    "num = int(input(\"Give me a number... \"))\n",
    "\n",
    "if num % 2 == 0:\n",
    "    print(\"Your number is even\")\n",
    "else: \n",
    "    print(\"your number is odd\")"
   ]
  },
  {
   "cell_type": "code",
   "execution_count": 8,
   "metadata": {},
   "outputs": [
    {
     "name": "stdout",
     "output_type": "stream",
     "text": [
      "How many pounds do you want? 100\n",
      "How much money you got? 10000\n",
      "total cost:  250.0\n",
      "diff:  9750.0\n",
      "Sure thing buddy. Where is your 9750.00 in change\n"
     ]
    }
   ],
   "source": [
    "price = 2.50\n",
    "#Step 1: Accept the inputs\n",
    "amount = int(input(\"How many pounds do you want? \"))\n",
    "money = int(input(\"How much money you got? \"))\n",
    "\n",
    "total_cost = amount * price\n",
    "diff = money - total_cost\n",
    "\n",
    "print(\"total cost: \",total_cost)\n",
    "print(\"diff: \", diff)\n",
    "#Step 2: Calculate the change\n",
    "#Step 3: Conditional statement to print the output  \n",
    "\n",
    "if diff > 0:\n",
    "    print(\"Sure thing buddy. Where is your {:.2f} in change\".format(diff))\n",
    "elif diff < 0:\n",
    "    print(\"Uh oh. You still need {:.2f} monies\".format(diff * -1))\n",
    "else:\n",
    "    print(\"WOW. Exact change!\")\n"
   ]
  },
  {
   "cell_type": "code",
   "execution_count": 9,
   "metadata": {},
   "outputs": [
    {
     "name": "stdout",
     "output_type": "stream",
     "text": [
      "Give me a year. 2000\n",
      "Nope. boring year\n",
      "But at least it's even!\n"
     ]
    }
   ],
   "source": [
    "# Conditional logic can become more complicated\n",
    "year = int(input(\"Give me a year. \"))\n",
    "\n",
    "if (year % 4 == 0) and (year % 100 != 0):\n",
    "    print(\"yep. leap year\")\n",
    "else:\n",
    "    print(\"Nope. boring year\")\n",
    "    if year % 2 == 0:\n",
    "        print(\"But at least it's even!\")\n"
   ]
  },
  {
   "cell_type": "markdown",
   "metadata": {},
   "source": [
    "When using operators like `and` and `or` in a conditional statement... what are the other options?\n",
    "\n",
    "How are the different that what you use (later) with array like objects in numpy?"
   ]
  },
  {
   "cell_type": "markdown",
   "metadata": {},
   "source": [
    "# Loops"
   ]
  },
  {
   "cell_type": "markdown",
   "metadata": {},
   "source": [
    "## for loops"
   ]
  },
  {
   "cell_type": "code",
   "execution_count": 10,
   "metadata": {},
   "outputs": [
    {
     "name": "stdout",
     "output_type": "stream",
     "text": [
      "a sequence of numbers\n",
      "0\n",
      "1\n",
      "2\n",
      "3\n",
      "4\n",
      "5\n",
      "6\n",
      "7\n",
      "8\n",
      "9\n",
      "a sequence of odd numbers\n",
      "1\n",
      "3\n",
      "5\n",
      "7\n",
      "9\n",
      "11\n",
      "13\n",
      "15\n",
      "also a sequence of odd numbers\n",
      "1\n",
      "3\n",
      "5\n",
      "7\n",
      "9\n",
      "11\n",
      "13\n",
      "15\n"
     ]
    }
   ],
   "source": [
    "print(\"a sequence of numbers\")\n",
    "for el in range(10):\n",
    "    print(el)\n",
    "\n",
    "print(\"a sequence of odd numbers\")\n",
    "for i in range(16):\n",
    "    if i % 2 == 1:\n",
    "        print(i)    \n",
    "    \n",
    "print(\"also a sequence of odd numbers\")\n",
    "for i in range(1,16,2):\n",
    "    print(i)"
   ]
  },
  {
   "cell_type": "markdown",
   "metadata": {},
   "source": [
    "## while loops"
   ]
  },
  {
   "cell_type": "code",
   "execution_count": 11,
   "metadata": {},
   "outputs": [
    {
     "name": "stdout",
     "output_type": "stream",
     "text": [
      "print numbers until the value is greater than 10\n",
      "0 is not greater than 10\n",
      "1 is not greater than 10\n",
      "2 is not greater than 10\n",
      "3 is not greater than 10\n",
      "4 is not greater than 10\n",
      "5 is not greater than 10\n",
      "6 is not greater than 10\n",
      "7 is not greater than 10\n",
      "8 is not greater than 10\n",
      "9 is not greater than 10\n"
     ]
    }
   ],
   "source": [
    "print(\"print numbers until the value is greater than 10\")\n",
    "i = 0\n",
    "while(i<10):\n",
    "    print(str(i) + \" is not greater than 10\")\n",
    "    i = i + 1\n"
   ]
  },
  {
   "cell_type": "code",
   "execution_count": 12,
   "metadata": {},
   "outputs": [
    {
     "name": "stdout",
     "output_type": "stream",
     "text": [
      "What movie won the 2020 Best Picture at the Oscars? asdf\n",
      "Nope. Guess again\n",
      "What movie won the 2020 Best Picture at the Oscars? Parasite\n",
      "Correct!!!\n"
     ]
    }
   ],
   "source": [
    "# understand how this works and what 'break' means on ln 16\n",
    "# Go back an review/practice the version of this (Presidents) with the three hints\n",
    "\n",
    "answer = \"Parasite\"\n",
    "is_correct = False\n",
    "counter = 0\n",
    "while not is_correct:\n",
    "    guess = input(\"What movie won the 2020 Best Picture at the Oscars? \")\n",
    "    counter  = counter + 1\n",
    "    if guess == answer:\n",
    "        is_correct = True\n",
    "        print(\"Correct!!!\")\n",
    "    else:\n",
    "        print(\"Nope. Guess again\")\n",
    "        \n",
    "        if counter > 5:\n",
    "            print(\"Sorry. Out of guesses\")\n",
    "            break"
   ]
  },
  {
   "cell_type": "markdown",
   "metadata": {},
   "source": [
    "# Functions"
   ]
  },
  {
   "cell_type": "code",
   "execution_count": 13,
   "metadata": {},
   "outputs": [
    {
     "data": {
      "text/plain": [
       "'55555'"
      ]
     },
     "execution_count": 13,
     "metadata": {},
     "output_type": "execute_result"
    }
   ],
   "source": [
    "def repeater(arg):\n",
    "    # notice what happens when you multiply a string\n",
    "    return str(arg) * 5\n",
    "\n",
    "repeater(5)"
   ]
  },
  {
   "cell_type": "code",
   "execution_count": 14,
   "metadata": {},
   "outputs": [
    {
     "data": {
      "text/plain": [
       "'woofwoofwoofwoofwoof'"
      ]
     },
     "execution_count": 14,
     "metadata": {},
     "output_type": "execute_result"
    }
   ],
   "source": [
    "def repeater(word, count=5):\n",
    "    return str(word) * count\n",
    "\n",
    "repeater(\"woof\")"
   ]
  },
  {
   "cell_type": "code",
   "execution_count": 16,
   "metadata": {},
   "outputs": [
    {
     "name": "stdout",
     "output_type": "stream",
     "text": [
      "woof woof woof woof woof woof woof woof woof woof \n",
      "None\n"
     ]
    }
   ],
   "source": [
    "# What's different here? What will it return?\n",
    "def repeater(word, count=5):\n",
    "   print(str(word) * count)\n",
    "\n",
    "result = repeater(\"woof \",10)\n",
    "\n",
    "print(result)"
   ]
  },
  {
   "cell_type": "markdown",
   "metadata": {},
   "source": [
    "## Scopes: Private vs. Global"
   ]
  },
  {
   "cell_type": "code",
   "execution_count": 17,
   "metadata": {},
   "outputs": [
    {
     "name": "stdout",
     "output_type": "stream",
     "text": [
      "foobarfoobarfoobarfoobar\n"
     ]
    },
    {
     "ename": "NameError",
     "evalue": "name 'private_var' is not defined",
     "output_type": "error",
     "traceback": [
      "\u001b[0;31m---------------------------------------------------------------------------\u001b[0m",
      "\u001b[0;31mNameError\u001b[0m                                 Traceback (most recent call last)",
      "\u001b[0;32m<ipython-input-17-015f26886ff7>\u001b[0m in \u001b[0;36m<module>\u001b[0;34m\u001b[0m\n\u001b[1;32m      5\u001b[0m \u001b[0msomething\u001b[0m \u001b[0;34m=\u001b[0m \u001b[0mprivate_example\u001b[0m\u001b[0;34m(\u001b[0m\u001b[0;34m'foobar'\u001b[0m\u001b[0;34m)\u001b[0m\u001b[0;34m\u001b[0m\u001b[0;34m\u001b[0m\u001b[0m\n\u001b[1;32m      6\u001b[0m \u001b[0mprint\u001b[0m\u001b[0;34m(\u001b[0m\u001b[0msomething\u001b[0m\u001b[0;34m)\u001b[0m\u001b[0;34m\u001b[0m\u001b[0;34m\u001b[0m\u001b[0m\n\u001b[0;32m----> 7\u001b[0;31m \u001b[0mprint\u001b[0m\u001b[0;34m(\u001b[0m\u001b[0mprivate_var\u001b[0m\u001b[0;34m)\u001b[0m\u001b[0;34m\u001b[0m\u001b[0;34m\u001b[0m\u001b[0m\n\u001b[0m\u001b[1;32m      8\u001b[0m \u001b[0;34m\u001b[0m\u001b[0m\n\u001b[1;32m      9\u001b[0m \u001b[0;31m# What are the rules for private and public variables?\u001b[0m\u001b[0;34m\u001b[0m\u001b[0;34m\u001b[0m\u001b[0;34m\u001b[0m\u001b[0m\n",
      "\u001b[0;31mNameError\u001b[0m: name 'private_var' is not defined"
     ]
    }
   ],
   "source": [
    "def private_example(arg):\n",
    "    private_var = \"secret\"\n",
    "    return arg * 4\n",
    "\n",
    "something = private_example('foobar')\n",
    "print(something)\n",
    "print(private_var)\n",
    "\n",
    "# What are the rules for private and public variables?\n",
    "# how does it affect lists that are assigned by reference?"
   ]
  },
  {
   "cell_type": "markdown",
   "metadata": {},
   "source": [
    "# Lists"
   ]
  },
  {
   "cell_type": "code",
   "execution_count": 20,
   "metadata": {},
   "outputs": [
    {
     "name": "stdout",
     "output_type": "stream",
     "text": [
      "[1, 2.0, 3, None, False, 'word', [1, 2, 3]]\n",
      "first item is index 0: 1\n",
      "last item is index -1: [1, 2, 3]\n",
      "slice the list using ':' : [3, None, False]\n",
      "slice the list using '::-2' : [[1, 2, 3], False, 3, 1]\n"
     ]
    }
   ],
   "source": [
    "# python lists are heterogeneous. they can contain anything\n",
    "list1 = [1,2.0,3,None,False,\"word\", [1,2,3]]\n",
    "print(list1)\n",
    "\n",
    "# access lists via index\n",
    "print(\"first item is index 0: {}\".format(  list1[0]  ))\n",
    "print(\"last item is index -1: {}\".format(  list1[-1]  ))\n",
    "print(\"slice the list using ':' : {}\".format(  list1[2:5]  ))\n",
    "print(\"slice the list using '::-2' : {}\".format(  list1[::-2]  ))\n"
   ]
  },
  {
   "cell_type": "code",
   "execution_count": 18,
   "metadata": {},
   "outputs": [
    {
     "name": "stdout",
     "output_type": "stream",
     "text": [
      "var 1 is: foobar\n",
      "var 1 is now: foobar\n",
      "var 2 is: bazz\n",
      "list 2 is: [1, 2, 3]\n",
      "list 2 is now: [100, 2, 3]\n"
     ]
    }
   ],
   "source": [
    "# Assignment by reference\n",
    "\n",
    "var_1 = \"foobar\"\n",
    "\n",
    "print(\"var 1 is: {}\".format(var_1))\n",
    "var_2 = var_1\n",
    "\n",
    "var_2 = \"bazz\"\n",
    "print(\"var 1 is now: {}\".format(var_1))\n",
    "print(\"var 2 is: {}\".format(var_2))\n",
    "\n",
    "list2 = [1,2,3]\n",
    "print(\"list 2 is: {}\".format(list2))\n",
    "list3 = list2\n",
    "\n",
    "list3[0] = 100\n",
    "\n",
    "print(\"list 2 is now: {}\".format(list2))\n",
    "\n",
    "# if you want to make ana actual copy of a list, how do you do that?"
   ]
  },
  {
   "cell_type": "code",
   "execution_count": 21,
   "metadata": {},
   "outputs": [
    {
     "name": "stdout",
     "output_type": "stream",
     "text": [
      "\n",
      "for loop backwards\n",
      "[1, 2, 3] <class 'list'>\n",
      "word <class 'str'>\n",
      "False <class 'bool'>\n",
      "None <class 'NoneType'>\n",
      "3 <class 'int'>\n",
      "2.0 <class 'float'>\n",
      "1 <class 'int'>\n",
      "\n",
      "while loop\n",
      "1 <class 'int'>\n",
      "2.0 <class 'float'>\n",
      "3 <class 'int'>\n",
      "None <class 'NoneType'>\n",
      "False <class 'bool'>\n",
      "word <class 'str'>\n",
      "[1, 2, 3] <class 'list'>\n"
     ]
    }
   ],
   "source": [
    "# use for loops to loop through lists\n",
    "print(\"\\nfor loop backwards\")\n",
    "for i in list1[::-1]:\n",
    "    print(i, type(i))\n",
    "    \n",
    "# But you could use a while loop using a counter and len() to get the number of items in the list\n",
    "print(\"\\nwhile loop\")\n",
    "i = 0\n",
    "while i < len(list1):\n",
    "    item_at_index = list1[i]\n",
    "    print(item_at_index, type(item_at_index))\n",
    "    i = i + 1\n"
   ]
  },
  {
   "cell_type": "code",
   "execution_count": 22,
   "metadata": {},
   "outputs": [
    {
     "name": "stdout",
     "output_type": "stream",
     "text": [
      "python\n",
      "Best programming languages... ruby\n",
      "Best programming languages... java\n",
      "Best programming languages... c\n",
      ":-(\n"
     ]
    }
   ],
   "source": [
    "print(\"Python\".lower())\n",
    "words = []\n",
    "\n",
    "# Accept 5 words\n",
    "for i in range(3):\n",
    "    word = input(\"Best programming languages... \")\n",
    "    words.append(word.lower())\n",
    "\n",
    "# check if value is in list\n",
    "if \"python\" in words:\n",
    "    print(\"Nice to include Python!\")\n",
    "else:\n",
    "    print(\":-(\")"
   ]
  },
  {
   "cell_type": "code",
   "execution_count": 23,
   "metadata": {},
   "outputs": [
    {
     "data": {
      "text/plain": [
       "['Notre Dame', 'Trash', 'Brown', 'Chicago']"
      ]
     },
     "execution_count": 23,
     "metadata": {},
     "output_type": "execute_result"
    }
   ],
   "source": [
    "# What is list comprehension?\n",
    "schools = ['Notre Dame', 'Michigan', 'Brown', 'Chicago']\n",
    "[\"Trash\" if s == 'Michigan' else s for s in schools]"
   ]
  },
  {
   "cell_type": "code",
   "execution_count": 24,
   "metadata": {},
   "outputs": [
    {
     "name": "stdout",
     "output_type": "stream",
     "text": [
      "[1, 2, 3, 4, 1, 2, 3, 4, 1, 2, 3, 4, 1, 2, 3, 4, 1, 2, 3, 4]\n",
      "['one', 'two', 'three', 'one', 'two', 'three', 'one', 'two', 'three', 'one', 'two', 'three', 'one', 'two', 'three']\n"
     ]
    }
   ],
   "source": [
    "# you can do fun things with lists\n",
    "list_of_strs = ['one', 'two', 'three']\n",
    "list_of_nums = [1,2,3,4]\n",
    "print(list_of_nums * 5)\n",
    "print(list_of_strs * 5)\n",
    "# print(list_of_nums * list_of_strs)"
   ]
  },
  {
   "cell_type": "code",
   "execution_count": null,
   "metadata": {},
   "outputs": [],
   "source": [
    "# what are max() min()... functions used for?\n",
    "# what's the difference between append() and insert()\n",
    "\n",
    "# What place in data analytics do lists have? \n",
    "# what are some some things python lists can do that arrays can't?\n",
    "    # When and where should you use them or not use them?"
   ]
  },
  {
   "cell_type": "markdown",
   "metadata": {},
   "source": [
    "# Fixed Type Arrays"
   ]
  },
  {
   "cell_type": "code",
   "execution_count": 25,
   "metadata": {},
   "outputs": [
    {
     "name": "stdout",
     "output_type": "stream",
     "text": [
      "[0, 1, 2, 3, 4, 5, 6, 7, 8, 9]\n",
      "array('i', [0, 1, 2, 3, 4, 5, 6, 7, 8, 9])\n",
      "array('f', [0.0, 1.0, 2.0, 3.0, 4.0, 5.0, 6.0, 7.0, 8.0, 9.0])\n"
     ]
    }
   ],
   "source": [
    "import array\n",
    "\n",
    "basic_list = list(range(10))\n",
    "print(basic_list)\n",
    "\n",
    "# designate type as integer\n",
    "basic_array = array.array('i',basic_list)\n",
    "print(basic_array)\n",
    "\n",
    "# designate type as float\n",
    "basic_f_array = array.array('f',basic_list)\n",
    "print(basic_f_array)\n",
    "\n",
    "# what similarities do lists and arrays have? Differences?"
   ]
  },
  {
   "cell_type": "markdown",
   "metadata": {},
   "source": [
    "# Importing Modules"
   ]
  },
  {
   "cell_type": "code",
   "execution_count": 2,
   "metadata": {},
   "outputs": [],
   "source": [
    "# we imported array which is part of basic python, just not loaded automatically\n",
    "# but we also use 3rd party modules that also need to be loaded using import\n",
    "# what does `as` do?\n",
    "\n",
    "import numpy as np\n",
    "import pandas as pd"
   ]
  },
  {
   "cell_type": "markdown",
   "metadata": {},
   "source": [
    "# NumPy - Numerical Python"
   ]
  },
  {
   "cell_type": "code",
   "execution_count": null,
   "metadata": {},
   "outputs": [],
   "source": [
    "list_of_ints = [0, 1, 2, 3, 4, 5]\n",
    "list_to_np = np.array(list_of_ints)\n",
    "print(list_to_np)\n",
    "print(type(list_to_np))\n",
    "\n",
    "\n",
    "# How do you create np arrays from scratch?"
   ]
  },
  {
   "cell_type": "code",
   "execution_count": 27,
   "metadata": {},
   "outputs": [
    {
     "name": "stdout",
     "output_type": "stream",
     "text": [
      "0\n",
      "9\n",
      "[2 3 4 5 6]\n",
      "[7 6 5 4 3]\n"
     ]
    }
   ],
   "source": [
    "np_array = np.array(range(10))\n",
    "np_range = np.arange(10)\n",
    "\n",
    "\n",
    "print(np_range[0])\n",
    "print(np_range[-1])\n",
    "print(np_range[2:7])\n",
    "print(np_range[7:2:-1])\n",
    "\n",
    "# seems a lot like lists..."
   ]
  },
  {
   "cell_type": "code",
   "execution_count": 28,
   "metadata": {},
   "outputs": [
    {
     "data": {
      "text/plain": [
       "array([[2, 3, 4],\n",
       "       [4, 5, 6],\n",
       "       [6, 7, 8]])"
      ]
     },
     "execution_count": 28,
     "metadata": {},
     "output_type": "execute_result"
    }
   ],
   "source": [
    "# 2 dimensional arrays FTW!\n",
    "two_dimensional_array = np.array([range(i, i + 3) for i in [2, 4, 6]])\n",
    "two_dimensional_array"
   ]
  },
  {
   "cell_type": "code",
   "execution_count": 29,
   "metadata": {},
   "outputs": [
    {
     "name": "stdout",
     "output_type": "stream",
     "text": [
      "Get the 0th indexed row (only specify an \"x\" coordinate)\n",
      "[2 3 4]\n",
      "Get the 3nd indexed (index 2) row\n",
      "[6 7 8]\n",
      "Get 2nd indexed row and then get the 2nd indexed (1) column  in that row. \n",
      "7\n",
      "Go through each array and collect the first element in each\n",
      "[2 4 6]\n",
      "Go through each array starting at index 1 and up to but not includeing 3 and return the first of those arrays\n",
      "[4 5 6]\n",
      "Go through each array and return a slice containing the first of those arrays\n",
      "[[2]\n",
      " [4]\n",
      " [6]]\n"
     ]
    }
   ],
   "source": [
    "print(\"Get the 0th indexed row (only specify an \\\"x\\\" coordinate)\")\n",
    "print(two_dimensional_array[0])\n",
    "\n",
    "print(\"Get the 3nd indexed (index 2) row\")\n",
    "print(two_dimensional_array[2])\n",
    "\n",
    "print(\"Get 2nd indexed row and then get the 2nd indexed (1) column  in that row. \")\n",
    "print(two_dimensional_array[2][1])\n",
    "\n",
    "print('Go through each array and collect the first element in each')\n",
    "print(two_dimensional_array[:3,0])\n",
    "\n",
    "print('Go through each array starting at index 1 and up to but not includeing 3 and return the first of those arrays')\n",
    "print(two_dimensional_array[1:3][0])\n",
    "\n",
    "print('Go through each array and return a slice containing the first of those arrays')\n",
    "print(two_dimensional_array[:,:1])"
   ]
  },
  {
   "cell_type": "code",
   "execution_count": null,
   "metadata": {},
   "outputs": [],
   "source": [
    "# Numpy Attributes\n",
    "\n",
    "#     ndim\n",
    "#     shape\n",
    "#     size\n",
    "#     dtype\n",
    "#     itemsize\n",
    "#     nbytes"
   ]
  },
  {
   "cell_type": "code",
   "execution_count": 30,
   "metadata": {},
   "outputs": [
    {
     "name": "stdout",
     "output_type": "stream",
     "text": [
      "[ 2  5  1 89  3  0]\n",
      "[ 0  1  2  3  5 89]\n",
      "[ 2  5  1 89  3  0]\n"
     ]
    }
   ],
   "source": [
    "# sort an array\n",
    "\n",
    "new_array = np.array([2,5,1,89,3,0])\n",
    "print(new_array)\n",
    "print(np.sort(new_array))\n",
    "print(new_array)\n",
    "\n",
    "# sorting is not remembered? How are two ways you could make it 'stick'?"
   ]
  },
  {
   "cell_type": "code",
   "execution_count": null,
   "metadata": {},
   "outputs": [],
   "source": [
    "# How would you split numpy arrays?"
   ]
  },
  {
   "cell_type": "markdown",
   "metadata": {},
   "source": [
    "## Univeral Functions (UFuncts)"
   ]
  },
  {
   "cell_type": "code",
   "execution_count": 31,
   "metadata": {},
   "outputs": [
    {
     "name": "stdout",
     "output_type": "stream",
     "text": [
      "[ 0  1  4  9 16]\n",
      "[0.  0.5 1.  1.5 2. ]\n",
      "[0 1 0 1 0]\n",
      "10\n"
     ]
    }
   ],
   "source": [
    "# don't use loops or list type operations on np arrays. Use universal functions\n",
    "# why ^^\n",
    "np_array = np.array(range(5))\n",
    "\n",
    "print(np_array ** 2)\n",
    "print(np_array / 2)\n",
    "print(np_array % 2)\n",
    "print(np.sum(np_array))\n",
    "\n",
    "# what is the other syntax to accomplish this?\n",
    "# what are the other arithmetic ufuncts available? What do they do?"
   ]
  },
  {
   "cell_type": "code",
   "execution_count": 32,
   "metadata": {},
   "outputs": [
    {
     "name": "stdout",
     "output_type": "stream",
     "text": [
      "[ 7  9 11 13 15]\n",
      "[0.16666667 0.28571429 0.375      0.44444444 0.5       ]\n"
     ]
    }
   ],
   "source": [
    "arr_1 = np.arange(1, 6)\n",
    "arr_2 = np.arange(6, 11)\n",
    "\n",
    "print(arr_1 + arr_2)\n",
    "print(arr_1 / arr_2)"
   ]
  },
  {
   "cell_type": "code",
   "execution_count": 33,
   "metadata": {},
   "outputs": [
    {
     "name": "stdout",
     "output_type": "stream",
     "text": [
      "2 dim: \n",
      " [[2 3 4]\n",
      " [4 5 6]\n",
      " [6 7 8]]\n",
      "new array: \n",
      " [1 2 3]\n",
      "multipy: \n",
      " [[ 2  6 12]\n",
      " [ 4 10 18]\n",
      " [ 6 14 24]]\n",
      "add: \n",
      " [[ 3  5  7]\n",
      " [ 5  7  9]\n",
      " [ 7  9 11]]\n"
     ]
    }
   ],
   "source": [
    "print(\"2 dim: \\n\", two_dimensional_array)\n",
    "arr_3 = np.array([1,2,3])\n",
    "print(\"new array: \\n\",arr_3)\n",
    "\n",
    "print(\"multipy: \\n\", two_dimensional_array * arr_3)\n",
    "print(\"add: \\n\", two_dimensional_array + arr_3)"
   ]
  },
  {
   "cell_type": "code",
   "execution_count": 34,
   "metadata": {},
   "outputs": [
    {
     "name": "stdout",
     "output_type": "stream",
     "text": [
      "[1 2]\n"
     ]
    },
    {
     "ename": "ValueError",
     "evalue": "operands could not be broadcast together with shapes (3,3) (2,) ",
     "output_type": "error",
     "traceback": [
      "\u001b[0;31m---------------------------------------------------------------------------\u001b[0m",
      "\u001b[0;31mValueError\u001b[0m                                Traceback (most recent call last)",
      "\u001b[0;32m<ipython-input-34-2b4e97f2cd36>\u001b[0m in \u001b[0;36m<module>\u001b[0;34m\u001b[0m\n\u001b[1;32m      4\u001b[0m \u001b[0mprint\u001b[0m\u001b[0;34m(\u001b[0m\u001b[0marr_4\u001b[0m\u001b[0;34m)\u001b[0m\u001b[0;34m\u001b[0m\u001b[0;34m\u001b[0m\u001b[0m\n\u001b[1;32m      5\u001b[0m \u001b[0;34m\u001b[0m\u001b[0m\n\u001b[0;32m----> 6\u001b[0;31m \u001b[0mtwo_dimensional_array\u001b[0m \u001b[0;34m*\u001b[0m \u001b[0marr_4\u001b[0m\u001b[0;34m\u001b[0m\u001b[0;34m\u001b[0m\u001b[0m\n\u001b[0m",
      "\u001b[0;31mValueError\u001b[0m: operands could not be broadcast together with shapes (3,3) (2,) "
     ]
    }
   ],
   "source": [
    "# why doesn't this work\n",
    "\n",
    "arr_4 = np.array([1,2])\n",
    "print(arr_4)\n",
    "\n",
    "two_dimensional_array * arr_4"
   ]
  },
  {
   "cell_type": "code",
   "execution_count": 35,
   "metadata": {},
   "outputs": [
    {
     "name": "stdout",
     "output_type": "stream",
     "text": [
      "array: \n",
      " [[2 3 4]\n",
      " [4 5 6]\n",
      " [6 7 8]]\n",
      "array 5: \n",
      " [[1], [5], [10]]\n",
      "array + 5: \n",
      " [[ 3  4  5]\n",
      " [ 9 10 11]\n",
      " [16 17 18]]\n",
      "array 6: \n",
      " [[1], [5], [10]]\n",
      "array + 6: \n",
      " [[ 3  8 14]\n",
      " [ 5 10 16]\n",
      " [ 7 12 18]]\n"
     ]
    }
   ],
   "source": [
    "# but then why does this work?\n",
    "arr_5 = [[1],[5],[10]]\n",
    "arr_6 = [1,5,10]\n",
    "print(\"array: \\n\",two_dimensional_array)\n",
    "print(\"array 5: \\n\",arr_5)\n",
    "print(\"array + 5: \\n\",two_dimensional_array + arr_5)\n",
    "print(\"array 6: \\n\",arr_5)\n",
    "print(\"array + 6: \\n\",two_dimensional_array + arr_6)"
   ]
  },
  {
   "cell_type": "markdown",
   "metadata": {},
   "source": [
    "## Aggregation"
   ]
  },
  {
   "cell_type": "code",
   "execution_count": 36,
   "metadata": {},
   "outputs": [
    {
     "name": "stdout",
     "output_type": "stream",
     "text": [
      "250036.25\n",
      "72.0\n",
      "1000145\n"
     ]
    }
   ],
   "source": [
    "# what are the aggregation functions available?\n",
    "\n",
    "np_array_2 = np.array([1,45,99,1000000])\n",
    "\n",
    "print(np.mean(np_array_2))\n",
    "print(np.median(np_array_2))\n",
    "print(np.sum(np_array_2))"
   ]
  },
  {
   "cell_type": "markdown",
   "metadata": {},
   "source": [
    "## Masking"
   ]
  },
  {
   "cell_type": "code",
   "execution_count": 37,
   "metadata": {},
   "outputs": [
    {
     "data": {
      "text/plain": [
       "array([ 0,  1,  2,  3,  4,  5,  6,  7,  8,  9, 10, 11, 12, 13, 14, 15, 16,\n",
       "       17, 18, 19, 20, 21, 22, 23, 24, 25, 26, 27, 28, 29, 30, 31, 32, 33,\n",
       "       34, 35, 36, 37, 38, 39, 40, 41, 42, 43, 44, 45, 46, 47, 48, 49, 50,\n",
       "       51, 52, 53, 54, 55, 56, 57, 58, 59, 60, 61, 62, 63, 64, 65, 66, 67,\n",
       "       68, 69, 70, 71, 72, 73, 74, 75, 76, 77, 78, 79, 80, 81, 82, 83, 84,\n",
       "       85, 86, 87, 88, 89, 90, 91, 92, 93, 94, 95, 96, 97, 98, 99])"
      ]
     },
     "execution_count": 37,
     "metadata": {},
     "output_type": "execute_result"
    }
   ],
   "source": [
    "# What is masking?\n",
    "\n",
    "array_of_nums = np.arange(100)\n",
    "array_of_nums"
   ]
  },
  {
   "cell_type": "code",
   "execution_count": 38,
   "metadata": {},
   "outputs": [
    {
     "data": {
      "text/plain": [
       "array([ True, False, False,  True, False, False,  True, False, False,\n",
       "        True, False, False,  True, False, False,  True, False, False,\n",
       "        True, False, False,  True, False, False,  True, False, False,\n",
       "        True, False, False,  True, False, False,  True, False, False,\n",
       "        True, False, False,  True, False, False,  True, False, False,\n",
       "        True, False, False,  True, False, False,  True, False, False,\n",
       "        True, False, False,  True, False, False,  True, False, False,\n",
       "        True, False, False,  True, False, False,  True, False, False,\n",
       "        True, False, False,  True, False, False,  True, False, False,\n",
       "        True, False, False,  True, False, False,  True, False, False,\n",
       "        True, False, False,  True, False, False,  True, False, False,\n",
       "        True])"
      ]
     },
     "execution_count": 38,
     "metadata": {},
     "output_type": "execute_result"
    }
   ],
   "source": [
    "array_of_nums % 3 == 0"
   ]
  },
  {
   "cell_type": "code",
   "execution_count": 39,
   "metadata": {},
   "outputs": [
    {
     "name": "stdout",
     "output_type": "stream",
     "text": [
      "there are 34 numbers in the list that are divisible by 3\n",
      "there are 17 numbers in the list that are divisible by 3 and 2\n",
      "there are 44 numbers in the list that are divisible by 3 or 7\n"
     ]
    }
   ],
   "source": [
    "# what is going on in each of these? What are the other bitwise operators?\n",
    "# how do they line up with the regular operators in python?\n",
    "\n",
    "div_by_3 = array_of_nums % 3 == 0\n",
    "print(\"there are {} numbers in the list that are divisible by 3\".format(div_by_3.sum()))\n",
    "\n",
    "div_by_3_and_2 = (array_of_nums % 3 == 0) & (array_of_nums % 2 == 0)\n",
    "print(\"there are {} numbers in the list that are divisible by 3 and 2\".format(div_by_3_and_2.sum()))\n",
    "\n",
    "div_by_3_or_7 = (array_of_nums % 3 == 0) | (array_of_nums % 7 == 0)\n",
    "print(\"there are {} numbers in the list that are divisible by 3 or 7\".format(div_by_3_or_7.sum()))"
   ]
  },
  {
   "cell_type": "markdown",
   "metadata": {},
   "source": [
    "# Dictionaries"
   ]
  },
  {
   "cell_type": "code",
   "execution_count": 40,
   "metadata": {},
   "outputs": [
    {
     "name": "stdout",
     "output_type": "stream",
     "text": [
      "{'name': 'Jonathan', 'age': '24', 'honestly_level': 0, 'pets': ['Chi Chi the Chinchilla', 'Buckley', 'Sebastian'], 'Good Teacher': False}\n",
      "{'name': 'Jonathan', 'age': '32', 'honestly_level': 3, 'pets': ['Chi Chi the Chinchilla', 'Buckley', 'Sebastian'], 'Good Teacher': False, 'misc': 'foo bar bazz'}\n",
      "Chi Chi the Chinchilla\n",
      "Buckley\n",
      "Sebastian\n"
     ]
    }
   ],
   "source": [
    "# basic dictionary\n",
    "\n",
    "person = {\n",
    "    \"name\": \"Jonathan\",\n",
    "    \"age\": \"24\",\n",
    "    \"honestly_level\": 0,\n",
    "    \"pets\": [\"Chi Chi the Chinchilla\", \"Buckley\", \"Sebastian\"],\n",
    "    \"Good Teacher\": False\n",
    "}\n",
    "print(person)\n",
    "\n",
    "jonathan = person\n",
    "jonathan['age'] = \"32\"\n",
    "jonathan['honestly_level'] = 3\n",
    "jonathan[\"misc\"] = \"foo bar bazz\"\n",
    "\n",
    "print(person)\n",
    "\n",
    "for pet in person[\"pets\"]:\n",
    "    print(pet)"
   ]
  },
  {
   "cell_type": "code",
   "execution_count": null,
   "metadata": {},
   "outputs": [],
   "source": [
    "# hey hey hey hey na na na goodbye\n",
    "sent = input(\"Enter a sentence: \")\n",
    "\n",
    "# Convert the sentence to a list of words using split() function\n",
    "words_list = sent.split()\n",
    "\n",
    "# Create an empty dictionary that contains words and frequencies\n",
    "word_counts = {}\n",
    "# Iterate through every word in the list\n",
    "for w in words_list:\n",
    "    if w in word_counts:\n",
    "        word_counts[w] = word_counts[w] + 1\n",
    "    else:\n",
    "        word_counts[w] = 1\n",
    "\n",
    "print(word_counts)\n"
   ]
  },
  {
   "cell_type": "markdown",
   "metadata": {},
   "source": [
    "# Pandas"
   ]
  },
  {
   "cell_type": "markdown",
   "metadata": {},
   "source": [
    "## Loading and Viewing Data"
   ]
  },
  {
   "cell_type": "code",
   "execution_count": 44,
   "metadata": {},
   "outputs": [
    {
     "data": {
      "text/html": [
       "<div>\n",
       "<style scoped>\n",
       "    .dataframe tbody tr th:only-of-type {\n",
       "        vertical-align: middle;\n",
       "    }\n",
       "\n",
       "    .dataframe tbody tr th {\n",
       "        vertical-align: top;\n",
       "    }\n",
       "\n",
       "    .dataframe thead th {\n",
       "        text-align: right;\n",
       "    }\n",
       "</style>\n",
       "<table border=\"1\" class=\"dataframe\">\n",
       "  <thead>\n",
       "    <tr style=\"text-align: right;\">\n",
       "      <th></th>\n",
       "      <th>id</th>\n",
       "      <th>num</th>\n",
       "      <th>name</th>\n",
       "      <th>img</th>\n",
       "      <th>type</th>\n",
       "      <th>height</th>\n",
       "      <th>weight</th>\n",
       "      <th>candy</th>\n",
       "      <th>candy_count</th>\n",
       "      <th>egg</th>\n",
       "      <th>spawn_chance</th>\n",
       "      <th>avg_spawns</th>\n",
       "      <th>spawn_time</th>\n",
       "      <th>multipliers</th>\n",
       "      <th>weaknesses</th>\n",
       "      <th>next_evolution</th>\n",
       "      <th>prev_evolution</th>\n",
       "    </tr>\n",
       "  </thead>\n",
       "  <tbody>\n",
       "    <tr>\n",
       "      <td>0</td>\n",
       "      <td>1</td>\n",
       "      <td>1</td>\n",
       "      <td>Bulbasaur</td>\n",
       "      <td>http://www.serebii.net/pokemongo/pokemon/001.png</td>\n",
       "      <td>[Grass, Poison]</td>\n",
       "      <td>0.71 m</td>\n",
       "      <td>6.9 kg</td>\n",
       "      <td>Bulbasaur Candy</td>\n",
       "      <td>25.0</td>\n",
       "      <td>2 km</td>\n",
       "      <td>0.690</td>\n",
       "      <td>69.0</td>\n",
       "      <td>20:00</td>\n",
       "      <td>[1.58]</td>\n",
       "      <td>[Fire, Ice, Flying, Psychic]</td>\n",
       "      <td>[{'num': '002', 'name': 'Ivysaur'}, {'num': '0...</td>\n",
       "      <td>NaN</td>\n",
       "    </tr>\n",
       "    <tr>\n",
       "      <td>1</td>\n",
       "      <td>2</td>\n",
       "      <td>2</td>\n",
       "      <td>Ivysaur</td>\n",
       "      <td>http://www.serebii.net/pokemongo/pokemon/002.png</td>\n",
       "      <td>[Grass, Poison]</td>\n",
       "      <td>0.99 m</td>\n",
       "      <td>13.0 kg</td>\n",
       "      <td>Bulbasaur Candy</td>\n",
       "      <td>100.0</td>\n",
       "      <td>Not in Eggs</td>\n",
       "      <td>0.042</td>\n",
       "      <td>4.2</td>\n",
       "      <td>07:00</td>\n",
       "      <td>[1.2, 1.6]</td>\n",
       "      <td>[Fire, Ice, Flying, Psychic]</td>\n",
       "      <td>[{'num': '003', 'name': 'Venusaur'}]</td>\n",
       "      <td>[{'num': '001', 'name': 'Bulbasaur'}]</td>\n",
       "    </tr>\n",
       "    <tr>\n",
       "      <td>2</td>\n",
       "      <td>3</td>\n",
       "      <td>3</td>\n",
       "      <td>Venusaur</td>\n",
       "      <td>http://www.serebii.net/pokemongo/pokemon/003.png</td>\n",
       "      <td>[Grass, Poison]</td>\n",
       "      <td>2.01 m</td>\n",
       "      <td>100.0 kg</td>\n",
       "      <td>Bulbasaur Candy</td>\n",
       "      <td>NaN</td>\n",
       "      <td>Not in Eggs</td>\n",
       "      <td>0.017</td>\n",
       "      <td>1.7</td>\n",
       "      <td>11:30</td>\n",
       "      <td>None</td>\n",
       "      <td>[Fire, Ice, Flying, Psychic]</td>\n",
       "      <td>NaN</td>\n",
       "      <td>[{'num': '001', 'name': 'Bulbasaur'}, {'num': ...</td>\n",
       "    </tr>\n",
       "    <tr>\n",
       "      <td>3</td>\n",
       "      <td>4</td>\n",
       "      <td>4</td>\n",
       "      <td>Charmander</td>\n",
       "      <td>http://www.serebii.net/pokemongo/pokemon/004.png</td>\n",
       "      <td>[Fire]</td>\n",
       "      <td>0.61 m</td>\n",
       "      <td>8.5 kg</td>\n",
       "      <td>Charmander Candy</td>\n",
       "      <td>25.0</td>\n",
       "      <td>2 km</td>\n",
       "      <td>0.253</td>\n",
       "      <td>25.3</td>\n",
       "      <td>08:45</td>\n",
       "      <td>[1.65]</td>\n",
       "      <td>[Water, Ground, Rock]</td>\n",
       "      <td>[{'num': '005', 'name': 'Charmeleon'}, {'num':...</td>\n",
       "      <td>NaN</td>\n",
       "    </tr>\n",
       "    <tr>\n",
       "      <td>4</td>\n",
       "      <td>5</td>\n",
       "      <td>5</td>\n",
       "      <td>Charmeleon</td>\n",
       "      <td>http://www.serebii.net/pokemongo/pokemon/005.png</td>\n",
       "      <td>[Fire]</td>\n",
       "      <td>1.09 m</td>\n",
       "      <td>19.0 kg</td>\n",
       "      <td>Charmander Candy</td>\n",
       "      <td>100.0</td>\n",
       "      <td>Not in Eggs</td>\n",
       "      <td>0.012</td>\n",
       "      <td>1.2</td>\n",
       "      <td>19:00</td>\n",
       "      <td>[1.79]</td>\n",
       "      <td>[Water, Ground, Rock]</td>\n",
       "      <td>[{'num': '006', 'name': 'Charizard'}]</td>\n",
       "      <td>[{'num': '004', 'name': 'Charmander'}]</td>\n",
       "    </tr>\n",
       "  </tbody>\n",
       "</table>\n",
       "</div>"
      ],
      "text/plain": [
       "   id  num        name                                               img  \\\n",
       "0   1    1   Bulbasaur  http://www.serebii.net/pokemongo/pokemon/001.png   \n",
       "1   2    2     Ivysaur  http://www.serebii.net/pokemongo/pokemon/002.png   \n",
       "2   3    3    Venusaur  http://www.serebii.net/pokemongo/pokemon/003.png   \n",
       "3   4    4  Charmander  http://www.serebii.net/pokemongo/pokemon/004.png   \n",
       "4   5    5  Charmeleon  http://www.serebii.net/pokemongo/pokemon/005.png   \n",
       "\n",
       "              type  height    weight             candy  candy_count  \\\n",
       "0  [Grass, Poison]  0.71 m    6.9 kg   Bulbasaur Candy         25.0   \n",
       "1  [Grass, Poison]  0.99 m   13.0 kg   Bulbasaur Candy        100.0   \n",
       "2  [Grass, Poison]  2.01 m  100.0 kg   Bulbasaur Candy          NaN   \n",
       "3           [Fire]  0.61 m    8.5 kg  Charmander Candy         25.0   \n",
       "4           [Fire]  1.09 m   19.0 kg  Charmander Candy        100.0   \n",
       "\n",
       "           egg  spawn_chance  avg_spawns spawn_time multipliers  \\\n",
       "0         2 km         0.690        69.0      20:00      [1.58]   \n",
       "1  Not in Eggs         0.042         4.2      07:00  [1.2, 1.6]   \n",
       "2  Not in Eggs         0.017         1.7      11:30        None   \n",
       "3         2 km         0.253        25.3      08:45      [1.65]   \n",
       "4  Not in Eggs         0.012         1.2      19:00      [1.79]   \n",
       "\n",
       "                     weaknesses  \\\n",
       "0  [Fire, Ice, Flying, Psychic]   \n",
       "1  [Fire, Ice, Flying, Psychic]   \n",
       "2  [Fire, Ice, Flying, Psychic]   \n",
       "3         [Water, Ground, Rock]   \n",
       "4         [Water, Ground, Rock]   \n",
       "\n",
       "                                      next_evolution  \\\n",
       "0  [{'num': '002', 'name': 'Ivysaur'}, {'num': '0...   \n",
       "1               [{'num': '003', 'name': 'Venusaur'}]   \n",
       "2                                                NaN   \n",
       "3  [{'num': '005', 'name': 'Charmeleon'}, {'num':...   \n",
       "4              [{'num': '006', 'name': 'Charizard'}]   \n",
       "\n",
       "                                      prev_evolution  \n",
       "0                                                NaN  \n",
       "1              [{'num': '001', 'name': 'Bulbasaur'}]  \n",
       "2  [{'num': '001', 'name': 'Bulbasaur'}, {'num': ...  \n",
       "3                                                NaN  \n",
       "4             [{'num': '004', 'name': 'Charmander'}]  "
      ]
     },
     "execution_count": 44,
     "metadata": {},
     "output_type": "execute_result"
    }
   ],
   "source": [
    "# this is loading a JSON file. \n",
    "# How do we load CSV files? How so you write a dataframe to file?\n",
    "pokedex = pd.read_json('./data/pokedex.json')\n",
    "pokedex.head()"
   ]
  },
  {
   "cell_type": "markdown",
   "metadata": {},
   "source": [
    "## Dataframes and Series"
   ]
  },
  {
   "cell_type": "code",
   "execution_count": 42,
   "metadata": {},
   "outputs": [
    {
     "name": "stdout",
     "output_type": "stream",
     "text": [
      "<class 'pandas.core.frame.DataFrame'>\n",
      "<class 'pandas.core.series.Series'>\n",
      "Index(['id', 'num', 'name', 'img', 'type', 'height', 'weight', 'candy',\n",
      "       'candy_count', 'egg', 'spawn_chance', 'avg_spawns', 'spawn_time',\n",
      "       'multipliers', 'weaknesses', 'next_evolution', 'prev_evolution'],\n",
      "      dtype='object')\n"
     ]
    }
   ],
   "source": [
    "# dataframe consists of columns and rows\n",
    "print(type(pokedex))\n",
    "# columns act like a key from a dictionary and the value is the series (think numpy array)\n",
    "name_series = pokedex['name']\n",
    "print(type(name_series))\n",
    "print(pokedex.keys())"
   ]
  },
  {
   "cell_type": "code",
   "execution_count": 46,
   "metadata": {},
   "outputs": [
    {
     "name": "stdout",
     "output_type": "stream",
     "text": [
      "RangeIndex(start=0, stop=151, step=1)\n",
      "Index(['Bulbasaur', 'Ivysaur', 'Venusaur', 'Charmander', 'Charmeleon',\n",
      "       'Charizard', 'Squirtle', 'Wartortle', 'Blastoise', 'Caterpie',\n",
      "       ...\n",
      "       'Aerodactyl', 'Snorlax', 'Articuno', 'Zapdos', 'Moltres', 'Dratini',\n",
      "       'Dragonair', 'Dragonite', 'Mewtwo', 'Mew'],\n",
      "      dtype='object', name='name', length=151)\n"
     ]
    },
    {
     "data": {
      "text/html": [
       "<div>\n",
       "<style scoped>\n",
       "    .dataframe tbody tr th:only-of-type {\n",
       "        vertical-align: middle;\n",
       "    }\n",
       "\n",
       "    .dataframe tbody tr th {\n",
       "        vertical-align: top;\n",
       "    }\n",
       "\n",
       "    .dataframe thead th {\n",
       "        text-align: right;\n",
       "    }\n",
       "</style>\n",
       "<table border=\"1\" class=\"dataframe\">\n",
       "  <thead>\n",
       "    <tr style=\"text-align: right;\">\n",
       "      <th></th>\n",
       "      <th>id</th>\n",
       "      <th>num</th>\n",
       "      <th>img</th>\n",
       "      <th>type</th>\n",
       "      <th>height</th>\n",
       "      <th>weight</th>\n",
       "      <th>candy</th>\n",
       "      <th>candy_count</th>\n",
       "      <th>egg</th>\n",
       "      <th>spawn_chance</th>\n",
       "      <th>avg_spawns</th>\n",
       "      <th>spawn_time</th>\n",
       "      <th>multipliers</th>\n",
       "      <th>weaknesses</th>\n",
       "      <th>next_evolution</th>\n",
       "      <th>prev_evolution</th>\n",
       "    </tr>\n",
       "    <tr>\n",
       "      <th>name</th>\n",
       "      <th></th>\n",
       "      <th></th>\n",
       "      <th></th>\n",
       "      <th></th>\n",
       "      <th></th>\n",
       "      <th></th>\n",
       "      <th></th>\n",
       "      <th></th>\n",
       "      <th></th>\n",
       "      <th></th>\n",
       "      <th></th>\n",
       "      <th></th>\n",
       "      <th></th>\n",
       "      <th></th>\n",
       "      <th></th>\n",
       "      <th></th>\n",
       "    </tr>\n",
       "  </thead>\n",
       "  <tbody>\n",
       "    <tr>\n",
       "      <td>Bulbasaur</td>\n",
       "      <td>1</td>\n",
       "      <td>1</td>\n",
       "      <td>http://www.serebii.net/pokemongo/pokemon/001.png</td>\n",
       "      <td>[Grass, Poison]</td>\n",
       "      <td>0.71 m</td>\n",
       "      <td>6.9 kg</td>\n",
       "      <td>Bulbasaur Candy</td>\n",
       "      <td>25.0</td>\n",
       "      <td>2 km</td>\n",
       "      <td>0.690</td>\n",
       "      <td>69.0</td>\n",
       "      <td>20:00</td>\n",
       "      <td>[1.58]</td>\n",
       "      <td>[Fire, Ice, Flying, Psychic]</td>\n",
       "      <td>[{'num': '002', 'name': 'Ivysaur'}, {'num': '0...</td>\n",
       "      <td>NaN</td>\n",
       "    </tr>\n",
       "    <tr>\n",
       "      <td>Ivysaur</td>\n",
       "      <td>2</td>\n",
       "      <td>2</td>\n",
       "      <td>http://www.serebii.net/pokemongo/pokemon/002.png</td>\n",
       "      <td>[Grass, Poison]</td>\n",
       "      <td>0.99 m</td>\n",
       "      <td>13.0 kg</td>\n",
       "      <td>Bulbasaur Candy</td>\n",
       "      <td>100.0</td>\n",
       "      <td>Not in Eggs</td>\n",
       "      <td>0.042</td>\n",
       "      <td>4.2</td>\n",
       "      <td>07:00</td>\n",
       "      <td>[1.2, 1.6]</td>\n",
       "      <td>[Fire, Ice, Flying, Psychic]</td>\n",
       "      <td>[{'num': '003', 'name': 'Venusaur'}]</td>\n",
       "      <td>[{'num': '001', 'name': 'Bulbasaur'}]</td>\n",
       "    </tr>\n",
       "    <tr>\n",
       "      <td>Venusaur</td>\n",
       "      <td>3</td>\n",
       "      <td>3</td>\n",
       "      <td>http://www.serebii.net/pokemongo/pokemon/003.png</td>\n",
       "      <td>[Grass, Poison]</td>\n",
       "      <td>2.01 m</td>\n",
       "      <td>100.0 kg</td>\n",
       "      <td>Bulbasaur Candy</td>\n",
       "      <td>NaN</td>\n",
       "      <td>Not in Eggs</td>\n",
       "      <td>0.017</td>\n",
       "      <td>1.7</td>\n",
       "      <td>11:30</td>\n",
       "      <td>None</td>\n",
       "      <td>[Fire, Ice, Flying, Psychic]</td>\n",
       "      <td>NaN</td>\n",
       "      <td>[{'num': '001', 'name': 'Bulbasaur'}, {'num': ...</td>\n",
       "    </tr>\n",
       "    <tr>\n",
       "      <td>Charmander</td>\n",
       "      <td>4</td>\n",
       "      <td>4</td>\n",
       "      <td>http://www.serebii.net/pokemongo/pokemon/004.png</td>\n",
       "      <td>[Fire]</td>\n",
       "      <td>0.61 m</td>\n",
       "      <td>8.5 kg</td>\n",
       "      <td>Charmander Candy</td>\n",
       "      <td>25.0</td>\n",
       "      <td>2 km</td>\n",
       "      <td>0.253</td>\n",
       "      <td>25.3</td>\n",
       "      <td>08:45</td>\n",
       "      <td>[1.65]</td>\n",
       "      <td>[Water, Ground, Rock]</td>\n",
       "      <td>[{'num': '005', 'name': 'Charmeleon'}, {'num':...</td>\n",
       "      <td>NaN</td>\n",
       "    </tr>\n",
       "    <tr>\n",
       "      <td>Charmeleon</td>\n",
       "      <td>5</td>\n",
       "      <td>5</td>\n",
       "      <td>http://www.serebii.net/pokemongo/pokemon/005.png</td>\n",
       "      <td>[Fire]</td>\n",
       "      <td>1.09 m</td>\n",
       "      <td>19.0 kg</td>\n",
       "      <td>Charmander Candy</td>\n",
       "      <td>100.0</td>\n",
       "      <td>Not in Eggs</td>\n",
       "      <td>0.012</td>\n",
       "      <td>1.2</td>\n",
       "      <td>19:00</td>\n",
       "      <td>[1.79]</td>\n",
       "      <td>[Water, Ground, Rock]</td>\n",
       "      <td>[{'num': '006', 'name': 'Charizard'}]</td>\n",
       "      <td>[{'num': '004', 'name': 'Charmander'}]</td>\n",
       "    </tr>\n",
       "  </tbody>\n",
       "</table>\n",
       "</div>"
      ],
      "text/plain": [
       "            id  num                                               img  \\\n",
       "name                                                                    \n",
       "Bulbasaur    1    1  http://www.serebii.net/pokemongo/pokemon/001.png   \n",
       "Ivysaur      2    2  http://www.serebii.net/pokemongo/pokemon/002.png   \n",
       "Venusaur     3    3  http://www.serebii.net/pokemongo/pokemon/003.png   \n",
       "Charmander   4    4  http://www.serebii.net/pokemongo/pokemon/004.png   \n",
       "Charmeleon   5    5  http://www.serebii.net/pokemongo/pokemon/005.png   \n",
       "\n",
       "                       type  height    weight             candy  candy_count  \\\n",
       "name                                                                           \n",
       "Bulbasaur   [Grass, Poison]  0.71 m    6.9 kg   Bulbasaur Candy         25.0   \n",
       "Ivysaur     [Grass, Poison]  0.99 m   13.0 kg   Bulbasaur Candy        100.0   \n",
       "Venusaur    [Grass, Poison]  2.01 m  100.0 kg   Bulbasaur Candy          NaN   \n",
       "Charmander           [Fire]  0.61 m    8.5 kg  Charmander Candy         25.0   \n",
       "Charmeleon           [Fire]  1.09 m   19.0 kg  Charmander Candy        100.0   \n",
       "\n",
       "                    egg  spawn_chance  avg_spawns spawn_time multipliers  \\\n",
       "name                                                                       \n",
       "Bulbasaur          2 km         0.690        69.0      20:00      [1.58]   \n",
       "Ivysaur     Not in Eggs         0.042         4.2      07:00  [1.2, 1.6]   \n",
       "Venusaur    Not in Eggs         0.017         1.7      11:30        None   \n",
       "Charmander         2 km         0.253        25.3      08:45      [1.65]   \n",
       "Charmeleon  Not in Eggs         0.012         1.2      19:00      [1.79]   \n",
       "\n",
       "                              weaknesses  \\\n",
       "name                                       \n",
       "Bulbasaur   [Fire, Ice, Flying, Psychic]   \n",
       "Ivysaur     [Fire, Ice, Flying, Psychic]   \n",
       "Venusaur    [Fire, Ice, Flying, Psychic]   \n",
       "Charmander         [Water, Ground, Rock]   \n",
       "Charmeleon         [Water, Ground, Rock]   \n",
       "\n",
       "                                               next_evolution  \\\n",
       "name                                                            \n",
       "Bulbasaur   [{'num': '002', 'name': 'Ivysaur'}, {'num': '0...   \n",
       "Ivysaur                  [{'num': '003', 'name': 'Venusaur'}]   \n",
       "Venusaur                                                  NaN   \n",
       "Charmander  [{'num': '005', 'name': 'Charmeleon'}, {'num':...   \n",
       "Charmeleon              [{'num': '006', 'name': 'Charizard'}]   \n",
       "\n",
       "                                               prev_evolution  \n",
       "name                                                           \n",
       "Bulbasaur                                                 NaN  \n",
       "Ivysaur                 [{'num': '001', 'name': 'Bulbasaur'}]  \n",
       "Venusaur    [{'num': '001', 'name': 'Bulbasaur'}, {'num': ...  \n",
       "Charmander                                                NaN  \n",
       "Charmeleon             [{'num': '004', 'name': 'Charmander'}]  "
      ]
     },
     "execution_count": 46,
     "metadata": {},
     "output_type": "execute_result"
    }
   ],
   "source": [
    "# a dataframe as an index (0-based by default)\n",
    "print(pokedex.index)\n",
    "\n",
    "# but you can set it to something else (even strings)\n",
    "pokedex.set_index('name', inplace=True)\n",
    "print(pokedex.index)\n",
    "pokedex.head()\n",
    "\n",
    "# What are two other ways to set the index of a dataframe?"
   ]
  },
  {
   "cell_type": "markdown",
   "metadata": {},
   "source": [
    "## Indexing and Selection\n"
   ]
  },
  {
   "cell_type": "code",
   "execution_count": 47,
   "metadata": {},
   "outputs": [
    {
     "data": {
      "text/html": [
       "<div>\n",
       "<style scoped>\n",
       "    .dataframe tbody tr th:only-of-type {\n",
       "        vertical-align: middle;\n",
       "    }\n",
       "\n",
       "    .dataframe tbody tr th {\n",
       "        vertical-align: top;\n",
       "    }\n",
       "\n",
       "    .dataframe thead th {\n",
       "        text-align: right;\n",
       "    }\n",
       "</style>\n",
       "<table border=\"1\" class=\"dataframe\">\n",
       "  <thead>\n",
       "    <tr style=\"text-align: right;\">\n",
       "      <th></th>\n",
       "      <th>id</th>\n",
       "      <th>num</th>\n",
       "      <th>img</th>\n",
       "      <th>type</th>\n",
       "      <th>height</th>\n",
       "      <th>weight</th>\n",
       "      <th>candy</th>\n",
       "      <th>candy_count</th>\n",
       "      <th>egg</th>\n",
       "      <th>spawn_chance</th>\n",
       "      <th>avg_spawns</th>\n",
       "      <th>spawn_time</th>\n",
       "      <th>multipliers</th>\n",
       "      <th>weaknesses</th>\n",
       "      <th>next_evolution</th>\n",
       "      <th>prev_evolution</th>\n",
       "    </tr>\n",
       "    <tr>\n",
       "      <th>name</th>\n",
       "      <th></th>\n",
       "      <th></th>\n",
       "      <th></th>\n",
       "      <th></th>\n",
       "      <th></th>\n",
       "      <th></th>\n",
       "      <th></th>\n",
       "      <th></th>\n",
       "      <th></th>\n",
       "      <th></th>\n",
       "      <th></th>\n",
       "      <th></th>\n",
       "      <th></th>\n",
       "      <th></th>\n",
       "      <th></th>\n",
       "      <th></th>\n",
       "    </tr>\n",
       "  </thead>\n",
       "  <tbody>\n",
       "    <tr>\n",
       "      <td>Abra</td>\n",
       "      <td>63</td>\n",
       "      <td>63</td>\n",
       "      <td>http://www.serebii.net/pokemongo/pokemon/063.png</td>\n",
       "      <td>[Psychic]</td>\n",
       "      <td>0.89 m</td>\n",
       "      <td>19.5 kg</td>\n",
       "      <td>Abra Candy</td>\n",
       "      <td>25.0</td>\n",
       "      <td>5 km</td>\n",
       "      <td>0.4200</td>\n",
       "      <td>42.00</td>\n",
       "      <td>04:30</td>\n",
       "      <td>[1.3599999999999999, 1.9500000000000002]</td>\n",
       "      <td>[Bug, Ghost, Dark]</td>\n",
       "      <td>[{'num': '064', 'name': 'Kadabra'}, {'num': '0...</td>\n",
       "      <td>NaN</td>\n",
       "    </tr>\n",
       "    <tr>\n",
       "      <td>Aerodactyl</td>\n",
       "      <td>142</td>\n",
       "      <td>142</td>\n",
       "      <td>http://www.serebii.net/pokemongo/pokemon/142.png</td>\n",
       "      <td>[Rock, Flying]</td>\n",
       "      <td>1.80 m</td>\n",
       "      <td>59.0 kg</td>\n",
       "      <td>None</td>\n",
       "      <td>NaN</td>\n",
       "      <td>10 km</td>\n",
       "      <td>0.0180</td>\n",
       "      <td>1.80</td>\n",
       "      <td>23:40</td>\n",
       "      <td>None</td>\n",
       "      <td>[Water, Electric, Ice, Rock, Steel]</td>\n",
       "      <td>NaN</td>\n",
       "      <td>NaN</td>\n",
       "    </tr>\n",
       "    <tr>\n",
       "      <td>Alakazam</td>\n",
       "      <td>65</td>\n",
       "      <td>65</td>\n",
       "      <td>http://www.serebii.net/pokemongo/pokemon/065.png</td>\n",
       "      <td>[Psychic]</td>\n",
       "      <td>1.50 m</td>\n",
       "      <td>48.0 kg</td>\n",
       "      <td>Abra Candy</td>\n",
       "      <td>NaN</td>\n",
       "      <td>Not in Eggs</td>\n",
       "      <td>0.0073</td>\n",
       "      <td>0.73</td>\n",
       "      <td>12:33</td>\n",
       "      <td>None</td>\n",
       "      <td>[Bug, Ghost, Dark]</td>\n",
       "      <td>NaN</td>\n",
       "      <td>[{'num': '063', 'name': 'Abra'}, {'num': '064'...</td>\n",
       "    </tr>\n",
       "  </tbody>\n",
       "</table>\n",
       "</div>"
      ],
      "text/plain": [
       "             id  num                                               img  \\\n",
       "name                                                                     \n",
       "Abra         63   63  http://www.serebii.net/pokemongo/pokemon/063.png   \n",
       "Aerodactyl  142  142  http://www.serebii.net/pokemongo/pokemon/142.png   \n",
       "Alakazam     65   65  http://www.serebii.net/pokemongo/pokemon/065.png   \n",
       "\n",
       "                      type  height   weight       candy  candy_count  \\\n",
       "name                                                                   \n",
       "Abra             [Psychic]  0.89 m  19.5 kg  Abra Candy         25.0   \n",
       "Aerodactyl  [Rock, Flying]  1.80 m  59.0 kg        None          NaN   \n",
       "Alakazam         [Psychic]  1.50 m  48.0 kg  Abra Candy          NaN   \n",
       "\n",
       "                    egg  spawn_chance  avg_spawns spawn_time  \\\n",
       "name                                                           \n",
       "Abra               5 km        0.4200       42.00      04:30   \n",
       "Aerodactyl        10 km        0.0180        1.80      23:40   \n",
       "Alakazam    Not in Eggs        0.0073        0.73      12:33   \n",
       "\n",
       "                                         multipliers  \\\n",
       "name                                                   \n",
       "Abra        [1.3599999999999999, 1.9500000000000002]   \n",
       "Aerodactyl                                      None   \n",
       "Alakazam                                        None   \n",
       "\n",
       "                                     weaknesses  \\\n",
       "name                                              \n",
       "Abra                         [Bug, Ghost, Dark]   \n",
       "Aerodactyl  [Water, Electric, Ice, Rock, Steel]   \n",
       "Alakazam                     [Bug, Ghost, Dark]   \n",
       "\n",
       "                                               next_evolution  \\\n",
       "name                                                            \n",
       "Abra        [{'num': '064', 'name': 'Kadabra'}, {'num': '0...   \n",
       "Aerodactyl                                                NaN   \n",
       "Alakazam                                                  NaN   \n",
       "\n",
       "                                               prev_evolution  \n",
       "name                                                           \n",
       "Abra                                                      NaN  \n",
       "Aerodactyl                                                NaN  \n",
       "Alakazam    [{'num': '063', 'name': 'Abra'}, {'num': '064'...  "
      ]
     },
     "execution_count": 47,
     "metadata": {},
     "output_type": "execute_result"
    }
   ],
   "source": [
    "# What does inplace=True do? What's another way to accomplish the same thing?\n",
    "pokedex.sort_index(inplace=True)\n",
    "pokedex.head(3)"
   ]
  },
  {
   "cell_type": "code",
   "execution_count": 48,
   "metadata": {},
   "outputs": [
    {
     "data": {
      "text/plain": [
       "name\n",
       "Abra                 5 km\n",
       "Aerodactyl          10 km\n",
       "Alakazam      Not in Eggs\n",
       "Arbok         Not in Eggs\n",
       "Arcanine      Not in Eggs\n",
       "Name: egg, dtype: object"
      ]
     },
     "execution_count": 48,
     "metadata": {},
     "output_type": "execute_result"
    }
   ],
   "source": [
    "# Select a series (limit to first 5)\n",
    "pokedex['egg'][:5]"
   ]
  },
  {
   "cell_type": "code",
   "execution_count": 49,
   "metadata": {},
   "outputs": [
    {
     "data": {
      "text/html": [
       "<div>\n",
       "<style scoped>\n",
       "    .dataframe tbody tr th:only-of-type {\n",
       "        vertical-align: middle;\n",
       "    }\n",
       "\n",
       "    .dataframe tbody tr th {\n",
       "        vertical-align: top;\n",
       "    }\n",
       "\n",
       "    .dataframe thead th {\n",
       "        text-align: right;\n",
       "    }\n",
       "</style>\n",
       "<table border=\"1\" class=\"dataframe\">\n",
       "  <thead>\n",
       "    <tr style=\"text-align: right;\">\n",
       "      <th></th>\n",
       "      <th>egg</th>\n",
       "    </tr>\n",
       "    <tr>\n",
       "      <th>name</th>\n",
       "      <th></th>\n",
       "    </tr>\n",
       "  </thead>\n",
       "  <tbody>\n",
       "    <tr>\n",
       "      <td>Abra</td>\n",
       "      <td>5 km</td>\n",
       "    </tr>\n",
       "    <tr>\n",
       "      <td>Aerodactyl</td>\n",
       "      <td>10 km</td>\n",
       "    </tr>\n",
       "    <tr>\n",
       "      <td>Alakazam</td>\n",
       "      <td>Not in Eggs</td>\n",
       "    </tr>\n",
       "    <tr>\n",
       "      <td>Arbok</td>\n",
       "      <td>Not in Eggs</td>\n",
       "    </tr>\n",
       "    <tr>\n",
       "      <td>Arcanine</td>\n",
       "      <td>Not in Eggs</td>\n",
       "    </tr>\n",
       "  </tbody>\n",
       "</table>\n",
       "</div>"
      ],
      "text/plain": [
       "                    egg\n",
       "name                   \n",
       "Abra               5 km\n",
       "Aerodactyl        10 km\n",
       "Alakazam    Not in Eggs\n",
       "Arbok       Not in Eggs\n",
       "Arcanine    Not in Eggs"
      ]
     },
     "execution_count": 49,
     "metadata": {},
     "output_type": "execute_result"
    }
   ],
   "source": [
    "# Select a single series but within a dataframe. \n",
    "pokedex[['egg']][:5]"
   ]
  },
  {
   "cell_type": "code",
   "execution_count": 50,
   "metadata": {},
   "outputs": [
    {
     "data": {
      "text/html": [
       "<div>\n",
       "<style scoped>\n",
       "    .dataframe tbody tr th:only-of-type {\n",
       "        vertical-align: middle;\n",
       "    }\n",
       "\n",
       "    .dataframe tbody tr th {\n",
       "        vertical-align: top;\n",
       "    }\n",
       "\n",
       "    .dataframe thead th {\n",
       "        text-align: right;\n",
       "    }\n",
       "</style>\n",
       "<table border=\"1\" class=\"dataframe\">\n",
       "  <thead>\n",
       "    <tr style=\"text-align: right;\">\n",
       "      <th></th>\n",
       "      <th>height</th>\n",
       "      <th>weight</th>\n",
       "    </tr>\n",
       "    <tr>\n",
       "      <th>name</th>\n",
       "      <th></th>\n",
       "      <th></th>\n",
       "    </tr>\n",
       "  </thead>\n",
       "  <tbody>\n",
       "    <tr>\n",
       "      <td>Abra</td>\n",
       "      <td>0.89 m</td>\n",
       "      <td>19.5 kg</td>\n",
       "    </tr>\n",
       "    <tr>\n",
       "      <td>Aerodactyl</td>\n",
       "      <td>1.80 m</td>\n",
       "      <td>59.0 kg</td>\n",
       "    </tr>\n",
       "    <tr>\n",
       "      <td>Alakazam</td>\n",
       "      <td>1.50 m</td>\n",
       "      <td>48.0 kg</td>\n",
       "    </tr>\n",
       "    <tr>\n",
       "      <td>Arbok</td>\n",
       "      <td>3.51 m</td>\n",
       "      <td>65.0 kg</td>\n",
       "    </tr>\n",
       "    <tr>\n",
       "      <td>Arcanine</td>\n",
       "      <td>1.91 m</td>\n",
       "      <td>155.0 kg</td>\n",
       "    </tr>\n",
       "  </tbody>\n",
       "</table>\n",
       "</div>"
      ],
      "text/plain": [
       "            height    weight\n",
       "name                        \n",
       "Abra        0.89 m   19.5 kg\n",
       "Aerodactyl  1.80 m   59.0 kg\n",
       "Alakazam    1.50 m   48.0 kg\n",
       "Arbok       3.51 m   65.0 kg\n",
       "Arcanine    1.91 m  155.0 kg"
      ]
     },
     "execution_count": 50,
     "metadata": {},
     "output_type": "execute_result"
    }
   ],
   "source": [
    "# Select multiple series (limit to first 5) -- Notice that we use a list here\n",
    "pokedex[ ['height', 'weight'] ][:5]"
   ]
  },
  {
   "cell_type": "code",
   "execution_count": 51,
   "metadata": {},
   "outputs": [
    {
     "data": {
      "text/html": [
       "<div>\n",
       "<style scoped>\n",
       "    .dataframe tbody tr th:only-of-type {\n",
       "        vertical-align: middle;\n",
       "    }\n",
       "\n",
       "    .dataframe tbody tr th {\n",
       "        vertical-align: top;\n",
       "    }\n",
       "\n",
       "    .dataframe thead th {\n",
       "        text-align: right;\n",
       "    }\n",
       "</style>\n",
       "<table border=\"1\" class=\"dataframe\">\n",
       "  <thead>\n",
       "    <tr style=\"text-align: right;\">\n",
       "      <th></th>\n",
       "      <th>id</th>\n",
       "      <th>num</th>\n",
       "      <th>img</th>\n",
       "      <th>type</th>\n",
       "      <th>height</th>\n",
       "      <th>weight</th>\n",
       "      <th>candy</th>\n",
       "      <th>candy_count</th>\n",
       "      <th>egg</th>\n",
       "      <th>spawn_chance</th>\n",
       "      <th>avg_spawns</th>\n",
       "      <th>spawn_time</th>\n",
       "      <th>multipliers</th>\n",
       "      <th>weaknesses</th>\n",
       "      <th>next_evolution</th>\n",
       "      <th>prev_evolution</th>\n",
       "    </tr>\n",
       "    <tr>\n",
       "      <th>name</th>\n",
       "      <th></th>\n",
       "      <th></th>\n",
       "      <th></th>\n",
       "      <th></th>\n",
       "      <th></th>\n",
       "      <th></th>\n",
       "      <th></th>\n",
       "      <th></th>\n",
       "      <th></th>\n",
       "      <th></th>\n",
       "      <th></th>\n",
       "      <th></th>\n",
       "      <th></th>\n",
       "      <th></th>\n",
       "      <th></th>\n",
       "      <th></th>\n",
       "    </tr>\n",
       "  </thead>\n",
       "  <tbody>\n",
       "    <tr>\n",
       "      <td>Ponyta</td>\n",
       "      <td>77</td>\n",
       "      <td>77</td>\n",
       "      <td>http://www.serebii.net/pokemongo/pokemon/077.png</td>\n",
       "      <td>[Fire]</td>\n",
       "      <td>0.99 m</td>\n",
       "      <td>30.0 kg</td>\n",
       "      <td>Ponyta Candy</td>\n",
       "      <td>50.0</td>\n",
       "      <td>5 km</td>\n",
       "      <td>0.510</td>\n",
       "      <td>51.0</td>\n",
       "      <td>02:50</td>\n",
       "      <td>[1.48, 1.5]</td>\n",
       "      <td>[Water, Ground, Rock]</td>\n",
       "      <td>[{'num': '078', 'name': 'Rapidash'}]</td>\n",
       "      <td>NaN</td>\n",
       "    </tr>\n",
       "    <tr>\n",
       "      <td>Porygon</td>\n",
       "      <td>137</td>\n",
       "      <td>137</td>\n",
       "      <td>http://www.serebii.net/pokemongo/pokemon/137.png</td>\n",
       "      <td>[Normal]</td>\n",
       "      <td>0.79 m</td>\n",
       "      <td>36.5 kg</td>\n",
       "      <td>None</td>\n",
       "      <td>NaN</td>\n",
       "      <td>5 km</td>\n",
       "      <td>0.012</td>\n",
       "      <td>1.2</td>\n",
       "      <td>02:49</td>\n",
       "      <td>None</td>\n",
       "      <td>[Fighting]</td>\n",
       "      <td>NaN</td>\n",
       "      <td>NaN</td>\n",
       "    </tr>\n",
       "    <tr>\n",
       "      <td>Primeape</td>\n",
       "      <td>57</td>\n",
       "      <td>57</td>\n",
       "      <td>http://www.serebii.net/pokemongo/pokemon/057.png</td>\n",
       "      <td>[Fighting]</td>\n",
       "      <td>0.99 m</td>\n",
       "      <td>32.0 kg</td>\n",
       "      <td>Mankey Candy</td>\n",
       "      <td>NaN</td>\n",
       "      <td>Not in Eggs</td>\n",
       "      <td>0.031</td>\n",
       "      <td>3.1</td>\n",
       "      <td>12:33</td>\n",
       "      <td>None</td>\n",
       "      <td>[Flying, Psychic, Fairy]</td>\n",
       "      <td>NaN</td>\n",
       "      <td>[{'num': '056', 'name': 'Mankey'}]</td>\n",
       "    </tr>\n",
       "    <tr>\n",
       "      <td>Psyduck</td>\n",
       "      <td>54</td>\n",
       "      <td>54</td>\n",
       "      <td>http://www.serebii.net/pokemongo/pokemon/054.png</td>\n",
       "      <td>[Water]</td>\n",
       "      <td>0.79 m</td>\n",
       "      <td>19.6 kg</td>\n",
       "      <td>Psyduck Candy</td>\n",
       "      <td>50.0</td>\n",
       "      <td>5 km</td>\n",
       "      <td>2.540</td>\n",
       "      <td>254.0</td>\n",
       "      <td>03:41</td>\n",
       "      <td>[2.27]</td>\n",
       "      <td>[Electric, Grass]</td>\n",
       "      <td>[{'num': '055', 'name': 'Golduck'}]</td>\n",
       "      <td>NaN</td>\n",
       "    </tr>\n",
       "  </tbody>\n",
       "</table>\n",
       "</div>"
      ],
      "text/plain": [
       "           id  num                                               img  \\\n",
       "name                                                                   \n",
       "Ponyta     77   77  http://www.serebii.net/pokemongo/pokemon/077.png   \n",
       "Porygon   137  137  http://www.serebii.net/pokemongo/pokemon/137.png   \n",
       "Primeape   57   57  http://www.serebii.net/pokemongo/pokemon/057.png   \n",
       "Psyduck    54   54  http://www.serebii.net/pokemongo/pokemon/054.png   \n",
       "\n",
       "                type  height   weight          candy  candy_count  \\\n",
       "name                                                                \n",
       "Ponyta        [Fire]  0.99 m  30.0 kg   Ponyta Candy         50.0   \n",
       "Porygon     [Normal]  0.79 m  36.5 kg           None          NaN   \n",
       "Primeape  [Fighting]  0.99 m  32.0 kg   Mankey Candy          NaN   \n",
       "Psyduck      [Water]  0.79 m  19.6 kg  Psyduck Candy         50.0   \n",
       "\n",
       "                  egg  spawn_chance  avg_spawns spawn_time  multipliers  \\\n",
       "name                                                                      \n",
       "Ponyta           5 km         0.510        51.0      02:50  [1.48, 1.5]   \n",
       "Porygon          5 km         0.012         1.2      02:49         None   \n",
       "Primeape  Not in Eggs         0.031         3.1      12:33         None   \n",
       "Psyduck          5 km         2.540       254.0      03:41       [2.27]   \n",
       "\n",
       "                        weaknesses                        next_evolution  \\\n",
       "name                                                                       \n",
       "Ponyta       [Water, Ground, Rock]  [{'num': '078', 'name': 'Rapidash'}]   \n",
       "Porygon                 [Fighting]                                   NaN   \n",
       "Primeape  [Flying, Psychic, Fairy]                                   NaN   \n",
       "Psyduck          [Electric, Grass]   [{'num': '055', 'name': 'Golduck'}]   \n",
       "\n",
       "                              prev_evolution  \n",
       "name                                          \n",
       "Ponyta                                   NaN  \n",
       "Porygon                                  NaN  \n",
       "Primeape  [{'num': '056', 'name': 'Mankey'}]  \n",
       "Psyduck                                  NaN  "
      ]
     },
     "execution_count": 51,
     "metadata": {},
     "output_type": "execute_result"
    }
   ],
   "source": [
    "# slice by index\n",
    "# how does this differ from slicing by index in a list or array? Can you still use 0-based index?\n",
    "pokedex['Ponyta':'Psyduck']"
   ]
  },
  {
   "cell_type": "code",
   "execution_count": 52,
   "metadata": {},
   "outputs": [
    {
     "name": "stdout",
     "output_type": "stream",
     "text": [
      "<class 'pandas.core.series.Series'>\n",
      "Index(['id', 'num', 'img', 'type', 'height', 'weight', 'candy', 'candy_count',\n",
      "       'egg', 'spawn_chance', 'avg_spawns', 'spawn_time', 'multipliers',\n",
      "       'weaknesses', 'next_evolution', 'prev_evolution'],\n",
      "      dtype='object')\n"
     ]
    },
    {
     "data": {
      "text/plain": [
       "id                                                              133\n",
       "num                                                             133\n",
       "img                http://www.serebii.net/pokemongo/pokemon/133.png\n",
       "type                                                       [Normal]\n",
       "height                                                       0.30 m\n",
       "weight                                                       6.5 kg\n",
       "candy                                                   Eevee Candy\n",
       "candy_count                                                      25\n",
       "egg                                                           10 km\n",
       "spawn_chance                                                   2.75\n",
       "avg_spawns                                                      275\n",
       "spawn_time                                                    05:32\n",
       "multipliers                                            [2.02, 2.64]\n",
       "weaknesses                                               [Fighting]\n",
       "next_evolution    [{'num': '134', 'name': 'Vaporeon'}, {'num': '...\n",
       "prev_evolution                                                  NaN\n",
       "Name: Eevee, dtype: object"
      ]
     },
     "execution_count": 52,
     "metadata": {},
     "output_type": "execute_result"
    }
   ],
   "source": [
    "# get a specific row using .loc[]\n",
    "# what is .iloc[]\n",
    "print(type(pokedex.loc['Eevee']))\n",
    "print(pokedex.loc['Eevee'].index)\n",
    "pokedex.loc['Eevee']"
   ]
  },
  {
   "cell_type": "code",
   "execution_count": 53,
   "metadata": {},
   "outputs": [
    {
     "name": "stdout",
     "output_type": "stream",
     "text": [
      "False\n",
      "True\n"
     ]
    }
   ],
   "source": [
    "# More list/array/dictionary like functions\n",
    "\n",
    "print(\"Justin Bieber\" in pokedex.index)\n",
    "print(\"Eevee\" in pokedex.index)"
   ]
  },
  {
   "cell_type": "markdown",
   "metadata": {},
   "source": [
    "## Masking"
   ]
  },
  {
   "cell_type": "code",
   "execution_count": 54,
   "metadata": {},
   "outputs": [
    {
     "data": {
      "text/plain": [
       "name\n",
       "Abra          False\n",
       "Aerodactyl    False\n",
       "Alakazam      False\n",
       "Arbok         False\n",
       "Arcanine      False\n",
       "              ...  \n",
       "Weepinbell    False\n",
       "Weezing       False\n",
       "Wigglytuff    False\n",
       "Zapdos        False\n",
       "Zubat          True\n",
       "Name: spawn_chance, Length: 151, dtype: bool"
      ]
     },
     "execution_count": 54,
     "metadata": {},
     "output_type": "execute_result"
    }
   ],
   "source": [
    "# what does this do?\n",
    "pokedex['spawn_chance'] > .5"
   ]
  },
  {
   "cell_type": "code",
   "execution_count": 55,
   "metadata": {},
   "outputs": [
    {
     "data": {
      "text/plain": [
       "name\n",
       "Abra          False\n",
       "Aerodactyl     True\n",
       "Alakazam       True\n",
       "Arbok          True\n",
       "Arcanine       True\n",
       "              ...  \n",
       "Weepinbell     True\n",
       "Weezing        True\n",
       "Wigglytuff     True\n",
       "Zapdos         True\n",
       "Zubat         False\n",
       "Length: 151, dtype: bool"
      ]
     },
     "execution_count": 55,
     "metadata": {},
     "output_type": "execute_result"
    }
   ],
   "source": [
    "(pokedex['spawn_chance'] < .5) & (pokedex['avg_spawns'] < 30)"
   ]
  },
  {
   "cell_type": "code",
   "execution_count": 56,
   "metadata": {},
   "outputs": [
    {
     "data": {
      "text/html": [
       "<div>\n",
       "<style scoped>\n",
       "    .dataframe tbody tr th:only-of-type {\n",
       "        vertical-align: middle;\n",
       "    }\n",
       "\n",
       "    .dataframe tbody tr th {\n",
       "        vertical-align: top;\n",
       "    }\n",
       "\n",
       "    .dataframe thead th {\n",
       "        text-align: right;\n",
       "    }\n",
       "</style>\n",
       "<table border=\"1\" class=\"dataframe\">\n",
       "  <thead>\n",
       "    <tr style=\"text-align: right;\">\n",
       "      <th></th>\n",
       "      <th>id</th>\n",
       "      <th>num</th>\n",
       "      <th>img</th>\n",
       "      <th>type</th>\n",
       "      <th>height</th>\n",
       "      <th>weight</th>\n",
       "      <th>candy</th>\n",
       "      <th>candy_count</th>\n",
       "      <th>egg</th>\n",
       "      <th>spawn_chance</th>\n",
       "      <th>avg_spawns</th>\n",
       "      <th>spawn_time</th>\n",
       "      <th>multipliers</th>\n",
       "      <th>weaknesses</th>\n",
       "      <th>next_evolution</th>\n",
       "      <th>prev_evolution</th>\n",
       "    </tr>\n",
       "    <tr>\n",
       "      <th>name</th>\n",
       "      <th></th>\n",
       "      <th></th>\n",
       "      <th></th>\n",
       "      <th></th>\n",
       "      <th></th>\n",
       "      <th></th>\n",
       "      <th></th>\n",
       "      <th></th>\n",
       "      <th></th>\n",
       "      <th></th>\n",
       "      <th></th>\n",
       "      <th></th>\n",
       "      <th></th>\n",
       "      <th></th>\n",
       "      <th></th>\n",
       "      <th></th>\n",
       "    </tr>\n",
       "  </thead>\n",
       "  <tbody>\n",
       "    <tr>\n",
       "      <td>Abra</td>\n",
       "      <td>63</td>\n",
       "      <td>63</td>\n",
       "      <td>http://www.serebii.net/pokemongo/pokemon/063.png</td>\n",
       "      <td>[Psychic]</td>\n",
       "      <td>0.89 m</td>\n",
       "      <td>19.5 kg</td>\n",
       "      <td>Abra Candy</td>\n",
       "      <td>25.0</td>\n",
       "      <td>5 km</td>\n",
       "      <td>0.42</td>\n",
       "      <td>42.0</td>\n",
       "      <td>04:30</td>\n",
       "      <td>[1.3599999999999999, 1.9500000000000002]</td>\n",
       "      <td>[Bug, Ghost, Dark]</td>\n",
       "      <td>[{'num': '064', 'name': 'Kadabra'}, {'num': '0...</td>\n",
       "      <td>NaN</td>\n",
       "    </tr>\n",
       "    <tr>\n",
       "      <td>Diglett</td>\n",
       "      <td>50</td>\n",
       "      <td>50</td>\n",
       "      <td>http://www.serebii.net/pokemongo/pokemon/050.png</td>\n",
       "      <td>[Ground]</td>\n",
       "      <td>0.20 m</td>\n",
       "      <td>0.8 kg</td>\n",
       "      <td>Diglett Candy</td>\n",
       "      <td>50.0</td>\n",
       "      <td>5 km</td>\n",
       "      <td>0.40</td>\n",
       "      <td>40.0</td>\n",
       "      <td>02:22</td>\n",
       "      <td>[2.69]</td>\n",
       "      <td>[Water, Grass, Ice]</td>\n",
       "      <td>[{'num': '051', 'name': 'Dugtrio'}]</td>\n",
       "      <td>NaN</td>\n",
       "    </tr>\n",
       "    <tr>\n",
       "      <td>Jigglypuff</td>\n",
       "      <td>39</td>\n",
       "      <td>39</td>\n",
       "      <td>http://www.serebii.net/pokemongo/pokemon/039.png</td>\n",
       "      <td>[Normal]</td>\n",
       "      <td>0.51 m</td>\n",
       "      <td>5.5 kg</td>\n",
       "      <td>Jigglypuff Candy</td>\n",
       "      <td>50.0</td>\n",
       "      <td>2 km</td>\n",
       "      <td>0.39</td>\n",
       "      <td>39.0</td>\n",
       "      <td>08:46</td>\n",
       "      <td>[1.85]</td>\n",
       "      <td>[Fighting]</td>\n",
       "      <td>[{'num': '040', 'name': 'Wigglytuff'}]</td>\n",
       "      <td>NaN</td>\n",
       "    </tr>\n",
       "    <tr>\n",
       "      <td>Machop</td>\n",
       "      <td>66</td>\n",
       "      <td>66</td>\n",
       "      <td>http://www.serebii.net/pokemongo/pokemon/066.png</td>\n",
       "      <td>[Fighting]</td>\n",
       "      <td>0.79 m</td>\n",
       "      <td>19.5 kg</td>\n",
       "      <td>Machop Candy</td>\n",
       "      <td>25.0</td>\n",
       "      <td>5 km</td>\n",
       "      <td>0.49</td>\n",
       "      <td>49.0</td>\n",
       "      <td>01:55</td>\n",
       "      <td>[1.6400000000000001, 1.65]</td>\n",
       "      <td>[Flying, Psychic, Fairy]</td>\n",
       "      <td>[{'num': '067', 'name': 'Machoke'}, {'num': '0...</td>\n",
       "      <td>NaN</td>\n",
       "    </tr>\n",
       "    <tr>\n",
       "      <td>Raticate</td>\n",
       "      <td>20</td>\n",
       "      <td>20</td>\n",
       "      <td>http://www.serebii.net/pokemongo/pokemon/020.png</td>\n",
       "      <td>[Normal]</td>\n",
       "      <td>0.71 m</td>\n",
       "      <td>18.5 kg</td>\n",
       "      <td>Rattata Candy</td>\n",
       "      <td>NaN</td>\n",
       "      <td>Not in Eggs</td>\n",
       "      <td>0.41</td>\n",
       "      <td>41.0</td>\n",
       "      <td>01:56</td>\n",
       "      <td>None</td>\n",
       "      <td>[Fighting]</td>\n",
       "      <td>NaN</td>\n",
       "      <td>[{'num': '019', 'name': 'Rattata'}]</td>\n",
       "    </tr>\n",
       "  </tbody>\n",
       "</table>\n",
       "</div>"
      ],
      "text/plain": [
       "            id  num                                               img  \\\n",
       "name                                                                    \n",
       "Abra        63   63  http://www.serebii.net/pokemongo/pokemon/063.png   \n",
       "Diglett     50   50  http://www.serebii.net/pokemongo/pokemon/050.png   \n",
       "Jigglypuff  39   39  http://www.serebii.net/pokemongo/pokemon/039.png   \n",
       "Machop      66   66  http://www.serebii.net/pokemongo/pokemon/066.png   \n",
       "Raticate    20   20  http://www.serebii.net/pokemongo/pokemon/020.png   \n",
       "\n",
       "                  type  height   weight             candy  candy_count  \\\n",
       "name                                                                     \n",
       "Abra         [Psychic]  0.89 m  19.5 kg        Abra Candy         25.0   \n",
       "Diglett       [Ground]  0.20 m   0.8 kg     Diglett Candy         50.0   \n",
       "Jigglypuff    [Normal]  0.51 m   5.5 kg  Jigglypuff Candy         50.0   \n",
       "Machop      [Fighting]  0.79 m  19.5 kg      Machop Candy         25.0   \n",
       "Raticate      [Normal]  0.71 m  18.5 kg     Rattata Candy          NaN   \n",
       "\n",
       "                    egg  spawn_chance  avg_spawns spawn_time  \\\n",
       "name                                                           \n",
       "Abra               5 km          0.42        42.0      04:30   \n",
       "Diglett            5 km          0.40        40.0      02:22   \n",
       "Jigglypuff         2 km          0.39        39.0      08:46   \n",
       "Machop             5 km          0.49        49.0      01:55   \n",
       "Raticate    Not in Eggs          0.41        41.0      01:56   \n",
       "\n",
       "                                         multipliers  \\\n",
       "name                                                   \n",
       "Abra        [1.3599999999999999, 1.9500000000000002]   \n",
       "Diglett                                       [2.69]   \n",
       "Jigglypuff                                    [1.85]   \n",
       "Machop                    [1.6400000000000001, 1.65]   \n",
       "Raticate                                        None   \n",
       "\n",
       "                          weaknesses  \\\n",
       "name                                   \n",
       "Abra              [Bug, Ghost, Dark]   \n",
       "Diglett          [Water, Grass, Ice]   \n",
       "Jigglypuff                [Fighting]   \n",
       "Machop      [Flying, Psychic, Fairy]   \n",
       "Raticate                  [Fighting]   \n",
       "\n",
       "                                               next_evolution  \\\n",
       "name                                                            \n",
       "Abra        [{'num': '064', 'name': 'Kadabra'}, {'num': '0...   \n",
       "Diglett                   [{'num': '051', 'name': 'Dugtrio'}]   \n",
       "Jigglypuff             [{'num': '040', 'name': 'Wigglytuff'}]   \n",
       "Machop      [{'num': '067', 'name': 'Machoke'}, {'num': '0...   \n",
       "Raticate                                                  NaN   \n",
       "\n",
       "                                 prev_evolution  \n",
       "name                                             \n",
       "Abra                                        NaN  \n",
       "Diglett                                     NaN  \n",
       "Jigglypuff                                  NaN  \n",
       "Machop                                      NaN  \n",
       "Raticate    [{'num': '019', 'name': 'Rattata'}]  "
      ]
     },
     "execution_count": 56,
     "metadata": {},
     "output_type": "execute_result"
    }
   ],
   "source": [
    "# use the mask on a dataframe\n",
    "pokedex[ (pokedex['spawn_chance'] < .5) & (pokedex['avg_spawns'] > 30) ].sample(5)"
   ]
  },
  {
   "cell_type": "markdown",
   "metadata": {},
   "source": [
    "## Missing Data"
   ]
  },
  {
   "cell_type": "code",
   "execution_count": 57,
   "metadata": {},
   "outputs": [
    {
     "data": {
      "text/plain": [
       "81"
      ]
     },
     "execution_count": 57,
     "metadata": {},
     "output_type": "execute_result"
    }
   ],
   "source": [
    "# how many rows with candy count are missing?\n",
    "# where have we seen something like this before?\n",
    "\n",
    "pokedex['candy_count'].isnull().sum()"
   ]
  },
  {
   "cell_type": "code",
   "execution_count": 58,
   "metadata": {},
   "outputs": [
    {
     "name": "stdout",
     "output_type": "stream",
     "text": [
      "(151, 16)\n",
      "(16, 16)\n",
      "(70, 16)\n",
      "(151, 12)\n"
     ]
    }
   ],
   "source": [
    "# understand why the shape for each of these is different\n",
    "print(pokedex.shape)\n",
    "print(pokedex.dropna().shape)\n",
    "print(pokedex.dropna(thresh=15).shape)\n",
    "print(pokedex.dropna(axis=1).shape)"
   ]
  },
  {
   "cell_type": "code",
   "execution_count": 59,
   "metadata": {},
   "outputs": [
    {
     "name": "stdout",
     "output_type": "stream",
     "text": [
      "              num  candy  next_evolution  prev_evolution\n",
      "name                                                    \n",
      "Abra        False  False           False            True\n",
      "Aerodactyl  False  False            True            True\n",
      "Alakazam    False  False            True           False\n",
      "Arbok       False  False            True           False\n",
      "Arcanine    False  False            True           False\n"
     ]
    }
   ],
   "source": [
    "# get the null count for the entire dataframe\n",
    "print(pokedex[['num','candy','next_evolution','prev_evolution']].isnull()[:5])"
   ]
  },
  {
   "cell_type": "code",
   "execution_count": 60,
   "metadata": {},
   "outputs": [
    {
     "name": "stdout",
     "output_type": "stream",
     "text": [
      "id                 0\n",
      "num                0\n",
      "img                0\n",
      "type               0\n",
      "height             0\n",
      "weight             0\n",
      "candy              0\n",
      "candy_count       81\n",
      "egg                0\n",
      "spawn_chance       0\n",
      "avg_spawns         0\n",
      "spawn_time         0\n",
      "multipliers       81\n",
      "weaknesses         0\n",
      "next_evolution    81\n",
      "prev_evolution    79\n",
      "dtype: int64\n"
     ]
    }
   ],
   "source": [
    "print(pokedex.isnull().sum())"
   ]
  },
  {
   "cell_type": "code",
   "execution_count": 61,
   "metadata": {},
   "outputs": [
    {
     "name": "stdout",
     "output_type": "stream",
     "text": [
      "id                 0.000000\n",
      "num                0.000000\n",
      "img                0.000000\n",
      "type               0.000000\n",
      "height             0.000000\n",
      "weight             0.000000\n",
      "candy              0.000000\n",
      "candy_count       53.642384\n",
      "egg                0.000000\n",
      "spawn_chance       0.000000\n",
      "avg_spawns         0.000000\n",
      "spawn_time         0.000000\n",
      "multipliers       53.642384\n",
      "weaknesses         0.000000\n",
      "next_evolution    53.642384\n",
      "prev_evolution    52.317881\n",
      "dtype: float64\n"
     ]
    }
   ],
   "source": [
    "print( pokedex.isnull().mean()* 100 )"
   ]
  },
  {
   "cell_type": "code",
   "execution_count": null,
   "metadata": {},
   "outputs": [],
   "source": [
    "pokedex['candy_count']"
   ]
  },
  {
   "cell_type": "code",
   "execution_count": 62,
   "metadata": {},
   "outputs": [
    {
     "name": "stdout",
     "output_type": "stream",
     "text": [
      "name\n",
      "Abra          25.0\n",
      "Aerodactyl     0.0\n",
      "Alakazam       0.0\n",
      "Arbok          0.0\n",
      "Arcanine       0.0\n",
      "Name: candy_count, dtype: float64\n",
      "name\n",
      "Abra          25.0\n",
      "Aerodactyl     NaN\n",
      "Alakazam       NaN\n",
      "Arbok          NaN\n",
      "Arcanine       NaN\n",
      "Name: candy_count, dtype: float64\n"
     ]
    },
    {
     "data": {
      "text/plain": [
       "name\n",
       "Abra           25.0\n",
       "Aerodactyl      0.0\n",
       "Alakazam        0.0\n",
       "Arbok           0.0\n",
       "Arcanine        0.0\n",
       "              ...  \n",
       "Weepinbell    100.0\n",
       "Weezing         0.0\n",
       "Wigglytuff      0.0\n",
       "Zapdos          0.0\n",
       "Zubat          50.0\n",
       "Name: candy_count, Length: 151, dtype: float64"
      ]
     },
     "execution_count": 62,
     "metadata": {},
     "output_type": "execute_result"
    }
   ],
   "source": [
    "# what is we want to populate the missing numbers with '0'. in this case that makes sense\n",
    "print(pokedex['candy_count'].fillna(0)[:5])\n",
    "# but it does not save it\n",
    "print(pokedex['candy_count'][:5])\n",
    "poke_with_zeros = pokedex['candy_count'].fillna(0)\n",
    "poke_with_zeros"
   ]
  },
  {
   "cell_type": "code",
   "execution_count": 63,
   "metadata": {},
   "outputs": [
    {
     "data": {
      "text/html": [
       "<div>\n",
       "<style scoped>\n",
       "    .dataframe tbody tr th:only-of-type {\n",
       "        vertical-align: middle;\n",
       "    }\n",
       "\n",
       "    .dataframe tbody tr th {\n",
       "        vertical-align: top;\n",
       "    }\n",
       "\n",
       "    .dataframe thead th {\n",
       "        text-align: right;\n",
       "    }\n",
       "</style>\n",
       "<table border=\"1\" class=\"dataframe\">\n",
       "  <thead>\n",
       "    <tr style=\"text-align: right;\">\n",
       "      <th></th>\n",
       "      <th>id</th>\n",
       "      <th>num</th>\n",
       "      <th>img</th>\n",
       "      <th>type</th>\n",
       "      <th>height</th>\n",
       "      <th>weight</th>\n",
       "      <th>candy</th>\n",
       "      <th>candy_count</th>\n",
       "      <th>egg</th>\n",
       "      <th>spawn_chance</th>\n",
       "      <th>avg_spawns</th>\n",
       "      <th>spawn_time</th>\n",
       "      <th>multipliers</th>\n",
       "      <th>weaknesses</th>\n",
       "      <th>next_evolution</th>\n",
       "      <th>prev_evolution</th>\n",
       "    </tr>\n",
       "    <tr>\n",
       "      <th>name</th>\n",
       "      <th></th>\n",
       "      <th></th>\n",
       "      <th></th>\n",
       "      <th></th>\n",
       "      <th></th>\n",
       "      <th></th>\n",
       "      <th></th>\n",
       "      <th></th>\n",
       "      <th></th>\n",
       "      <th></th>\n",
       "      <th></th>\n",
       "      <th></th>\n",
       "      <th></th>\n",
       "      <th></th>\n",
       "      <th></th>\n",
       "      <th></th>\n",
       "    </tr>\n",
       "  </thead>\n",
       "  <tbody>\n",
       "    <tr>\n",
       "      <td>Abra</td>\n",
       "      <td>63</td>\n",
       "      <td>63</td>\n",
       "      <td>http://www.serebii.net/pokemongo/pokemon/063.png</td>\n",
       "      <td>[Psychic]</td>\n",
       "      <td>0.89 m</td>\n",
       "      <td>19.5 kg</td>\n",
       "      <td>Abra Candy</td>\n",
       "      <td>25.0</td>\n",
       "      <td>5 km</td>\n",
       "      <td>0.4200</td>\n",
       "      <td>42.00</td>\n",
       "      <td>04:30</td>\n",
       "      <td>[1.3599999999999999, 1.9500000000000002]</td>\n",
       "      <td>[Bug, Ghost, Dark]</td>\n",
       "      <td>[{'num': '064', 'name': 'Kadabra'}, {'num': '0...</td>\n",
       "      <td>NaN</td>\n",
       "    </tr>\n",
       "    <tr>\n",
       "      <td>Aerodactyl</td>\n",
       "      <td>142</td>\n",
       "      <td>142</td>\n",
       "      <td>http://www.serebii.net/pokemongo/pokemon/142.png</td>\n",
       "      <td>[Rock, Flying]</td>\n",
       "      <td>1.80 m</td>\n",
       "      <td>59.0 kg</td>\n",
       "      <td>None</td>\n",
       "      <td>0.0</td>\n",
       "      <td>10 km</td>\n",
       "      <td>0.0180</td>\n",
       "      <td>1.80</td>\n",
       "      <td>23:40</td>\n",
       "      <td>None</td>\n",
       "      <td>[Water, Electric, Ice, Rock, Steel]</td>\n",
       "      <td>NaN</td>\n",
       "      <td>NaN</td>\n",
       "    </tr>\n",
       "    <tr>\n",
       "      <td>Alakazam</td>\n",
       "      <td>65</td>\n",
       "      <td>65</td>\n",
       "      <td>http://www.serebii.net/pokemongo/pokemon/065.png</td>\n",
       "      <td>[Psychic]</td>\n",
       "      <td>1.50 m</td>\n",
       "      <td>48.0 kg</td>\n",
       "      <td>Abra Candy</td>\n",
       "      <td>0.0</td>\n",
       "      <td>Not in Eggs</td>\n",
       "      <td>0.0073</td>\n",
       "      <td>0.73</td>\n",
       "      <td>12:33</td>\n",
       "      <td>None</td>\n",
       "      <td>[Bug, Ghost, Dark]</td>\n",
       "      <td>NaN</td>\n",
       "      <td>[{'num': '063', 'name': 'Abra'}, {'num': '064'...</td>\n",
       "    </tr>\n",
       "    <tr>\n",
       "      <td>Arbok</td>\n",
       "      <td>24</td>\n",
       "      <td>24</td>\n",
       "      <td>http://www.serebii.net/pokemongo/pokemon/024.png</td>\n",
       "      <td>[Poison]</td>\n",
       "      <td>3.51 m</td>\n",
       "      <td>65.0 kg</td>\n",
       "      <td>Ekans Candy</td>\n",
       "      <td>0.0</td>\n",
       "      <td>Not in Eggs</td>\n",
       "      <td>0.0720</td>\n",
       "      <td>7.20</td>\n",
       "      <td>01:50</td>\n",
       "      <td>None</td>\n",
       "      <td>[Ground, Psychic]</td>\n",
       "      <td>NaN</td>\n",
       "      <td>[{'num': '023', 'name': 'Ekans'}]</td>\n",
       "    </tr>\n",
       "    <tr>\n",
       "      <td>Arcanine</td>\n",
       "      <td>59</td>\n",
       "      <td>59</td>\n",
       "      <td>http://www.serebii.net/pokemongo/pokemon/059.png</td>\n",
       "      <td>[Fire]</td>\n",
       "      <td>1.91 m</td>\n",
       "      <td>155.0 kg</td>\n",
       "      <td>Growlithe Candy</td>\n",
       "      <td>0.0</td>\n",
       "      <td>Not in Eggs</td>\n",
       "      <td>0.0170</td>\n",
       "      <td>1.70</td>\n",
       "      <td>03:11</td>\n",
       "      <td>None</td>\n",
       "      <td>[Water, Ground, Rock]</td>\n",
       "      <td>NaN</td>\n",
       "      <td>[{'num': '058', 'name': 'Growlithe'}]</td>\n",
       "    </tr>\n",
       "  </tbody>\n",
       "</table>\n",
       "</div>"
      ],
      "text/plain": [
       "             id  num                                               img  \\\n",
       "name                                                                     \n",
       "Abra         63   63  http://www.serebii.net/pokemongo/pokemon/063.png   \n",
       "Aerodactyl  142  142  http://www.serebii.net/pokemongo/pokemon/142.png   \n",
       "Alakazam     65   65  http://www.serebii.net/pokemongo/pokemon/065.png   \n",
       "Arbok        24   24  http://www.serebii.net/pokemongo/pokemon/024.png   \n",
       "Arcanine     59   59  http://www.serebii.net/pokemongo/pokemon/059.png   \n",
       "\n",
       "                      type  height    weight            candy  candy_count  \\\n",
       "name                                                                         \n",
       "Abra             [Psychic]  0.89 m   19.5 kg       Abra Candy         25.0   \n",
       "Aerodactyl  [Rock, Flying]  1.80 m   59.0 kg             None          0.0   \n",
       "Alakazam         [Psychic]  1.50 m   48.0 kg       Abra Candy          0.0   \n",
       "Arbok             [Poison]  3.51 m   65.0 kg      Ekans Candy          0.0   \n",
       "Arcanine            [Fire]  1.91 m  155.0 kg  Growlithe Candy          0.0   \n",
       "\n",
       "                    egg  spawn_chance  avg_spawns spawn_time  \\\n",
       "name                                                           \n",
       "Abra               5 km        0.4200       42.00      04:30   \n",
       "Aerodactyl        10 km        0.0180        1.80      23:40   \n",
       "Alakazam    Not in Eggs        0.0073        0.73      12:33   \n",
       "Arbok       Not in Eggs        0.0720        7.20      01:50   \n",
       "Arcanine    Not in Eggs        0.0170        1.70      03:11   \n",
       "\n",
       "                                         multipliers  \\\n",
       "name                                                   \n",
       "Abra        [1.3599999999999999, 1.9500000000000002]   \n",
       "Aerodactyl                                      None   \n",
       "Alakazam                                        None   \n",
       "Arbok                                           None   \n",
       "Arcanine                                        None   \n",
       "\n",
       "                                     weaknesses  \\\n",
       "name                                              \n",
       "Abra                         [Bug, Ghost, Dark]   \n",
       "Aerodactyl  [Water, Electric, Ice, Rock, Steel]   \n",
       "Alakazam                     [Bug, Ghost, Dark]   \n",
       "Arbok                         [Ground, Psychic]   \n",
       "Arcanine                  [Water, Ground, Rock]   \n",
       "\n",
       "                                               next_evolution  \\\n",
       "name                                                            \n",
       "Abra        [{'num': '064', 'name': 'Kadabra'}, {'num': '0...   \n",
       "Aerodactyl                                                NaN   \n",
       "Alakazam                                                  NaN   \n",
       "Arbok                                                     NaN   \n",
       "Arcanine                                                  NaN   \n",
       "\n",
       "                                               prev_evolution  \n",
       "name                                                           \n",
       "Abra                                                      NaN  \n",
       "Aerodactyl                                                NaN  \n",
       "Alakazam    [{'num': '063', 'name': 'Abra'}, {'num': '064'...  \n",
       "Arbok                       [{'num': '023', 'name': 'Ekans'}]  \n",
       "Arcanine                [{'num': '058', 'name': 'Growlithe'}]  "
      ]
     },
     "execution_count": 63,
     "metadata": {},
     "output_type": "execute_result"
    }
   ],
   "source": [
    "pokedex['candy_count'].fillna(0, inplace=True)\n",
    "pokedex.head()"
   ]
  },
  {
   "cell_type": "code",
   "execution_count": 64,
   "metadata": {},
   "outputs": [
    {
     "data": {
      "text/html": [
       "<div>\n",
       "<style scoped>\n",
       "    .dataframe tbody tr th:only-of-type {\n",
       "        vertical-align: middle;\n",
       "    }\n",
       "\n",
       "    .dataframe tbody tr th {\n",
       "        vertical-align: top;\n",
       "    }\n",
       "\n",
       "    .dataframe thead th {\n",
       "        text-align: right;\n",
       "    }\n",
       "</style>\n",
       "<table border=\"1\" class=\"dataframe\">\n",
       "  <thead>\n",
       "    <tr style=\"text-align: right;\">\n",
       "      <th></th>\n",
       "      <th>id</th>\n",
       "      <th>num</th>\n",
       "      <th>img</th>\n",
       "      <th>type</th>\n",
       "      <th>height</th>\n",
       "      <th>weight</th>\n",
       "      <th>candy</th>\n",
       "      <th>candy_count</th>\n",
       "      <th>egg</th>\n",
       "      <th>spawn_chance</th>\n",
       "      <th>avg_spawns</th>\n",
       "      <th>spawn_time</th>\n",
       "      <th>multipliers</th>\n",
       "      <th>weaknesses</th>\n",
       "      <th>next_evolution</th>\n",
       "      <th>prev_evolution</th>\n",
       "    </tr>\n",
       "    <tr>\n",
       "      <th>name</th>\n",
       "      <th></th>\n",
       "      <th></th>\n",
       "      <th></th>\n",
       "      <th></th>\n",
       "      <th></th>\n",
       "      <th></th>\n",
       "      <th></th>\n",
       "      <th></th>\n",
       "      <th></th>\n",
       "      <th></th>\n",
       "      <th></th>\n",
       "      <th></th>\n",
       "      <th></th>\n",
       "      <th></th>\n",
       "      <th></th>\n",
       "      <th></th>\n",
       "    </tr>\n",
       "  </thead>\n",
       "  <tbody>\n",
       "    <tr>\n",
       "      <td>Abra</td>\n",
       "      <td>63</td>\n",
       "      <td>63</td>\n",
       "      <td>http://www.serebii.net/pokemongo/pokemon/063.png</td>\n",
       "      <td>[Psychic]</td>\n",
       "      <td>0.89 m</td>\n",
       "      <td>19.5 kg</td>\n",
       "      <td>Abra Candy</td>\n",
       "      <td>25.0</td>\n",
       "      <td>5 km</td>\n",
       "      <td>0.4200</td>\n",
       "      <td>42.00</td>\n",
       "      <td>04:30</td>\n",
       "      <td>[1.3599999999999999, 1.9500000000000002]</td>\n",
       "      <td>[Bug, Ghost, Dark]</td>\n",
       "      <td>[{'num': '064', 'name': 'Kadabra'}, {'num': '0...</td>\n",
       "      <td>NaN</td>\n",
       "    </tr>\n",
       "    <tr>\n",
       "      <td>Aerodactyl</td>\n",
       "      <td>142</td>\n",
       "      <td>142</td>\n",
       "      <td>http://www.serebii.net/pokemongo/pokemon/142.png</td>\n",
       "      <td>[Rock, Flying]</td>\n",
       "      <td>1.80 m</td>\n",
       "      <td>59.0 kg</td>\n",
       "      <td>None</td>\n",
       "      <td>NaN</td>\n",
       "      <td>10 km</td>\n",
       "      <td>0.0180</td>\n",
       "      <td>1.80</td>\n",
       "      <td>23:40</td>\n",
       "      <td>None</td>\n",
       "      <td>[Water, Electric, Ice, Rock, Steel]</td>\n",
       "      <td>NaN</td>\n",
       "      <td>NaN</td>\n",
       "    </tr>\n",
       "    <tr>\n",
       "      <td>Alakazam</td>\n",
       "      <td>65</td>\n",
       "      <td>65</td>\n",
       "      <td>http://www.serebii.net/pokemongo/pokemon/065.png</td>\n",
       "      <td>[Psychic]</td>\n",
       "      <td>1.50 m</td>\n",
       "      <td>48.0 kg</td>\n",
       "      <td>Abra Candy</td>\n",
       "      <td>NaN</td>\n",
       "      <td>Not in Eggs</td>\n",
       "      <td>0.0073</td>\n",
       "      <td>0.73</td>\n",
       "      <td>12:33</td>\n",
       "      <td>None</td>\n",
       "      <td>[Bug, Ghost, Dark]</td>\n",
       "      <td>NaN</td>\n",
       "      <td>[{'num': '063', 'name': 'Abra'}, {'num': '064'...</td>\n",
       "    </tr>\n",
       "    <tr>\n",
       "      <td>Arbok</td>\n",
       "      <td>24</td>\n",
       "      <td>24</td>\n",
       "      <td>http://www.serebii.net/pokemongo/pokemon/024.png</td>\n",
       "      <td>[Poison]</td>\n",
       "      <td>3.51 m</td>\n",
       "      <td>65.0 kg</td>\n",
       "      <td>Ekans Candy</td>\n",
       "      <td>NaN</td>\n",
       "      <td>Not in Eggs</td>\n",
       "      <td>0.0720</td>\n",
       "      <td>7.20</td>\n",
       "      <td>01:50</td>\n",
       "      <td>None</td>\n",
       "      <td>[Ground, Psychic]</td>\n",
       "      <td>NaN</td>\n",
       "      <td>[{'num': '023', 'name': 'Ekans'}]</td>\n",
       "    </tr>\n",
       "    <tr>\n",
       "      <td>Arcanine</td>\n",
       "      <td>59</td>\n",
       "      <td>59</td>\n",
       "      <td>http://www.serebii.net/pokemongo/pokemon/059.png</td>\n",
       "      <td>[Fire]</td>\n",
       "      <td>1.91 m</td>\n",
       "      <td>155.0 kg</td>\n",
       "      <td>Growlithe Candy</td>\n",
       "      <td>NaN</td>\n",
       "      <td>Not in Eggs</td>\n",
       "      <td>0.0170</td>\n",
       "      <td>1.70</td>\n",
       "      <td>03:11</td>\n",
       "      <td>None</td>\n",
       "      <td>[Water, Ground, Rock]</td>\n",
       "      <td>NaN</td>\n",
       "      <td>[{'num': '058', 'name': 'Growlithe'}]</td>\n",
       "    </tr>\n",
       "  </tbody>\n",
       "</table>\n",
       "</div>"
      ],
      "text/plain": [
       "             id  num                                               img  \\\n",
       "name                                                                     \n",
       "Abra         63   63  http://www.serebii.net/pokemongo/pokemon/063.png   \n",
       "Aerodactyl  142  142  http://www.serebii.net/pokemongo/pokemon/142.png   \n",
       "Alakazam     65   65  http://www.serebii.net/pokemongo/pokemon/065.png   \n",
       "Arbok        24   24  http://www.serebii.net/pokemongo/pokemon/024.png   \n",
       "Arcanine     59   59  http://www.serebii.net/pokemongo/pokemon/059.png   \n",
       "\n",
       "                      type  height    weight            candy  candy_count  \\\n",
       "name                                                                         \n",
       "Abra             [Psychic]  0.89 m   19.5 kg       Abra Candy         25.0   \n",
       "Aerodactyl  [Rock, Flying]  1.80 m   59.0 kg             None          NaN   \n",
       "Alakazam         [Psychic]  1.50 m   48.0 kg       Abra Candy          NaN   \n",
       "Arbok             [Poison]  3.51 m   65.0 kg      Ekans Candy          NaN   \n",
       "Arcanine            [Fire]  1.91 m  155.0 kg  Growlithe Candy          NaN   \n",
       "\n",
       "                    egg  spawn_chance  avg_spawns spawn_time  \\\n",
       "name                                                           \n",
       "Abra               5 km        0.4200       42.00      04:30   \n",
       "Aerodactyl        10 km        0.0180        1.80      23:40   \n",
       "Alakazam    Not in Eggs        0.0073        0.73      12:33   \n",
       "Arbok       Not in Eggs        0.0720        7.20      01:50   \n",
       "Arcanine    Not in Eggs        0.0170        1.70      03:11   \n",
       "\n",
       "                                         multipliers  \\\n",
       "name                                                   \n",
       "Abra        [1.3599999999999999, 1.9500000000000002]   \n",
       "Aerodactyl                                      None   \n",
       "Alakazam                                        None   \n",
       "Arbok                                           None   \n",
       "Arcanine                                        None   \n",
       "\n",
       "                                     weaknesses  \\\n",
       "name                                              \n",
       "Abra                         [Bug, Ghost, Dark]   \n",
       "Aerodactyl  [Water, Electric, Ice, Rock, Steel]   \n",
       "Alakazam                     [Bug, Ghost, Dark]   \n",
       "Arbok                         [Ground, Psychic]   \n",
       "Arcanine                  [Water, Ground, Rock]   \n",
       "\n",
       "                                               next_evolution  \\\n",
       "name                                                            \n",
       "Abra        [{'num': '064', 'name': 'Kadabra'}, {'num': '0...   \n",
       "Aerodactyl                                                NaN   \n",
       "Alakazam                                                  NaN   \n",
       "Arbok                                                     NaN   \n",
       "Arcanine                                                  NaN   \n",
       "\n",
       "                                               prev_evolution  \n",
       "name                                                           \n",
       "Abra                                                      NaN  \n",
       "Aerodactyl                                                NaN  \n",
       "Alakazam    [{'num': '063', 'name': 'Abra'}, {'num': '064'...  \n",
       "Arbok                       [{'num': '023', 'name': 'Ekans'}]  \n",
       "Arcanine                [{'num': '058', 'name': 'Growlithe'}]  "
      ]
     },
     "execution_count": 64,
     "metadata": {},
     "output_type": "execute_result"
    }
   ],
   "source": [
    "# if you want to fill the missing numbers with an aggregation, you can also do that \n",
    "pokedex = pd.read_json('./data/pokedex.json')\n",
    "pokedex = pokedex.set_index('name')\n",
    "pokedex = pokedex.sort_index()\n",
    "pokedex.head()"
   ]
  },
  {
   "cell_type": "code",
   "execution_count": 65,
   "metadata": {},
   "outputs": [
    {
     "data": {
      "text/html": [
       "<div>\n",
       "<style scoped>\n",
       "    .dataframe tbody tr th:only-of-type {\n",
       "        vertical-align: middle;\n",
       "    }\n",
       "\n",
       "    .dataframe tbody tr th {\n",
       "        vertical-align: top;\n",
       "    }\n",
       "\n",
       "    .dataframe thead th {\n",
       "        text-align: right;\n",
       "    }\n",
       "</style>\n",
       "<table border=\"1\" class=\"dataframe\">\n",
       "  <thead>\n",
       "    <tr style=\"text-align: right;\">\n",
       "      <th></th>\n",
       "      <th>id</th>\n",
       "      <th>num</th>\n",
       "      <th>img</th>\n",
       "      <th>type</th>\n",
       "      <th>height</th>\n",
       "      <th>weight</th>\n",
       "      <th>candy</th>\n",
       "      <th>candy_count</th>\n",
       "      <th>egg</th>\n",
       "      <th>spawn_chance</th>\n",
       "      <th>avg_spawns</th>\n",
       "      <th>spawn_time</th>\n",
       "      <th>multipliers</th>\n",
       "      <th>weaknesses</th>\n",
       "      <th>next_evolution</th>\n",
       "      <th>prev_evolution</th>\n",
       "    </tr>\n",
       "    <tr>\n",
       "      <th>name</th>\n",
       "      <th></th>\n",
       "      <th></th>\n",
       "      <th></th>\n",
       "      <th></th>\n",
       "      <th></th>\n",
       "      <th></th>\n",
       "      <th></th>\n",
       "      <th></th>\n",
       "      <th></th>\n",
       "      <th></th>\n",
       "      <th></th>\n",
       "      <th></th>\n",
       "      <th></th>\n",
       "      <th></th>\n",
       "      <th></th>\n",
       "      <th></th>\n",
       "    </tr>\n",
       "  </thead>\n",
       "  <tbody>\n",
       "    <tr>\n",
       "      <td>Abra</td>\n",
       "      <td>63</td>\n",
       "      <td>63</td>\n",
       "      <td>http://www.serebii.net/pokemongo/pokemon/063.png</td>\n",
       "      <td>[Psychic]</td>\n",
       "      <td>0.89 m</td>\n",
       "      <td>19.5 kg</td>\n",
       "      <td>Abra Candy</td>\n",
       "      <td>25.0</td>\n",
       "      <td>5 km</td>\n",
       "      <td>0.4200</td>\n",
       "      <td>42.00</td>\n",
       "      <td>04:30</td>\n",
       "      <td>[1.3599999999999999, 1.9500000000000002]</td>\n",
       "      <td>[Bug, Ghost, Dark]</td>\n",
       "      <td>[{'num': '064', 'name': 'Kadabra'}, {'num': '0...</td>\n",
       "      <td>NaN</td>\n",
       "    </tr>\n",
       "    <tr>\n",
       "      <td>Aerodactyl</td>\n",
       "      <td>142</td>\n",
       "      <td>142</td>\n",
       "      <td>http://www.serebii.net/pokemongo/pokemon/142.png</td>\n",
       "      <td>[Rock, Flying]</td>\n",
       "      <td>1.80 m</td>\n",
       "      <td>59.0 kg</td>\n",
       "      <td>None</td>\n",
       "      <td>57.3</td>\n",
       "      <td>10 km</td>\n",
       "      <td>0.0180</td>\n",
       "      <td>1.80</td>\n",
       "      <td>23:40</td>\n",
       "      <td>None</td>\n",
       "      <td>[Water, Electric, Ice, Rock, Steel]</td>\n",
       "      <td>NaN</td>\n",
       "      <td>NaN</td>\n",
       "    </tr>\n",
       "    <tr>\n",
       "      <td>Alakazam</td>\n",
       "      <td>65</td>\n",
       "      <td>65</td>\n",
       "      <td>http://www.serebii.net/pokemongo/pokemon/065.png</td>\n",
       "      <td>[Psychic]</td>\n",
       "      <td>1.50 m</td>\n",
       "      <td>48.0 kg</td>\n",
       "      <td>Abra Candy</td>\n",
       "      <td>57.3</td>\n",
       "      <td>Not in Eggs</td>\n",
       "      <td>0.0073</td>\n",
       "      <td>0.73</td>\n",
       "      <td>12:33</td>\n",
       "      <td>None</td>\n",
       "      <td>[Bug, Ghost, Dark]</td>\n",
       "      <td>NaN</td>\n",
       "      <td>[{'num': '063', 'name': 'Abra'}, {'num': '064'...</td>\n",
       "    </tr>\n",
       "    <tr>\n",
       "      <td>Arbok</td>\n",
       "      <td>24</td>\n",
       "      <td>24</td>\n",
       "      <td>http://www.serebii.net/pokemongo/pokemon/024.png</td>\n",
       "      <td>[Poison]</td>\n",
       "      <td>3.51 m</td>\n",
       "      <td>65.0 kg</td>\n",
       "      <td>Ekans Candy</td>\n",
       "      <td>57.3</td>\n",
       "      <td>Not in Eggs</td>\n",
       "      <td>0.0720</td>\n",
       "      <td>7.20</td>\n",
       "      <td>01:50</td>\n",
       "      <td>None</td>\n",
       "      <td>[Ground, Psychic]</td>\n",
       "      <td>NaN</td>\n",
       "      <td>[{'num': '023', 'name': 'Ekans'}]</td>\n",
       "    </tr>\n",
       "    <tr>\n",
       "      <td>Arcanine</td>\n",
       "      <td>59</td>\n",
       "      <td>59</td>\n",
       "      <td>http://www.serebii.net/pokemongo/pokemon/059.png</td>\n",
       "      <td>[Fire]</td>\n",
       "      <td>1.91 m</td>\n",
       "      <td>155.0 kg</td>\n",
       "      <td>Growlithe Candy</td>\n",
       "      <td>57.3</td>\n",
       "      <td>Not in Eggs</td>\n",
       "      <td>0.0170</td>\n",
       "      <td>1.70</td>\n",
       "      <td>03:11</td>\n",
       "      <td>None</td>\n",
       "      <td>[Water, Ground, Rock]</td>\n",
       "      <td>NaN</td>\n",
       "      <td>[{'num': '058', 'name': 'Growlithe'}]</td>\n",
       "    </tr>\n",
       "  </tbody>\n",
       "</table>\n",
       "</div>"
      ],
      "text/plain": [
       "             id  num                                               img  \\\n",
       "name                                                                     \n",
       "Abra         63   63  http://www.serebii.net/pokemongo/pokemon/063.png   \n",
       "Aerodactyl  142  142  http://www.serebii.net/pokemongo/pokemon/142.png   \n",
       "Alakazam     65   65  http://www.serebii.net/pokemongo/pokemon/065.png   \n",
       "Arbok        24   24  http://www.serebii.net/pokemongo/pokemon/024.png   \n",
       "Arcanine     59   59  http://www.serebii.net/pokemongo/pokemon/059.png   \n",
       "\n",
       "                      type  height    weight            candy  candy_count  \\\n",
       "name                                                                         \n",
       "Abra             [Psychic]  0.89 m   19.5 kg       Abra Candy         25.0   \n",
       "Aerodactyl  [Rock, Flying]  1.80 m   59.0 kg             None         57.3   \n",
       "Alakazam         [Psychic]  1.50 m   48.0 kg       Abra Candy         57.3   \n",
       "Arbok             [Poison]  3.51 m   65.0 kg      Ekans Candy         57.3   \n",
       "Arcanine            [Fire]  1.91 m  155.0 kg  Growlithe Candy         57.3   \n",
       "\n",
       "                    egg  spawn_chance  avg_spawns spawn_time  \\\n",
       "name                                                           \n",
       "Abra               5 km        0.4200       42.00      04:30   \n",
       "Aerodactyl        10 km        0.0180        1.80      23:40   \n",
       "Alakazam    Not in Eggs        0.0073        0.73      12:33   \n",
       "Arbok       Not in Eggs        0.0720        7.20      01:50   \n",
       "Arcanine    Not in Eggs        0.0170        1.70      03:11   \n",
       "\n",
       "                                         multipliers  \\\n",
       "name                                                   \n",
       "Abra        [1.3599999999999999, 1.9500000000000002]   \n",
       "Aerodactyl                                      None   \n",
       "Alakazam                                        None   \n",
       "Arbok                                           None   \n",
       "Arcanine                                        None   \n",
       "\n",
       "                                     weaknesses  \\\n",
       "name                                              \n",
       "Abra                         [Bug, Ghost, Dark]   \n",
       "Aerodactyl  [Water, Electric, Ice, Rock, Steel]   \n",
       "Alakazam                     [Bug, Ghost, Dark]   \n",
       "Arbok                         [Ground, Psychic]   \n",
       "Arcanine                  [Water, Ground, Rock]   \n",
       "\n",
       "                                               next_evolution  \\\n",
       "name                                                            \n",
       "Abra        [{'num': '064', 'name': 'Kadabra'}, {'num': '0...   \n",
       "Aerodactyl                                                NaN   \n",
       "Alakazam                                                  NaN   \n",
       "Arbok                                                     NaN   \n",
       "Arcanine                                                  NaN   \n",
       "\n",
       "                                               prev_evolution  \n",
       "name                                                           \n",
       "Abra                                                      NaN  \n",
       "Aerodactyl                                                NaN  \n",
       "Alakazam    [{'num': '063', 'name': 'Abra'}, {'num': '064'...  \n",
       "Arbok                       [{'num': '023', 'name': 'Ekans'}]  \n",
       "Arcanine                [{'num': '058', 'name': 'Growlithe'}]  "
      ]
     },
     "execution_count": 65,
     "metadata": {},
     "output_type": "execute_result"
    }
   ],
   "source": [
    "pokedex['candy_count'].mean()\n",
    "pokedex['candy_count'].fillna( pokedex['candy_count'].mean() , inplace=True)\n",
    "pokedex.head()"
   ]
  },
  {
   "cell_type": "markdown",
   "metadata": {},
   "source": [
    "## Combining Pandas Datasets"
   ]
  },
  {
   "cell_type": "markdown",
   "metadata": {},
   "source": [
    "### Concatenation"
   ]
  },
  {
   "cell_type": "code",
   "execution_count": null,
   "metadata": {},
   "outputs": [],
   "source": [
    "poke_1 = pokedex.iloc[:25]\n",
    "poke_2 = pokedex.iloc[25:100]\n",
    "poke_3 = pokedex.iloc[100:]\n",
    "print(poke_1.shape, poke_2.shape,poke_3.shape)"
   ]
  },
  {
   "cell_type": "code",
   "execution_count": null,
   "metadata": {},
   "outputs": [],
   "source": [
    "new_poke_df = pd.concat([poke_3, poke_2, poke_1])\n",
    "print(new_poke_df.shape)\n",
    "print(poke_1.shape[0] + poke_2.shape[0] + poke_3.shape[0])\n",
    "new_poke_df.head()\n",
    "\n",
    "# what does verify_integrity do?\n",
    "# what does ignore_index do?\n",
    "# is there a way to tell is there are duplicates?"
   ]
  },
  {
   "cell_type": "markdown",
   "metadata": {},
   "source": [
    "### Merging"
   ]
  },
  {
   "cell_type": "code",
   "execution_count": 66,
   "metadata": {},
   "outputs": [],
   "source": [
    "pop = pd.read_csv('./data/state-population.csv')\n",
    "areas = pd.read_csv('./data/state-areas.csv')\n",
    "abbrevs = pd.read_csv('./data/state-abbrevs.csv')"
   ]
  },
  {
   "cell_type": "code",
   "execution_count": 67,
   "metadata": {
    "scrolled": true
   },
   "outputs": [
    {
     "name": "stdout",
     "output_type": "stream",
     "text": [
      "    state  area (sq. mi)\n",
      "18  Maine          35387\n",
      "        state abbreviation\n",
      "49  Wisconsin           WI\n",
      "     state_abrv   ages  year  population\n",
      "2464         PR  total  1997         NaN\n"
     ]
    }
   ],
   "source": [
    "# you can see that these two dfs share a common column, 'state' but the last does not\n",
    "# this makes merging easy\n",
    "\n",
    "print(areas.sample())\n",
    "print(abbrevs.sample())\n",
    "print(pop.sample())"
   ]
  },
  {
   "cell_type": "code",
   "execution_count": 68,
   "metadata": {},
   "outputs": [],
   "source": [
    "left_merged_df = pd.merge(abbrevs, areas)"
   ]
  },
  {
   "cell_type": "code",
   "execution_count": 69,
   "metadata": {},
   "outputs": [
    {
     "ename": "MergeError",
     "evalue": "No common columns to perform merge on. Merge options: left_on=None, right_on=None, left_index=False, right_index=False",
     "output_type": "error",
     "traceback": [
      "\u001b[0;31m---------------------------------------------------------------------------\u001b[0m",
      "\u001b[0;31mMergeError\u001b[0m                                Traceback (most recent call last)",
      "\u001b[0;32m<ipython-input-69-ac5e89f987ef>\u001b[0m in \u001b[0;36m<module>\u001b[0;34m\u001b[0m\n\u001b[1;32m      1\u001b[0m \u001b[0;31m# why does this break?\u001b[0m\u001b[0;34m\u001b[0m\u001b[0;34m\u001b[0m\u001b[0;34m\u001b[0m\u001b[0m\n\u001b[0;32m----> 2\u001b[0;31m \u001b[0mpd\u001b[0m\u001b[0;34m.\u001b[0m\u001b[0mmerge\u001b[0m\u001b[0;34m(\u001b[0m\u001b[0mleft_merged_df\u001b[0m\u001b[0;34m,\u001b[0m \u001b[0mpop\u001b[0m\u001b[0;34m)\u001b[0m\u001b[0;34m\u001b[0m\u001b[0;34m\u001b[0m\u001b[0m\n\u001b[0m",
      "\u001b[0;32m~/opt/anaconda3/lib/python3.7/site-packages/pandas/core/reshape/merge.py\u001b[0m in \u001b[0;36mmerge\u001b[0;34m(left, right, how, on, left_on, right_on, left_index, right_index, sort, suffixes, copy, indicator, validate)\u001b[0m\n\u001b[1;32m     79\u001b[0m         \u001b[0mcopy\u001b[0m\u001b[0;34m=\u001b[0m\u001b[0mcopy\u001b[0m\u001b[0;34m,\u001b[0m\u001b[0;34m\u001b[0m\u001b[0;34m\u001b[0m\u001b[0m\n\u001b[1;32m     80\u001b[0m         \u001b[0mindicator\u001b[0m\u001b[0;34m=\u001b[0m\u001b[0mindicator\u001b[0m\u001b[0;34m,\u001b[0m\u001b[0;34m\u001b[0m\u001b[0;34m\u001b[0m\u001b[0m\n\u001b[0;32m---> 81\u001b[0;31m         \u001b[0mvalidate\u001b[0m\u001b[0;34m=\u001b[0m\u001b[0mvalidate\u001b[0m\u001b[0;34m,\u001b[0m\u001b[0;34m\u001b[0m\u001b[0;34m\u001b[0m\u001b[0m\n\u001b[0m\u001b[1;32m     82\u001b[0m     )\n\u001b[1;32m     83\u001b[0m     \u001b[0;32mreturn\u001b[0m \u001b[0mop\u001b[0m\u001b[0;34m.\u001b[0m\u001b[0mget_result\u001b[0m\u001b[0;34m(\u001b[0m\u001b[0;34m)\u001b[0m\u001b[0;34m\u001b[0m\u001b[0;34m\u001b[0m\u001b[0m\n",
      "\u001b[0;32m~/opt/anaconda3/lib/python3.7/site-packages/pandas/core/reshape/merge.py\u001b[0m in \u001b[0;36m__init__\u001b[0;34m(self, left, right, how, on, left_on, right_on, axis, left_index, right_index, sort, suffixes, copy, indicator, validate)\u001b[0m\n\u001b[1;32m    617\u001b[0m             \u001b[0mwarnings\u001b[0m\u001b[0;34m.\u001b[0m\u001b[0mwarn\u001b[0m\u001b[0;34m(\u001b[0m\u001b[0mmsg\u001b[0m\u001b[0;34m,\u001b[0m \u001b[0mUserWarning\u001b[0m\u001b[0;34m)\u001b[0m\u001b[0;34m\u001b[0m\u001b[0;34m\u001b[0m\u001b[0m\n\u001b[1;32m    618\u001b[0m \u001b[0;34m\u001b[0m\u001b[0m\n\u001b[0;32m--> 619\u001b[0;31m         \u001b[0mself\u001b[0m\u001b[0;34m.\u001b[0m\u001b[0m_validate_specification\u001b[0m\u001b[0;34m(\u001b[0m\u001b[0;34m)\u001b[0m\u001b[0;34m\u001b[0m\u001b[0;34m\u001b[0m\u001b[0m\n\u001b[0m\u001b[1;32m    620\u001b[0m \u001b[0;34m\u001b[0m\u001b[0m\n\u001b[1;32m    621\u001b[0m         \u001b[0;31m# note this function has side effects\u001b[0m\u001b[0;34m\u001b[0m\u001b[0;34m\u001b[0m\u001b[0;34m\u001b[0m\u001b[0m\n",
      "\u001b[0;32m~/opt/anaconda3/lib/python3.7/site-packages/pandas/core/reshape/merge.py\u001b[0m in \u001b[0;36m_validate_specification\u001b[0;34m(self)\u001b[0m\n\u001b[1;32m   1188\u001b[0m                             \u001b[0mron\u001b[0m\u001b[0;34m=\u001b[0m\u001b[0mself\u001b[0m\u001b[0;34m.\u001b[0m\u001b[0mright_on\u001b[0m\u001b[0;34m,\u001b[0m\u001b[0;34m\u001b[0m\u001b[0;34m\u001b[0m\u001b[0m\n\u001b[1;32m   1189\u001b[0m                             \u001b[0mlidx\u001b[0m\u001b[0;34m=\u001b[0m\u001b[0mself\u001b[0m\u001b[0;34m.\u001b[0m\u001b[0mleft_index\u001b[0m\u001b[0;34m,\u001b[0m\u001b[0;34m\u001b[0m\u001b[0;34m\u001b[0m\u001b[0m\n\u001b[0;32m-> 1190\u001b[0;31m                             \u001b[0mridx\u001b[0m\u001b[0;34m=\u001b[0m\u001b[0mself\u001b[0m\u001b[0;34m.\u001b[0m\u001b[0mright_index\u001b[0m\u001b[0;34m,\u001b[0m\u001b[0;34m\u001b[0m\u001b[0;34m\u001b[0m\u001b[0m\n\u001b[0m\u001b[1;32m   1191\u001b[0m                         )\n\u001b[1;32m   1192\u001b[0m                     )\n",
      "\u001b[0;31mMergeError\u001b[0m: No common columns to perform merge on. Merge options: left_on=None, right_on=None, left_index=False, right_index=False"
     ]
    }
   ],
   "source": [
    "# why does this break?\n",
    "pd.merge(left_merged_df, pop)"
   ]
  },
  {
   "cell_type": "code",
   "execution_count": 70,
   "metadata": {},
   "outputs": [
    {
     "data": {
      "text/html": [
       "<div>\n",
       "<style scoped>\n",
       "    .dataframe tbody tr th:only-of-type {\n",
       "        vertical-align: middle;\n",
       "    }\n",
       "\n",
       "    .dataframe tbody tr th {\n",
       "        vertical-align: top;\n",
       "    }\n",
       "\n",
       "    .dataframe thead th {\n",
       "        text-align: right;\n",
       "    }\n",
       "</style>\n",
       "<table border=\"1\" class=\"dataframe\">\n",
       "  <thead>\n",
       "    <tr style=\"text-align: right;\">\n",
       "      <th></th>\n",
       "      <th>state</th>\n",
       "      <th>abbreviation</th>\n",
       "      <th>area (sq. mi)</th>\n",
       "      <th>state_abrv</th>\n",
       "      <th>ages</th>\n",
       "      <th>year</th>\n",
       "      <th>population</th>\n",
       "    </tr>\n",
       "  </thead>\n",
       "  <tbody>\n",
       "    <tr>\n",
       "      <td>0</td>\n",
       "      <td>Alabama</td>\n",
       "      <td>AL</td>\n",
       "      <td>52423</td>\n",
       "      <td>AL</td>\n",
       "      <td>under18</td>\n",
       "      <td>2012</td>\n",
       "      <td>1117489.0</td>\n",
       "    </tr>\n",
       "    <tr>\n",
       "      <td>1</td>\n",
       "      <td>Alabama</td>\n",
       "      <td>AL</td>\n",
       "      <td>52423</td>\n",
       "      <td>AL</td>\n",
       "      <td>total</td>\n",
       "      <td>2012</td>\n",
       "      <td>4817528.0</td>\n",
       "    </tr>\n",
       "    <tr>\n",
       "      <td>2</td>\n",
       "      <td>Alabama</td>\n",
       "      <td>AL</td>\n",
       "      <td>52423</td>\n",
       "      <td>AL</td>\n",
       "      <td>under18</td>\n",
       "      <td>2010</td>\n",
       "      <td>1130966.0</td>\n",
       "    </tr>\n",
       "    <tr>\n",
       "      <td>3</td>\n",
       "      <td>Alabama</td>\n",
       "      <td>AL</td>\n",
       "      <td>52423</td>\n",
       "      <td>AL</td>\n",
       "      <td>total</td>\n",
       "      <td>2010</td>\n",
       "      <td>4785570.0</td>\n",
       "    </tr>\n",
       "    <tr>\n",
       "      <td>4</td>\n",
       "      <td>Alabama</td>\n",
       "      <td>AL</td>\n",
       "      <td>52423</td>\n",
       "      <td>AL</td>\n",
       "      <td>under18</td>\n",
       "      <td>2011</td>\n",
       "      <td>1125763.0</td>\n",
       "    </tr>\n",
       "    <tr>\n",
       "      <td>...</td>\n",
       "      <td>...</td>\n",
       "      <td>...</td>\n",
       "      <td>...</td>\n",
       "      <td>...</td>\n",
       "      <td>...</td>\n",
       "      <td>...</td>\n",
       "      <td>...</td>\n",
       "    </tr>\n",
       "    <tr>\n",
       "      <td>2443</td>\n",
       "      <td>Wyoming</td>\n",
       "      <td>WY</td>\n",
       "      <td>97818</td>\n",
       "      <td>WY</td>\n",
       "      <td>under18</td>\n",
       "      <td>1993</td>\n",
       "      <td>137458.0</td>\n",
       "    </tr>\n",
       "    <tr>\n",
       "      <td>2444</td>\n",
       "      <td>Wyoming</td>\n",
       "      <td>WY</td>\n",
       "      <td>97818</td>\n",
       "      <td>WY</td>\n",
       "      <td>total</td>\n",
       "      <td>1991</td>\n",
       "      <td>459260.0</td>\n",
       "    </tr>\n",
       "    <tr>\n",
       "      <td>2445</td>\n",
       "      <td>Wyoming</td>\n",
       "      <td>WY</td>\n",
       "      <td>97818</td>\n",
       "      <td>WY</td>\n",
       "      <td>under18</td>\n",
       "      <td>1991</td>\n",
       "      <td>136720.0</td>\n",
       "    </tr>\n",
       "    <tr>\n",
       "      <td>2446</td>\n",
       "      <td>Wyoming</td>\n",
       "      <td>WY</td>\n",
       "      <td>97818</td>\n",
       "      <td>WY</td>\n",
       "      <td>under18</td>\n",
       "      <td>1990</td>\n",
       "      <td>136078.0</td>\n",
       "    </tr>\n",
       "    <tr>\n",
       "      <td>2447</td>\n",
       "      <td>Wyoming</td>\n",
       "      <td>WY</td>\n",
       "      <td>97818</td>\n",
       "      <td>WY</td>\n",
       "      <td>total</td>\n",
       "      <td>1990</td>\n",
       "      <td>453690.0</td>\n",
       "    </tr>\n",
       "  </tbody>\n",
       "</table>\n",
       "<p>2448 rows × 7 columns</p>\n",
       "</div>"
      ],
      "text/plain": [
       "        state abbreviation  area (sq. mi) state_abrv     ages  year  \\\n",
       "0     Alabama           AL          52423         AL  under18  2012   \n",
       "1     Alabama           AL          52423         AL    total  2012   \n",
       "2     Alabama           AL          52423         AL  under18  2010   \n",
       "3     Alabama           AL          52423         AL    total  2010   \n",
       "4     Alabama           AL          52423         AL  under18  2011   \n",
       "...       ...          ...            ...        ...      ...   ...   \n",
       "2443  Wyoming           WY          97818         WY  under18  1993   \n",
       "2444  Wyoming           WY          97818         WY    total  1991   \n",
       "2445  Wyoming           WY          97818         WY  under18  1991   \n",
       "2446  Wyoming           WY          97818         WY  under18  1990   \n",
       "2447  Wyoming           WY          97818         WY    total  1990   \n",
       "\n",
       "      population  \n",
       "0      1117489.0  \n",
       "1      4817528.0  \n",
       "2      1130966.0  \n",
       "3      4785570.0  \n",
       "4      1125763.0  \n",
       "...          ...  \n",
       "2443    137458.0  \n",
       "2444    459260.0  \n",
       "2445    136720.0  \n",
       "2446    136078.0  \n",
       "2447    453690.0  \n",
       "\n",
       "[2448 rows x 7 columns]"
      ]
     },
     "execution_count": 70,
     "metadata": {},
     "output_type": "execute_result"
    }
   ],
   "source": [
    "# sometimes you have to explain to pandas how dataframes relate to each other\n",
    "pd.merge(left_merged_df, pop, left_on=\"abbreviation\", right_on=\"state_abrv\")"
   ]
  },
  {
   "cell_type": "code",
   "execution_count": null,
   "metadata": {
    "scrolled": true
   },
   "outputs": [],
   "source": [
    "# you need to join not on a column but an index?\n",
    "# what would you do with this? \n",
    "# can it be done?\n",
    "\n",
    "abbres_with_index = abbrevs.set_index('abbreviation')\n",
    "abbres_with_index.head()\n",
    "# now do the join..."
   ]
  },
  {
   "cell_type": "markdown",
   "metadata": {},
   "source": [
    "## Different Type of Joins"
   ]
  },
  {
   "cell_type": "code",
   "execution_count": 5,
   "metadata": {},
   "outputs": [],
   "source": [
    "# Team Members Favorite Restaurants\n",
    "team_restaurants = pd.DataFrame(\n",
    "    {'restaurant': ['In-N-Out', 'Chipotle', 'Chick-Fil-A'], \n",
    "    'name': ['Mike', 'Kim', 'Roger']})\n",
    "\n",
    "# Restaurant Items\n",
    "restaurant_items = pd.DataFrame(\n",
    "    {\n",
    "        'item': [\n",
    "        'Shakes', \n",
    "        'Burritos', \n",
    "        'Burger'\n",
    "        ]\n",
    "    ,\n",
    "        'restaurant':[\n",
    "        'In-N-Out',\n",
    "        'Chipotle',\n",
    "        'Five Guys',\n",
    "    ]\n",
    "    }\n",
    ")\n"
   ]
  },
  {
   "cell_type": "code",
   "execution_count": 6,
   "metadata": {},
   "outputs": [
    {
     "data": {
      "text/html": [
       "<div>\n",
       "<style scoped>\n",
       "    .dataframe tbody tr th:only-of-type {\n",
       "        vertical-align: middle;\n",
       "    }\n",
       "\n",
       "    .dataframe tbody tr th {\n",
       "        vertical-align: top;\n",
       "    }\n",
       "\n",
       "    .dataframe thead th {\n",
       "        text-align: right;\n",
       "    }\n",
       "</style>\n",
       "<table border=\"1\" class=\"dataframe\">\n",
       "  <thead>\n",
       "    <tr style=\"text-align: right;\">\n",
       "      <th></th>\n",
       "      <th>restaurant</th>\n",
       "      <th>name</th>\n",
       "    </tr>\n",
       "  </thead>\n",
       "  <tbody>\n",
       "    <tr>\n",
       "      <td>0</td>\n",
       "      <td>In-N-Out</td>\n",
       "      <td>Mike</td>\n",
       "    </tr>\n",
       "    <tr>\n",
       "      <td>1</td>\n",
       "      <td>Chipotle</td>\n",
       "      <td>Kim</td>\n",
       "    </tr>\n",
       "    <tr>\n",
       "      <td>2</td>\n",
       "      <td>Chick-Fil-A</td>\n",
       "      <td>Roger</td>\n",
       "    </tr>\n",
       "  </tbody>\n",
       "</table>\n",
       "</div>"
      ],
      "text/plain": [
       "    restaurant   name\n",
       "0     In-N-Out   Mike\n",
       "1     Chipotle    Kim\n",
       "2  Chick-Fil-A  Roger"
      ]
     },
     "execution_count": 6,
     "metadata": {},
     "output_type": "execute_result"
    }
   ],
   "source": [
    "team_restaurants"
   ]
  },
  {
   "cell_type": "code",
   "execution_count": 73,
   "metadata": {},
   "outputs": [
    {
     "data": {
      "text/html": [
       "<div>\n",
       "<style scoped>\n",
       "    .dataframe tbody tr th:only-of-type {\n",
       "        vertical-align: middle;\n",
       "    }\n",
       "\n",
       "    .dataframe tbody tr th {\n",
       "        vertical-align: top;\n",
       "    }\n",
       "\n",
       "    .dataframe thead th {\n",
       "        text-align: right;\n",
       "    }\n",
       "</style>\n",
       "<table border=\"1\" class=\"dataframe\">\n",
       "  <thead>\n",
       "    <tr style=\"text-align: right;\">\n",
       "      <th></th>\n",
       "      <th>item</th>\n",
       "      <th>restaurant</th>\n",
       "    </tr>\n",
       "  </thead>\n",
       "  <tbody>\n",
       "    <tr>\n",
       "      <td>0</td>\n",
       "      <td>Shakes</td>\n",
       "      <td>In-N-Out</td>\n",
       "    </tr>\n",
       "    <tr>\n",
       "      <td>1</td>\n",
       "      <td>Burritos</td>\n",
       "      <td>Chipotle</td>\n",
       "    </tr>\n",
       "    <tr>\n",
       "      <td>2</td>\n",
       "      <td>Burger</td>\n",
       "      <td>Five Guys</td>\n",
       "    </tr>\n",
       "  </tbody>\n",
       "</table>\n",
       "</div>"
      ],
      "text/plain": [
       "       item restaurant\n",
       "0    Shakes   In-N-Out\n",
       "1  Burritos   Chipotle\n",
       "2    Burger  Five Guys"
      ]
     },
     "execution_count": 73,
     "metadata": {},
     "output_type": "execute_result"
    }
   ],
   "source": [
    "restaurant_items"
   ]
  },
  {
   "cell_type": "code",
   "execution_count": 7,
   "metadata": {},
   "outputs": [
    {
     "data": {
      "text/html": [
       "<div>\n",
       "<style scoped>\n",
       "    .dataframe tbody tr th:only-of-type {\n",
       "        vertical-align: middle;\n",
       "    }\n",
       "\n",
       "    .dataframe tbody tr th {\n",
       "        vertical-align: top;\n",
       "    }\n",
       "\n",
       "    .dataframe thead th {\n",
       "        text-align: right;\n",
       "    }\n",
       "</style>\n",
       "<table border=\"1\" class=\"dataframe\">\n",
       "  <thead>\n",
       "    <tr style=\"text-align: right;\">\n",
       "      <th></th>\n",
       "      <th>restaurant</th>\n",
       "      <th>name</th>\n",
       "      <th>item</th>\n",
       "    </tr>\n",
       "  </thead>\n",
       "  <tbody>\n",
       "    <tr>\n",
       "      <td>0</td>\n",
       "      <td>In-N-Out</td>\n",
       "      <td>Mike</td>\n",
       "      <td>Shakes</td>\n",
       "    </tr>\n",
       "    <tr>\n",
       "      <td>1</td>\n",
       "      <td>Chipotle</td>\n",
       "      <td>Kim</td>\n",
       "      <td>Burritos</td>\n",
       "    </tr>\n",
       "  </tbody>\n",
       "</table>\n",
       "</div>"
      ],
      "text/plain": [
       "  restaurant  name      item\n",
       "0   In-N-Out  Mike    Shakes\n",
       "1   Chipotle   Kim  Burritos"
      ]
     },
     "execution_count": 7,
     "metadata": {},
     "output_type": "execute_result"
    }
   ],
   "source": [
    "pd.merge(team_restaurants, restaurant_items, how=\"inner\") # default"
   ]
  },
  {
   "cell_type": "code",
   "execution_count": 8,
   "metadata": {},
   "outputs": [
    {
     "data": {
      "text/html": [
       "<div>\n",
       "<style scoped>\n",
       "    .dataframe tbody tr th:only-of-type {\n",
       "        vertical-align: middle;\n",
       "    }\n",
       "\n",
       "    .dataframe tbody tr th {\n",
       "        vertical-align: top;\n",
       "    }\n",
       "\n",
       "    .dataframe thead th {\n",
       "        text-align: right;\n",
       "    }\n",
       "</style>\n",
       "<table border=\"1\" class=\"dataframe\">\n",
       "  <thead>\n",
       "    <tr style=\"text-align: right;\">\n",
       "      <th></th>\n",
       "      <th>restaurant</th>\n",
       "      <th>name</th>\n",
       "      <th>item</th>\n",
       "    </tr>\n",
       "  </thead>\n",
       "  <tbody>\n",
       "    <tr>\n",
       "      <td>0</td>\n",
       "      <td>In-N-Out</td>\n",
       "      <td>Mike</td>\n",
       "      <td>Shakes</td>\n",
       "    </tr>\n",
       "    <tr>\n",
       "      <td>1</td>\n",
       "      <td>Chipotle</td>\n",
       "      <td>Kim</td>\n",
       "      <td>Burritos</td>\n",
       "    </tr>\n",
       "    <tr>\n",
       "      <td>2</td>\n",
       "      <td>Chick-Fil-A</td>\n",
       "      <td>Roger</td>\n",
       "      <td>NaN</td>\n",
       "    </tr>\n",
       "    <tr>\n",
       "      <td>3</td>\n",
       "      <td>Five Guys</td>\n",
       "      <td>NaN</td>\n",
       "      <td>Burger</td>\n",
       "    </tr>\n",
       "  </tbody>\n",
       "</table>\n",
       "</div>"
      ],
      "text/plain": [
       "    restaurant   name      item\n",
       "0     In-N-Out   Mike    Shakes\n",
       "1     Chipotle    Kim  Burritos\n",
       "2  Chick-Fil-A  Roger       NaN\n",
       "3    Five Guys    NaN    Burger"
      ]
     },
     "execution_count": 8,
     "metadata": {},
     "output_type": "execute_result"
    }
   ],
   "source": [
    "pd.merge(team_restaurants, restaurant_items, how=\"outer\")"
   ]
  },
  {
   "cell_type": "code",
   "execution_count": 9,
   "metadata": {},
   "outputs": [
    {
     "data": {
      "text/html": [
       "<div>\n",
       "<style scoped>\n",
       "    .dataframe tbody tr th:only-of-type {\n",
       "        vertical-align: middle;\n",
       "    }\n",
       "\n",
       "    .dataframe tbody tr th {\n",
       "        vertical-align: top;\n",
       "    }\n",
       "\n",
       "    .dataframe thead th {\n",
       "        text-align: right;\n",
       "    }\n",
       "</style>\n",
       "<table border=\"1\" class=\"dataframe\">\n",
       "  <thead>\n",
       "    <tr style=\"text-align: right;\">\n",
       "      <th></th>\n",
       "      <th>restaurant</th>\n",
       "      <th>name</th>\n",
       "      <th>item</th>\n",
       "    </tr>\n",
       "  </thead>\n",
       "  <tbody>\n",
       "    <tr>\n",
       "      <td>0</td>\n",
       "      <td>In-N-Out</td>\n",
       "      <td>Mike</td>\n",
       "      <td>Shakes</td>\n",
       "    </tr>\n",
       "    <tr>\n",
       "      <td>1</td>\n",
       "      <td>Chipotle</td>\n",
       "      <td>Kim</td>\n",
       "      <td>Burritos</td>\n",
       "    </tr>\n",
       "    <tr>\n",
       "      <td>2</td>\n",
       "      <td>Chick-Fil-A</td>\n",
       "      <td>Roger</td>\n",
       "      <td>NaN</td>\n",
       "    </tr>\n",
       "  </tbody>\n",
       "</table>\n",
       "</div>"
      ],
      "text/plain": [
       "    restaurant   name      item\n",
       "0     In-N-Out   Mike    Shakes\n",
       "1     Chipotle    Kim  Burritos\n",
       "2  Chick-Fil-A  Roger       NaN"
      ]
     },
     "execution_count": 9,
     "metadata": {},
     "output_type": "execute_result"
    }
   ],
   "source": [
    "pd.merge(team_restaurants, restaurant_items, how=\"left\")"
   ]
  },
  {
   "cell_type": "code",
   "execution_count": 10,
   "metadata": {},
   "outputs": [
    {
     "data": {
      "text/html": [
       "<div>\n",
       "<style scoped>\n",
       "    .dataframe tbody tr th:only-of-type {\n",
       "        vertical-align: middle;\n",
       "    }\n",
       "\n",
       "    .dataframe tbody tr th {\n",
       "        vertical-align: top;\n",
       "    }\n",
       "\n",
       "    .dataframe thead th {\n",
       "        text-align: right;\n",
       "    }\n",
       "</style>\n",
       "<table border=\"1\" class=\"dataframe\">\n",
       "  <thead>\n",
       "    <tr style=\"text-align: right;\">\n",
       "      <th></th>\n",
       "      <th>restaurant</th>\n",
       "      <th>name</th>\n",
       "      <th>item</th>\n",
       "    </tr>\n",
       "  </thead>\n",
       "  <tbody>\n",
       "    <tr>\n",
       "      <td>0</td>\n",
       "      <td>In-N-Out</td>\n",
       "      <td>Mike</td>\n",
       "      <td>Shakes</td>\n",
       "    </tr>\n",
       "    <tr>\n",
       "      <td>1</td>\n",
       "      <td>Chipotle</td>\n",
       "      <td>Kim</td>\n",
       "      <td>Burritos</td>\n",
       "    </tr>\n",
       "    <tr>\n",
       "      <td>2</td>\n",
       "      <td>Five Guys</td>\n",
       "      <td>NaN</td>\n",
       "      <td>Burger</td>\n",
       "    </tr>\n",
       "  </tbody>\n",
       "</table>\n",
       "</div>"
      ],
      "text/plain": [
       "  restaurant  name      item\n",
       "0   In-N-Out  Mike    Shakes\n",
       "1   Chipotle   Kim  Burritos\n",
       "2  Five Guys   NaN    Burger"
      ]
     },
     "execution_count": 10,
     "metadata": {},
     "output_type": "execute_result"
    }
   ],
   "source": [
    "pd.merge(team_restaurants, restaurant_items, how=\"right\")"
   ]
  }
 ],
 "metadata": {
  "kernelspec": {
   "display_name": "Python 3",
   "language": "python",
   "name": "python3"
  },
  "language_info": {
   "codemirror_mode": {
    "name": "ipython",
    "version": 3
   },
   "file_extension": ".py",
   "mimetype": "text/x-python",
   "name": "python",
   "nbconvert_exporter": "python",
   "pygments_lexer": "ipython3",
   "version": "3.7.4"
  }
 },
 "nbformat": 4,
 "nbformat_minor": 2
}
