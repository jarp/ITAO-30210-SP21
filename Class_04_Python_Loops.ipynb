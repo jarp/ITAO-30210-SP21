{
 "cells": [
  {
   "cell_type": "markdown",
   "metadata": {},
   "source": [
    "## Nested Conditionals"
   ]
  },
  {
   "cell_type": "code",
   "execution_count": null,
   "metadata": {},
   "outputs": [],
   "source": [
    "a = 1000\n",
    "b = 5000000\n",
    "c = 2000\n",
    "if a > b:\n",
    "    if a < c:\n",
    "        print(\"The value of a is between b and c\")\n",
    "    print(\"well at least a is greater than b\")"
   ]
  },
  {
   "cell_type": "code",
   "execution_count": null,
   "metadata": {},
   "outputs": [],
   "source": [
    "a = 50\n",
    "b = 5\n",
    "c = 20\n",
    "if a > b:\n",
    "    if a < c:\n",
    "        print(\"The value of a is between b and c\")\n",
    "    else:\n",
    "        print(\"The value of a is NOT NOT NOT between b and c\")\n",
    "elif a < b:\n",
    "    print (\"The value of a is less than b\")\n",
    "else:\n",
    "    print(\"The value of a is same as b\")"
   ]
  },
  {
   "cell_type": "markdown",
   "metadata": {},
   "source": [
    "## while loop"
   ]
  },
  {
   "cell_type": "code",
   "execution_count": null,
   "metadata": {},
   "outputs": [],
   "source": [
    "i = 0\n",
    "# loops until expression evaluates to false\n",
    "while( i < 10 ):\n",
    "    print(\"'{} < 10' => {}\".format(i, i < 10))\n",
    "    i = i + 1\n",
    "print(\"Thank you!\")"
   ]
  },
  {
   "cell_type": "markdown",
   "metadata": {},
   "source": [
    "### Infinite loop"
   ]
  },
  {
   "cell_type": "code",
   "execution_count": null,
   "metadata": {},
   "outputs": [],
   "source": [
    "i = 0\n",
    "while(i<10):\n",
    "    x = i + 1    \n",
    "    \n",
    "print('wat')"
   ]
  },
  {
   "cell_type": "markdown",
   "metadata": {},
   "source": [
    "## Practice #4: Keep guessing!\n",
    "\n",
    "Write a program that allows the user to guess the answer to the question, “Which U.S. president was born on July 4?”\n",
    "\n",
    "Sample Interaction\n",
    "\n",
    "Which US president was born on July 4th?: Barack Obama\n",
    "\n",
    "Enter another guess: Bill Clinton\n",
    "\n",
    "Enter another guess: George Bush\n",
    "\n",
    "Enter another guess: Calvin Coolidge\n",
    "\n",
    "answer = \"Calvin Coolidge\"\n",
    "guess = \"\"Thank you!"
   ]
  },
  {
   "cell_type": "code",
   "execution_count": 1,
   "metadata": {},
   "outputs": [
    {
     "name": "stdout",
     "output_type": "stream",
     "text": [
      "President's name?me\n",
      "Nope, not it. Try again\n",
      "President's name?Calvin coolidge\n",
      "thank you!\n"
     ]
    }
   ],
   "source": [
    "answer = \"Calvin Coolidge\"\n",
    "guess = \"\"\n",
    "\n",
    "while guess.upper() != answer.upper():\n",
    "    guess = input(\"President's name?\")\n",
    "    if guess.upper() != answer.upper():\n",
    "        print('Nope, not it. Try again')\n",
    "        \n",
    "print(\"thank you!\")"
   ]
  },
  {
   "cell_type": "code",
   "execution_count": 4,
   "metadata": {},
   "outputs": [
    {
     "name": "stdout",
     "output_type": "stream",
     "text": [
      "President's name?Calvin Coolidge\n",
      "yep!\n",
      "thank you!\n"
     ]
    }
   ],
   "source": [
    "answer = \"Calvin Coolidge\"\n",
    "your_wrong = True\n",
    "\n",
    "while your_wrong:\n",
    "    guess = input(\"President's name?\")\n",
    "    if guess.upper() != answer.upper():\n",
    "        print('Nope, not it. Try again')\n",
    "    else:\n",
    "        print(\"yep!\")\n",
    "        your_wrong = False\n",
    "        \n",
    "print(\"thank you!\")"
   ]
  },
  {
   "cell_type": "markdown",
   "metadata": {},
   "source": [
    "## Modified Practice #4: Limited guesses with hints\n",
    "\n",
    "Write a program that allows the user ten tries to answer the question, “Which U.S. president was born on July 4?”\n",
    "\n",
    "After three incorrect guesses, the program should display the hint, “He once said, ‘If you don’t say anything, you won’t be called upon to repeat it.’”\n",
    "\n",
    "After seven incorrect guesses, the program should give the hint, “His nickname was ‘Silent Cal.’\n"
   ]
  },
  {
   "cell_type": "code",
   "execution_count": null,
   "metadata": {},
   "outputs": [],
   "source": []
  },
  {
   "cell_type": "code",
   "execution_count": null,
   "metadata": {},
   "outputs": [],
   "source": []
  },
  {
   "cell_type": "code",
   "execution_count": 8,
   "metadata": {},
   "outputs": [
    {
     "name": "stdout",
     "output_type": "stream",
     "text": [
      "President's name?asdf\n",
      "Nope, not it. Try again\n",
      "President's name?asdf\n",
      "Nope, not it. Try again\n",
      "President's name?asdf\n",
      "Nope, not it. Try again\n",
      "He once said, ‘If you don’t say anything, you won’t be called upon to repeat it.\n",
      "President's name?asdf\n",
      "Nope, not it. Try again\n",
      "President's name?asdf\n",
      "Nope, not it. Try again\n",
      "President's name?asdf\n",
      "Nope, not it. Try again\n",
      "President's name?asdf\n",
      "Nope, not it. Try again\n",
      "His nickname was 'Silent Cal'\n",
      "President's name?df\n",
      "Nope, not it. Try again\n",
      "President's name?asdf\n",
      "Nope, not it. Try again\n",
      "President's name?asdf\n",
      "Nope, not it. Try again\n",
      "you need to take basic government class again...\n",
      "thank you!\n"
     ]
    }
   ],
   "source": [
    "hint1 = \"He once said, ‘If you don’t say anything, you won’t be called upon to repeat it.\"\n",
    "hint2 = \"His nickname was 'Silent Cal'\"\n",
    "guess_count = 0\n",
    "\n",
    "answer = \"Calvin Coolidge\"\n",
    "your_wrong = True\n",
    "\n",
    "while your_wrong and guess_count < 10:\n",
    "    guess_count += 1\n",
    "    guess = input(\"President's name?\")\n",
    "    if guess.upper() != answer.upper():\n",
    "        print('Nope, not it. Try again')\n",
    "        \n",
    "        if guess_count == 3:\n",
    "            print(hint1)\n",
    "        elif guess_count == 7:\n",
    "            print(hint2)\n",
    "        elif guess_count == 10:\n",
    "            print(\"you need to take basic government class again...\")\n",
    "   \n",
    "    else:\n",
    "        print(\"yep!\")\n",
    "        your_wrong = False\n",
    "        \n",
    "print(\"thank you!\")\n"
   ]
  },
  {
   "cell_type": "markdown",
   "metadata": {},
   "source": [
    "## for loop"
   ]
  },
  {
   "cell_type": "code",
   "execution_count": 15,
   "metadata": {},
   "outputs": [
    {
     "name": "stdout",
     "output_type": "stream",
     "text": [
      "0\n",
      "1\n",
      "2\n",
      "3\n",
      "4\n",
      "5\n",
      "6\n",
      "7\n",
      "8\n",
      "9\n"
     ]
    }
   ],
   "source": [
    "for i in range(10):\n",
    "    print(i)"
   ]
  },
  {
   "cell_type": "markdown",
   "metadata": {},
   "source": [
    "### Practice #5 Printing odd numbers betwen 0 and 15 (excluded)"
   ]
  },
  {
   "cell_type": "code",
   "execution_count": 16,
   "metadata": {},
   "outputs": [
    {
     "name": "stdout",
     "output_type": "stream",
     "text": [
      "1\n",
      "3\n",
      "5\n",
      "7\n",
      "9\n",
      "11\n",
      "13\n"
     ]
    }
   ],
   "source": [
    "for i in range(15):\n",
    "    if i % 2 == 1:\n",
    "        print(i)"
   ]
  },
  {
   "cell_type": "markdown",
   "metadata": {},
   "source": [
    "### Practice #5: Write a program to accept a number n and prints the sum of first n positive integers\n",
    "\n",
    "###### Sample Interaction:\n",
    "\n",
    "Enter a number: 5\n",
    "\n",
    "The sum of first 5 numbers is 15\n"
   ]
  },
  {
   "cell_type": "code",
   "execution_count": 20,
   "metadata": {},
   "outputs": [
    {
     "name": "stdout",
     "output_type": "stream",
     "text": [
      "gemme number5\n",
      "adding 1\n",
      "adding 2\n",
      "adding 3\n",
      "adding 4\n",
      "adding 5\n",
      "15\n"
     ]
    }
   ],
   "source": [
    "num = int(input(\"gemme number\"))\n",
    "sum_num = 0\n",
    "for i in range(1, num + 1):\n",
    "    print(\"adding {}\".format(i))\n",
    "    sum_num = sum_num + i\n",
    "\n",
    "\n",
    "print(sum_num)"
   ]
  },
  {
   "cell_type": "markdown",
   "metadata": {},
   "source": [
    "## More on range() statement"
   ]
  },
  {
   "cell_type": "code",
   "execution_count": null,
   "metadata": {},
   "outputs": [],
   "source": [
    "help(range)"
   ]
  },
  {
   "cell_type": "markdown",
   "metadata": {
    "collapsed": true
   },
   "source": [
    "### range(start, stop, step)"
   ]
  },
  {
   "cell_type": "code",
   "execution_count": null,
   "metadata": {},
   "outputs": [],
   "source": [
    "for i in range(4,34,3):\n",
    "    print(i)\n"
   ]
  },
  {
   "cell_type": "code",
   "execution_count": null,
   "metadata": {},
   "outputs": [],
   "source": [
    "# solution to #5 with range()\n",
    "for i in range(1,15,2):\n",
    "    print(i)"
   ]
  },
  {
   "cell_type": "markdown",
   "metadata": {},
   "source": [
    "## import random"
   ]
  },
  {
   "cell_type": "code",
   "execution_count": 21,
   "metadata": {},
   "outputs": [
    {
     "name": "stdout",
     "output_type": "stream",
     "text": [
      "3705023\n"
     ]
    }
   ],
   "source": [
    "import random\n",
    "print(random.randint(20,4000000))"
   ]
  }
 ],
 "metadata": {
  "kernelspec": {
   "display_name": "Python 3",
   "language": "python",
   "name": "python3"
  },
  "language_info": {
   "codemirror_mode": {
    "name": "ipython",
    "version": 3
   },
   "file_extension": ".py",
   "mimetype": "text/x-python",
   "name": "python",
   "nbconvert_exporter": "python",
   "pygments_lexer": "ipython3",
   "version": "3.7.4"
  }
 },
 "nbformat": 4,
 "nbformat_minor": 2
}
