{
 "cells": [
  {
   "cell_type": "markdown",
   "metadata": {},
   "source": [
    "# Programming Flow Control"
   ]
  },
  {
   "cell_type": "markdown",
   "metadata": {},
   "source": [
    "## Logical expressions, and Comparison and Boolean operators"
   ]
  },
  {
   "cell_type": "code",
   "execution_count": 1,
   "metadata": {},
   "outputs": [
    {
     "data": {
      "text/plain": [
       "True"
      ]
     },
     "execution_count": 1,
     "metadata": {},
     "output_type": "execute_result"
    }
   ],
   "source": [
    "2 + 3 < 8"
   ]
  },
  {
   "cell_type": "code",
   "execution_count": 2,
   "metadata": {},
   "outputs": [
    {
     "data": {
      "text/plain": [
       "True"
      ]
     },
     "execution_count": 2,
     "metadata": {},
     "output_type": "execute_result"
    }
   ],
   "source": [
    "( 2+3 ) < 8"
   ]
  },
  {
   "cell_type": "code",
   "execution_count": 3,
   "metadata": {},
   "outputs": [
    {
     "data": {
      "text/plain": [
       "False"
      ]
     },
     "execution_count": 3,
     "metadata": {},
     "output_type": "execute_result"
    }
   ],
   "source": [
    "4 + 5 < 2"
   ]
  },
  {
   "cell_type": "code",
   "execution_count": 4,
   "metadata": {},
   "outputs": [
    {
     "data": {
      "text/plain": [
       "True"
      ]
     },
     "execution_count": 4,
     "metadata": {},
     "output_type": "execute_result"
    }
   ],
   "source": [
    "2+3 == 5"
   ]
  },
  {
   "cell_type": "code",
   "execution_count": 6,
   "metadata": {},
   "outputs": [
    {
     "data": {
      "text/plain": [
       "False"
      ]
     },
     "execution_count": 6,
     "metadata": {},
     "output_type": "execute_result"
    }
   ],
   "source": [
    "( 2+3 < 8) and ( 4 + 5 < 2)"
   ]
  },
  {
   "cell_type": "code",
   "execution_count": 7,
   "metadata": {},
   "outputs": [
    {
     "data": {
      "text/plain": [
       "True"
      ]
     },
     "execution_count": 7,
     "metadata": {},
     "output_type": "execute_result"
    }
   ],
   "source": [
    "( (2+3) < 8) or (4+5<2)"
   ]
  },
  {
   "cell_type": "code",
   "execution_count": 8,
   "metadata": {},
   "outputs": [
    {
     "data": {
      "text/plain": [
       "True"
      ]
     },
     "execution_count": 8,
     "metadata": {},
     "output_type": "execute_result"
    }
   ],
   "source": [
    "not (4+5 < 2 )"
   ]
  },
  {
   "cell_type": "code",
   "execution_count": 10,
   "metadata": {},
   "outputs": [
    {
     "data": {
      "text/plain": [
       "True"
      ]
     },
     "execution_count": 10,
     "metadata": {},
     "output_type": "execute_result"
    }
   ],
   "source": [
    "( (2+3) < 8) and not (4+5<2)"
   ]
  },
  {
   "cell_type": "markdown",
   "metadata": {},
   "source": [
    "## Conditional Execution: if statement\n",
    "\n",
    "Note the indentation after the if statement"
   ]
  },
  {
   "cell_type": "code",
   "execution_count": null,
   "metadata": {},
   "outputs": [],
   "source": [
    "name = input(\"Enter a name: \")\n",
    "\n",
    "if name == 'Alice':\n",
    "    print('Hi, Alice!')\n",
    "    print('How are you doing?')\n",
    "\n",
    "print('Thank You')"
   ]
  },
  {
   "cell_type": "markdown",
   "metadata": {},
   "source": [
    "## Conditional Execution: if else statement"
   ]
  },
  {
   "cell_type": "code",
   "execution_count": 1,
   "metadata": {},
   "outputs": [
    {
     "name": "stdout",
     "output_type": "stream",
     "text": [
      "Enter a nameasd\n",
      "No! You aren't Alice!\n",
      "Thank You\n"
     ]
    }
   ],
   "source": [
    "name = input('Enter a name')\n",
    "\n",
    "if name == 'Alice':\n",
    "    print('Hi, Alice!')\n",
    "else:\n",
    "    print(\"No! You aren't Alice!\")\n",
    "print('Thank You')"
   ]
  },
  {
   "cell_type": "markdown",
   "metadata": {},
   "source": [
    "## Conditional Execution: if elif else statement"
   ]
  },
  {
   "cell_type": "code",
   "execution_count": 2,
   "metadata": {},
   "outputs": [
    {
     "name": "stdout",
     "output_type": "stream",
     "text": [
      "Enter a nameJon\n",
      "Hi, Jon\n"
     ]
    }
   ],
   "source": [
    "name = input('Enter a name')\n",
    "if name == 'Alice':\n",
    "    print('Hi, Alice!')\n",
    "elif name =='Sam':\n",
    "    print('Hi, Sam')\n",
    "elif name =='Dan':\n",
    "    print('Hi, Dan')\n",
    "elif name =='Jon':\n",
    "    print('Hi, Jon')\n",
    "elif name =='Jon':\n",
    "    print('Hi, Jon #2')\n",
    "elif name =='Mike':\n",
    "    print('Hi, Mike')\n",
    "else:\n",
    "    print(\"No! You aren't Alice or Sam! OR EVEN DAN!!!!!!!!!\")\n"
   ]
  },
  {
   "cell_type": "markdown",
   "metadata": {},
   "source": [
    "## Practice #1\n",
    "\n",
    "A supermarket sells apples for $2.50 per pound. Write a cashier’s program that requests the number of pounds and the amount of cash tendered as input and displays the change from the transaction. \n",
    "\n",
    "Sample Interactions:"
   ]
  },
  {
   "cell_type": "markdown",
   "metadata": {},
   "source": [
    "Enter number of pounds of apples: 6\n",
    "\n",
    "Enter payment: 20\n",
    "\n",
    "Your change is $5.00\n"
   ]
  },
  {
   "cell_type": "markdown",
   "metadata": {},
   "source": [
    "\n",
    "Enter number of pounds of apples: 6\n",
    "\n",
    "Enter payment: 10\n",
    "\n",
    "I need $5.00 more. "
   ]
  },
  {
   "cell_type": "code",
   "execution_count": 28,
   "metadata": {},
   "outputs": [
    {
     "name": "stdout",
     "output_type": "stream",
     "text": [
      "How many pounds of apples are you buying? 6\n",
      "How much money do you have? 5.50\n",
      "15.0\n",
      "-9.5\n",
      "you need to pay me $9.50 more\n",
      "you need to pay me $9.50 more\n"
     ]
    }
   ],
   "source": [
    "price = 2.50\n",
    "\n",
    "amount = float(input(\"How many pounds of apples are you buying? \"))\n",
    "money = float(input(\"How much money do you have? \"))\n",
    "\n",
    "cost = amount * price\n",
    "\n",
    "print(cost)\n",
    "change = money - cost\n",
    "print(change)\n",
    "\n",
    "if change > 0:\n",
    "    print(\"you get ${:.2f} back in change\".format(change))\n",
    "elif change < 0:\n",
    "    print(\"you need to pay me ${:.2f} more\".format(abs(change)))\n",
    "    print(\"you need to pay me ${:.2f} more\".format(change * -1))\n",
    "else:\n",
    "    print(\"Wow exact change!!!!\")"
   ]
  },
  {
   "cell_type": "code",
   "execution_count": 29,
   "metadata": {},
   "outputs": [
    {
     "data": {
      "text/plain": [
       "5.5"
      ]
     },
     "execution_count": 29,
     "metadata": {},
     "output_type": "execute_result"
    }
   ],
   "source": [
    "float(\"5.50\")"
   ]
  },
  {
   "cell_type": "markdown",
   "metadata": {},
   "source": [
    "## Fancy print statements"
   ]
  },
  {
   "cell_type": "code",
   "execution_count": null,
   "metadata": {},
   "outputs": [],
   "source": [
    "age = 23\n",
    "height = 5.23623\n",
    "print(\"The age is {1} and the height is {0}\".format(age, height))"
   ]
  },
  {
   "cell_type": "code",
   "execution_count": null,
   "metadata": {},
   "outputs": [],
   "source": [
    "age = 23\n",
    "height = 5.23623\n",
    "print(\"The age is {1} and the height is {0:.2f}\".format(height, age))"
   ]
  },
  {
   "cell_type": "markdown",
   "metadata": {},
   "source": [
    "## Practice #2\n",
    "\n",
    "What are the conditions for a leap year? It should be multiple of 4 but not a multiple of 100\n",
    "\n",
    "Write a program that takes the year number as input and outputs if it is leap year or not. \n",
    "\n",
    "Sample interactions:"
   ]
  },
  {
   "cell_type": "markdown",
   "metadata": {},
   "source": [
    "Enter the year number? 2008\n",
    "\n",
    "The year 2008 is a leap year \n",
    "\n",
    "Enter the year number? 1900\n",
    "\n",
    "The year 1900 is a common year"
   ]
  },
  {
   "cell_type": "code",
   "execution_count": 27,
   "metadata": {},
   "outputs": [
    {
     "name": "stdout",
     "output_type": "stream",
     "text": [
      "leap!!!!!\n"
     ]
    }
   ],
   "source": [
    "year = 2008\n",
    "\n",
    "#if year % 4 == 0 and year % 100 != 0:\n",
    "# if year % 4 == 0 and not year % 100 == 0:\n",
    "if ( year % 4 == 0 ) and not ( year % 100 == 0 ):\n",
    "# if ( year % 4 == 0 ) and ( not year % 100 == 0 ):\n",
    "    print('leap!!!!!')\n",
    "else:\n",
    "    print('boring')"
   ]
  },
  {
   "cell_type": "markdown",
   "metadata": {},
   "source": [
    "**NOTE**: We coded simplified conditions for a leap year. From *Nicolas Klebusits*, I learned that there is an addtional condition. If a year is a multiple of 400 it is still a leap year, even though it is a multiple of 100. For example, 2000 is a leap year as it is a multiple of 400. See if you can modify the above code to incorporate this additional condition. "
   ]
  },
  {
   "cell_type": "code",
   "execution_count": null,
   "metadata": {},
   "outputs": [],
   "source": [
    "input('asdkfklasfdklasdfl;kj')"
   ]
  }
 ],
 "metadata": {
  "kernelspec": {
   "display_name": "Python 3",
   "language": "python",
   "name": "python3"
  },
  "language_info": {
   "codemirror_mode": {
    "name": "ipython",
    "version": 3
   },
   "file_extension": ".py",
   "mimetype": "text/x-python",
   "name": "python",
   "nbconvert_exporter": "python",
   "pygments_lexer": "ipython3",
   "version": "3.7.4"
  }
 },
 "nbformat": 4,
 "nbformat_minor": 2
}
