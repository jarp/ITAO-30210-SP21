{
 "cells": [
  {
   "cell_type": "code",
   "execution_count": null,
   "metadata": {},
   "outputs": [],
   "source": [
    "import pandas as pd\n",
    "import numpy as np"
   ]
  },
  {
   "cell_type": "code",
   "execution_count": null,
   "metadata": {},
   "outputs": [],
   "source": [
    "import matplotlib as mpl\n",
    "import matplotlib.pyplot as plt"
   ]
  },
  {
   "cell_type": "code",
   "execution_count": null,
   "metadata": {},
   "outputs": [],
   "source": [
    "plt.style.use('seaborn')\n",
    "%matplotlib inline"
   ]
  },
  {
   "cell_type": "markdown",
   "metadata": {},
   "source": [
    "# Matplotlib Scatter Plots\n",
    "\n",
    "In this section we are going to learn how to create scatter plots in Matplotlib with the **`axes.scatter()`** method."
   ]
  },
  {
   "cell_type": "markdown",
   "metadata": {},
   "source": [
    "<div class=\"alert alert-block alert-info\">\n",
    "<p>You _can_ actually use the `plot()` method we covered in the previous tutorial to generate scatter plots as well.</p>\n",
    "<p>\n",
    "But you should generally use the method we are covering in this tutorial unless you are having significant performance problems.\n",
    "</p>\n",
    "<p>The reason for this is that the `axes.scatter()` method provides more control over the visualization. It does this at the cost of performance, but this should only be a factor for plots with huge amounts of data points.</p>\n",
    "</div> "
   ]
  },
  {
   "cell_type": "markdown",
   "metadata": {},
   "source": [
    "### Load Necessary Data Set(s)"
   ]
  },
  {
   "cell_type": "code",
   "execution_count": null,
   "metadata": {},
   "outputs": [],
   "source": [
    "seattle_weather_2015_2016 = pd.read_csv(\n",
    "    './data/seattle_weather_2015_2016.csv')\n",
    "seattle_weather_2015_2016.head()"
   ]
  },
  {
   "cell_type": "code",
   "execution_count": null,
   "metadata": {},
   "outputs": [],
   "source": [
    "seattle_weather_2015_2016.describe(include=\"all\")"
   ]
  },
  {
   "cell_type": "markdown",
   "metadata": {},
   "source": [
    "## Scatter Plots\n",
    "Let's start exploring Matplotlib's **`axes.scatter()`** method's functionality by charting the precipitation records from our dataframe."
   ]
  },
  {
   "cell_type": "markdown",
   "metadata": {},
   "source": [
    "### A Simple Line Plot"
   ]
  },
  {
   "cell_type": "code",
   "execution_count": null,
   "metadata": {},
   "outputs": [],
   "source": [
    "figure, axes = plt.subplots()\n",
    "\n",
    "axes.plot(seattle_weather_2015_2016.index, \n",
    "             seattle_weather_2015_2016['low_temp'])"
   ]
  },
  {
   "cell_type": "markdown",
   "metadata": {},
   "source": [
    "### A Simple Scatter Plot"
   ]
  },
  {
   "cell_type": "code",
   "execution_count": null,
   "metadata": {},
   "outputs": [],
   "source": [
    "figure, axes = plt.subplots()\n",
    "\n",
    "axes.scatter(seattle_weather_2015_2016.index, \n",
    "             seattle_weather_2015_2016['low_temp'])"
   ]
  },
  {
   "cell_type": "markdown",
   "metadata": {},
   "source": [
    "#### Adjusting Marker Color(s)\n",
    "With scatter plots, you can assign a single color to each plot, just like you can with line plots. The only difference here is that you use the **`c`** parameter rather than **`color`**."
   ]
  },
  {
   "cell_type": "code",
   "execution_count": null,
   "metadata": {},
   "outputs": [],
   "source": [
    "figure, axes = plt.subplots()\n",
    "\n",
    "# We'll plot high and low temps with different colors.\n",
    "axes.scatter(seattle_weather_2015_2016.index, \n",
    "             seattle_weather_2015_2016['low_temp'], \n",
    "             c='blue')\n",
    "\n",
    "axes.scatter(seattle_weather_2015_2016.index, \n",
    "             seattle_weather_2015_2016['high_temp'], \n",
    "             c='red')"
   ]
  },
  {
   "cell_type": "markdown",
   "metadata": {},
   "source": [
    "<div class=\"alert alert-block alert-info\">\n",
    "<p>Technically, you can use the `color` argument, but if you do, it won't work with the next technique.</p>\n",
    "</div> "
   ]
  },
  {
   "cell_type": "markdown",
   "metadata": {},
   "source": [
    "But you can also assign a unique color to each marker in your plot - which can lead to some very cool and powerful visualizations.\n",
    "\n",
    "The key here is that you have to use two arguments in combination: \n",
    "* **`c`**: Previously, we only used this as a single value argument, but now you have to pass it a list/array that contains a numeric element for each data point in your plot. You have to have the exact same number of elements as plot items or you will get an error.\n",
    "* **`cmap`**: A valid colormap name. Matplotlib automatically converts all your numeric values in **`c`** to a float between 0 and 1 and then picks the corresponding color out of a given colormap for each marker. There are many different colormaps available. You can see many of the available options in Matplotlib's <a href=\"https://matplotlib.org/users/colormaps.html\" target=\"_blank\">online documentation</a>.\n",
    "\n",
    "Now let's provide a couple of examples:"
   ]
  },
  {
   "cell_type": "code",
   "execution_count": null,
   "metadata": {},
   "outputs": [],
   "source": [
    "figure, axes = plt.subplots()\n",
    "\n",
    "# We'll plot high and low temps with different colors.\n",
    "# We will pair our low temp ratings to the colormap\n",
    "# itself so that low temps will get mapped to one\n",
    "# end of the colormap and higher temps to the other.\n",
    "axes.scatter(seattle_weather_2015_2016.index, \n",
    "             seattle_weather_2015_2016['low_temp'], \n",
    "             c=seattle_weather_2015_2016['low_temp'], \n",
    "             cmap='coolwarm')"
   ]
  },
  {
   "cell_type": "code",
   "execution_count": null,
   "metadata": {},
   "outputs": [],
   "source": [
    "figure, axes = plt.subplots()\n",
    "\n",
    "# We'll plot high and low temps with different colors.\n",
    "# We will pair our low temp ratings to the colormap\n",
    "# itself so that low temps will get mapped to one\n",
    "# end of the colormap and higher temps to the other.\n",
    "axes.scatter(seattle_weather_2015_2016.index, \n",
    "             seattle_weather_2015_2016['low_temp'], \n",
    "             c=seattle_weather_2015_2016['high_temp'], \n",
    "             cmap='coolwarm')"
   ]
  },
  {
   "cell_type": "code",
   "execution_count": null,
   "metadata": {},
   "outputs": [],
   "source": [
    "figure, axes = plt.subplots()\n",
    "\n",
    "# Now for something really cool\n",
    "# We can pass the average wind speed to the color map\n",
    "# Now we are tracking two different metrics on the scatter plot\n",
    "# Is there any coroloation between wind speed and temperature?\n",
    "\n",
    "axes.scatter(seattle_weather_2015_2016.index, \n",
    "             seattle_weather_2015_2016['low_temp'], \n",
    "             c=seattle_weather_2015_2016['avgwindspeed'], \n",
    "             cmap='coolwarm')"
   ]
  },
  {
   "cell_type": "markdown",
   "metadata": {},
   "source": [
    "#### Adding a Colorbar"
   ]
  },
  {
   "cell_type": "markdown",
   "metadata": {},
   "source": [
    "<div class=\"alert alert-block alert-warning\">\n",
    "<p>Adding a colorbar requires interacting with the `figure` object directly. This is the first time that we've done this.</p>\n",
    "<p>Make sure when you are working on your assignments not to try adding colorbars to the `axes` object or you'll have all sorts of problems.</p>\n",
    "</div> "
   ]
  },
  {
   "cell_type": "markdown",
   "metadata": {},
   "source": [
    "When you have a plot of a continous variable(s) where color is used to signify the values of the variable a colorbar is a great addition to your plot.\n",
    "\n",
    "To add a colorbar to your plot, you use the **`figure.colorbar()`** method.\n",
    "\n",
    "The method requires a single argument: an image which has been \"painted\" onto an *`axes`* object.\n",
    "\n",
    "It just so happens that when you call the *`axes.scatter`* method, it not only plots such an image, but it also returns a reference to that image.\n",
    "\n",
    "Up until now, we've just ignored it, but now let's capture it so that we can pass it along to **`figure.colorbar`**:"
   ]
  },
  {
   "cell_type": "code",
   "execution_count": null,
   "metadata": {},
   "outputs": [],
   "source": [
    "figure, axes = plt.subplots()\n",
    "\n",
    "scatter_image = axes.scatter(seattle_weather_2015_2016.index, \n",
    "             seattle_weather_2015_2016['low_temp'])\n",
    "\n",
    "print(type(scatter_image))"
   ]
  },
  {
   "cell_type": "code",
   "execution_count": null,
   "metadata": {},
   "outputs": [],
   "source": [
    "figure, axes = plt.subplots()\n",
    "\n",
    "scatter_image = axes.scatter(seattle_weather_2015_2016.index, \n",
    "             seattle_weather_2015_2016['low_temp'], \n",
    "             c=seattle_weather_2015_2016['low_temp'], \n",
    "             cmap='coolwarm')\n",
    "\n",
    "figure.colorbar(\n",
    "    scatter_image,\n",
    "    label='Temperature' # You can also add a label\n",
    ")"
   ]
  },
  {
   "cell_type": "code",
   "execution_count": null,
   "metadata": {},
   "outputs": [],
   "source": [
    "figure, axes = plt.subplots()\n",
    "\n",
    "scatter_image = axes.scatter(seattle_weather_2015_2016.index, \n",
    "             seattle_weather_2015_2016['low_temp'], \n",
    "             c=seattle_weather_2015_2016['avgwindspeed'], \n",
    "             cmap='coolwarm')\n",
    "\n",
    "figure.colorbar(\n",
    "    scatter_image,\n",
    "    label='Avg. Wind Speed'\n",
    ")\n",
    "\n",
    "axes.set_title(\"Temperature and Wind Speed\")\n",
    "axes.set_xlabel(\"record number\")\n",
    "axes.set_ylabel(\"Low Temperature\")"
   ]
  },
  {
   "cell_type": "markdown",
   "metadata": {},
   "source": [
    "You can also add multiple colorbars:"
   ]
  },
  {
   "cell_type": "code",
   "execution_count": null,
   "metadata": {},
   "outputs": [],
   "source": [
    "# Plotting high & low temps with different colormaps\n",
    "# along with separate colorbars\n",
    "figure, axes = plt.subplots()\n",
    "\n",
    "low_temps = axes.scatter(seattle_weather_2015_2016.index, \n",
    "             seattle_weather_2015_2016['low_temp'], \n",
    "             c=seattle_weather_2015_2016['low_temp'], \n",
    "             cmap='PuBu')\n",
    "\n",
    "high_temps = axes.scatter(seattle_weather_2015_2016.index, \n",
    "             seattle_weather_2015_2016['high_temp'],\n",
    "             c=seattle_weather_2015_2016['high_temp'], \n",
    "             cmap='YlOrRd')\n",
    "\n",
    "figure.colorbar(low_temps, label=\"Low Temperature\", orientation = 'horizontal')\n",
    "figure.colorbar(high_temps, label = \"High Temperature\", orientation = 'horizontal')"
   ]
  },
  {
   "cell_type": "markdown",
   "metadata": {},
   "source": [
    "# Activity\n",
    "\n",
    "### Scatter plot\n",
    "\n",
    "* Plot a scatter plot for 'avgwindspeed' in the seattle dataset. \n",
    "    * Adjust the following parameters for color map based on windspeed\n",
    "        * c\n",
    "        * cmap\n",
    "    * Show a colorbar indicating the mapping of the speed of wind to color. "
   ]
  },
  {
   "cell_type": "code",
   "execution_count": null,
   "metadata": {},
   "outputs": [],
   "source": [
    "# create axes and figure\n",
    "fig,ax = plt.subplots()\n",
    "# plot avg wind speed with a color map and color bar\n",
    "speed_img = ax.scatter(seattle_weather_2015_2016.index, \n",
    "                        seattle_weather_2015_2016['avgwindspeed'],\n",
    "           cmap=\"coolwarm\", c=seattle_weather_2015_2016['avgwindspeed']\n",
    "          )\n",
    "# set title and labels\n",
    "ax.set_title(\"Avg Wind Speed\")\n",
    "# x and y labels\n",
    "fig.colorbar(speed_img, label=\"Speed\")"
   ]
  },
  {
   "cell_type": "markdown",
   "metadata": {},
   "source": [
    "# Matplotlib Histograms\n",
    "\n",
    "In this section, we are going to learn how to create histograms, which are a great way of summarizing data sets.\n",
    "\n",
    "The basic idea of a histogram is to create \"buckets\" into which your data points fall into and display those rather than individually displaying all the data points."
   ]
  },
  {
   "cell_type": "code",
   "execution_count": 13,
   "metadata": {},
   "outputs": [],
   "source": [
    "nd_football_roster = pd.read_csv('./data/nd-football-2018-roster.csv')\n",
    "seattle_weather_2015_2016 = pd.read_csv(\n",
    "    './data/seattle_weather_2015_2016.csv')"
   ]
  },
  {
   "cell_type": "code",
   "execution_count": null,
   "metadata": {},
   "outputs": [],
   "source": [
    "# Select a style, it will affect all subsequent plots.\n",
    "# Showing you different style 'fivethirtyeight'\n",
    "plt.style.use('fivethirtyeight')"
   ]
  },
  {
   "cell_type": "markdown",
   "metadata": {},
   "source": [
    "## One Dimensional Histograms\n",
    "Simple, one dimensional histograms are created with the **`axes.hist()`** method."
   ]
  },
  {
   "cell_type": "markdown",
   "metadata": {},
   "source": [
    "### A Basic Histogram\n",
    "This create a basic histogram: you simply have to pass a NumPy array or Pandas series object to it. \n",
    "\n",
    "By default, it will create a set of buckets from the values in your array/series along the x-axis and then display how many elements fall in each bucket via the y-axis."
   ]
  },
  {
   "cell_type": "code",
   "execution_count": null,
   "metadata": {},
   "outputs": [],
   "source": [
    "# Create a histogram of ND Football Player Heights\n",
    "# You can quickly see the most common height bucket\n",
    "# on the team.\n",
    "figure, axes = plt.subplots()\n",
    "axes.hist(nd_football_roster['Height'])"
   ]
  },
  {
   "cell_type": "markdown",
   "metadata": {},
   "source": [
    "As always, you can adjust the title, label, and legend properties of the **`axes`** object."
   ]
  },
  {
   "cell_type": "code",
   "execution_count": null,
   "metadata": {},
   "outputs": [],
   "source": [
    "# Adding title, labels, and legend\n",
    "figure, axes = plt.subplots()\n",
    "axes.hist(nd_football_roster['Height'], label=\"Height\")\n",
    "axes.legend()\n",
    "axes.set_title('ND Football Player Height Distribution')\n",
    "axes.set_xlabel('Height (in)')\n",
    "axes.set_ylabel('Count of Players')"
   ]
  },
  {
   "cell_type": "markdown",
   "metadata": {},
   "source": [
    "### Customizing Histograms"
   ]
  },
  {
   "cell_type": "markdown",
   "metadata": {},
   "source": [
    "#### Changing the Number of Bins\n",
    "Matplotlib tries to guess the number of bins you want for your histograms and it generally does a good job at this. Nonetheless, you may want to increase/decrease the default to adjust the granularity of your plot.\n",
    "\n",
    "You can do so with the `bins` parameter."
   ]
  },
  {
   "cell_type": "code",
   "execution_count": null,
   "metadata": {},
   "outputs": [],
   "source": [
    "figure, axes = plt.subplots()\n",
    "\n",
    "# Adjust the number of bins to 15\n",
    "# The increased granularity will\n",
    "# expose some heights that aren't represented\n",
    "# on the team.\n",
    "axes.hist(nd_football_roster['Height'], bins=12)"
   ]
  },
  {
   "cell_type": "markdown",
   "metadata": {},
   "source": [
    "#### Changing a Range for Bins\n",
    "We know that we can use the `axes.set_xlim` and `axes.set_ylim` methods to focus/zoom into one area of a plot.\n",
    "\n",
    "The **`range`** parameter is somewhat similar functionally to this in that it allows you to specify the range of input values to plot.\n",
    "\n",
    "The key difference is that when you use the **`range`** parameter, Matplotlib does all the binning/grouping within the range specified.\n",
    "\n",
    "With `set_xlim`/`set_ylim` you would simply zoom into a smaller area of the plot. This parameter allows you to calculate the histogram with a subset of your data.\n",
    "\n",
    "Let's demonstrate using our Seattle Weather dataset."
   ]
  },
  {
   "cell_type": "code",
   "execution_count": null,
   "metadata": {},
   "outputs": [],
   "source": [
    "# Simply plot the precipitation records\n",
    "# with default parameters.\n",
    "figure, axes = plt.subplots()\n",
    "axes.hist(seattle_weather_2015_2016['precipitation'], bins=10)"
   ]
  },
  {
   "cell_type": "markdown",
   "metadata": {},
   "source": [
    "Because there are so many records with no rain, it skews the chart. If fact, the distortion is so high, that we can't visually make out any records above 2 inches (though we know they must be there because of the bins Matplotlib created).\n",
    "\n",
    "Let's focus our histogram between .5 and 2.5 inches:"
   ]
  },
  {
   "cell_type": "code",
   "execution_count": null,
   "metadata": {},
   "outputs": [],
   "source": [
    "# Simply plot the precipitation records\n",
    "# with default parameters.\n",
    "figure, axes = plt.subplots()\n",
    "axes.hist(seattle_weather_2015_2016['precipitation'])\n",
    "axes.set_xlim(0.5,2.5)"
   ]
  },
  {
   "cell_type": "markdown",
   "metadata": {},
   "source": [
    "As you can see above, it did zoom in the range we wanted between 0.5 and 2.5, but the \"binning\" is still too coarse. **This is why using range parameter rather than set_xlim**"
   ]
  },
  {
   "cell_type": "code",
   "execution_count": null,
   "metadata": {},
   "outputs": [],
   "source": [
    "# This will give us a plot of how many\n",
    "# reasonably, but not extremely, raining days\n",
    "# Seattle experienced in 2015-2016\n",
    "figure, axes = plt.subplots()\n",
    "axes.hist(\n",
    "    seattle_weather_2015_2016['precipitation'], \n",
    "    range=(.5, 2.5), \n",
    "    bins=20)"
   ]
  },
  {
   "cell_type": "markdown",
   "metadata": {},
   "source": [
    "## Activity\n",
    "\n",
    "### Histograms\n",
    "\n",
    "* Plot the histogram of the distance ('DISTANCE') travelled by all the flights in the dataset. \n",
    "    * Adjust the parameters\n",
    "        * bins\n",
    "        * range\n",
    "        * color"
   ]
  },
  {
   "cell_type": "code",
   "execution_count": 23,
   "metadata": {},
   "outputs": [
    {
     "data": {
      "text/html": [
       "<div>\n",
       "<style scoped>\n",
       "    .dataframe tbody tr th:only-of-type {\n",
       "        vertical-align: middle;\n",
       "    }\n",
       "\n",
       "    .dataframe tbody tr th {\n",
       "        vertical-align: top;\n",
       "    }\n",
       "\n",
       "    .dataframe thead th {\n",
       "        text-align: right;\n",
       "    }\n",
       "</style>\n",
       "<table border=\"1\" class=\"dataframe\">\n",
       "  <thead>\n",
       "    <tr style=\"text-align: right;\">\n",
       "      <th></th>\n",
       "      <th>YEAR</th>\n",
       "      <th>MONTH</th>\n",
       "      <th>DAY</th>\n",
       "      <th>DAY_OF_WEEK</th>\n",
       "      <th>AIRLINE</th>\n",
       "      <th>FLIGHT_NUMBER</th>\n",
       "      <th>TAXI_IN</th>\n",
       "      <th>TAXI_OUT</th>\n",
       "      <th>DISTANCE</th>\n",
       "    </tr>\n",
       "  </thead>\n",
       "  <tbody>\n",
       "    <tr>\n",
       "      <td>0</td>\n",
       "      <td>2015</td>\n",
       "      <td>8</td>\n",
       "      <td>19</td>\n",
       "      <td>3</td>\n",
       "      <td>EV</td>\n",
       "      <td>3260</td>\n",
       "      <td>7.0</td>\n",
       "      <td>20.0</td>\n",
       "      <td>1091</td>\n",
       "    </tr>\n",
       "    <tr>\n",
       "      <td>1</td>\n",
       "      <td>2015</td>\n",
       "      <td>9</td>\n",
       "      <td>23</td>\n",
       "      <td>3</td>\n",
       "      <td>WN</td>\n",
       "      <td>3050</td>\n",
       "      <td>4.0</td>\n",
       "      <td>9.0</td>\n",
       "      <td>837</td>\n",
       "    </tr>\n",
       "    <tr>\n",
       "      <td>2</td>\n",
       "      <td>2015</td>\n",
       "      <td>10</td>\n",
       "      <td>16</td>\n",
       "      <td>5</td>\n",
       "      <td>AA</td>\n",
       "      <td>1382</td>\n",
       "      <td>13.0</td>\n",
       "      <td>25.0</td>\n",
       "      <td>761</td>\n",
       "    </tr>\n",
       "    <tr>\n",
       "      <td>3</td>\n",
       "      <td>2015</td>\n",
       "      <td>1</td>\n",
       "      <td>19</td>\n",
       "      <td>1</td>\n",
       "      <td>WN</td>\n",
       "      <td>4274</td>\n",
       "      <td>5.0</td>\n",
       "      <td>23.0</td>\n",
       "      <td>1547</td>\n",
       "    </tr>\n",
       "    <tr>\n",
       "      <td>4</td>\n",
       "      <td>2015</td>\n",
       "      <td>4</td>\n",
       "      <td>22</td>\n",
       "      <td>3</td>\n",
       "      <td>WN</td>\n",
       "      <td>2237</td>\n",
       "      <td>5.0</td>\n",
       "      <td>18.0</td>\n",
       "      <td>872</td>\n",
       "    </tr>\n",
       "  </tbody>\n",
       "</table>\n",
       "</div>"
      ],
      "text/plain": [
       "   YEAR  MONTH  DAY  DAY_OF_WEEK AIRLINE  FLIGHT_NUMBER  TAXI_IN  TAXI_OUT  \\\n",
       "0  2015      8   19            3      EV           3260      7.0      20.0   \n",
       "1  2015      9   23            3      WN           3050      4.0       9.0   \n",
       "2  2015     10   16            5      AA           1382     13.0      25.0   \n",
       "3  2015      1   19            1      WN           4274      5.0      23.0   \n",
       "4  2015      4   22            3      WN           2237      5.0      18.0   \n",
       "\n",
       "   DISTANCE  \n",
       "0      1091  \n",
       "1       837  \n",
       "2       761  \n",
       "3      1547  \n",
       "4       872  "
      ]
     },
     "execution_count": 23,
     "metadata": {},
     "output_type": "execute_result"
    }
   ],
   "source": [
    "flights = pd.read_csv(\"./data/flight_sample.csv\")\n",
    "flights.head()"
   ]
  },
  {
   "cell_type": "code",
   "execution_count": null,
   "metadata": {},
   "outputs": [],
   "source": [
    "# histograms doesn't know how to handle missing data\n",
    "# so drop missing data\n",
    "flights_sans_nans = flights.dropna()\n",
    "flights_sans_nans.isnull().sum()"
   ]
  },
  {
   "cell_type": "code",
   "execution_count": null,
   "metadata": {},
   "outputs": [],
   "source": [
    "# create subplots\n",
    "fig,ax = plt.subplots()\n",
    "# plot historgram  with a reasonable range, 20 bins and make it red\n",
    "ax.hist(flights_sans_nans['DISTANCE'],\n",
    "        bins=20,\n",
    "        range=(0,3000),\n",
    "        color=\"green\",\n",
    "        label=\"Distance\"\n",
    "       )\n",
    "# add title, labels and a legend\n",
    "ax.set_title('Distance Traveled by Airlines')\n",
    "ax.set_ylabel(\"Number of Flights\")\n",
    "ax.set_xlabel(\"Distance\")\n",
    "ax.legend()"
   ]
  },
  {
   "cell_type": "markdown",
   "metadata": {},
   "source": [
    "## Multiple Histograms\n",
    "Just like we are able to plot multiple lines on a single axes, we can plot multiple histograms. However, visibility can be a real issue."
   ]
  },
  {
   "cell_type": "code",
   "execution_count": null,
   "metadata": {},
   "outputs": [],
   "source": [
    "figure, axes = plt.subplots()\n",
    "axes.hist(\n",
    "    seattle_weather_2015_2016['high_temp'], \n",
    "    bins=20)\n",
    "axes.hist(\n",
    "    seattle_weather_2015_2016['low_temp'], \n",
    "    bins=20)"
   ]
  },
  {
   "cell_type": "markdown",
   "metadata": {},
   "source": [
    "That is pretty cool, but there are a number of things that are not ideal with our plot:\n",
    "1. The low temperatures are in red. \n",
    "2. The low temperatures are covering up the high temperatures.\n",
    "3. There is no legend to clearly deliniate which is which.\n",
    "\n",
    "Let's combine what we've learned so far about Matplotlib to address these issues."
   ]
  },
  {
   "cell_type": "code",
   "execution_count": null,
   "metadata": {},
   "outputs": [],
   "source": [
    "figure, axes = plt.subplots()\n",
    "axes.hist(\n",
    "    seattle_weather_2015_2016['high_temp'], \n",
    "    bins=20, \n",
    "    label='High Temps', # Use label to specify legend name\n",
    "    color='orange'\n",
    ")\n",
    "axes.hist(\n",
    "    seattle_weather_2015_2016['low_temp'], \n",
    "    bins=20, \n",
    "    label='Low Temps', # Use label to specify legend name\n",
    "    alpha=.75 # Adjust alpha to allow both datasets to appear\n",
    ")\n",
    "\n",
    "# Enable the legend\n",
    "axes.legend()"
   ]
  },
  {
   "cell_type": "markdown",
   "metadata": {},
   "source": [
    "## Activity\n",
    "\n",
    "### Two Histograms\n",
    "\n",
    "* Create two DataFrames by extracting flight details of 'AS' (Alaskan Airlines) and 'HA' (Hawaiin Airlines)\n",
    "\n",
    "\n",
    "\n",
    "* Plot the histograms of the distance ('DISTANCE') travelled by each of 'AS' and 'HA' airlines\n",
    "    * Adjust the parameters for each histogram\n",
    "        * bins\n",
    "        * range\n",
    "        * color\n",
    "        * alpha (opacity)\n",
    "        * label\n",
    "    * Provide a legend on the upper right corner to indicate which airline"
   ]
  },
  {
   "cell_type": "code",
   "execution_count": null,
   "metadata": {},
   "outputs": [],
   "source": [
    "# get subsets of data by airline \n",
    "as_distance = flights_sans_nans[ flights_sans_nans['AIRLINE'] == 'AS' ]['DISTANCE']\n",
    "ha_distance = flights_sans_nans[ flights_sans_nans['AIRLINE'] == 'HA' ]['DISTANCE']"
   ]
  },
  {
   "cell_type": "code",
   "execution_count": null,
   "metadata": {},
   "outputs": [],
   "source": [
    "# subplots\n",
    "figure,axes = plt.subplots()\n",
    "# plot both with opacity, color and label\n",
    "axes.hist(as_distance, label=\"AS\", alpha=.9)\n",
    "axes.hist(ha_distance, label=\"HA\", alpha=.6)\n",
    "# meta data\n",
    "\n",
    "axes.legend(loc=\"upper right\")\n",
    "axes.set_xlabel(\"Distance\")\n",
    "axes.set_ylabel(\"Number of Flights\")\n"
   ]
  },
  {
   "cell_type": "markdown",
   "metadata": {},
   "source": [
    "## Two Dimensional Histograms"
   ]
  },
  {
   "cell_type": "markdown",
   "metadata": {},
   "source": [
    "In the previous section, we demonstrated how to generate a histogram on a single variable in a data set. In this section, we are going to cover how you can create 2 dimensional histograms to visualize the relationship between two variables in a data set.\n",
    "\n",
    "We will start by going back to our ND football roster and create a plot that shows the relationships between player heights and weights."
   ]
  },
  {
   "cell_type": "code",
   "execution_count": null,
   "metadata": {},
   "outputs": [],
   "source": [
    "figure, axes = plt.subplots()\n",
    "image = axes.hist2d(\n",
    "    nd_football_roster['Height'],\n",
    "    nd_football_roster['Weight'], \n",
    "    cmap='Greens', # Notice we use `cmap` to specify color range\n",
    ")\n",
    "\n",
    "axes.set_xlabel(\"Height\")\n",
    "axes.set_ylabel(\"Weight\")"
   ]
  },
  {
   "cell_type": "markdown",
   "metadata": {},
   "source": [
    "If you recall from our previous section, we have to pass an image to the *`figure.colorbar()`* method in order for it to work correctly.\n",
    "\n",
    "Unlike the *`axes.scatter()`* method, the *`axes.hist2d`* method returns a 4 element tuple. The last element is the image reference that we need to pass into *`figure.colorbar()`*. **This is a idiosyncratic thing to keep track**"
   ]
  },
  {
   "cell_type": "code",
   "execution_count": null,
   "metadata": {},
   "outputs": [],
   "source": [
    "figure, axes = plt.subplots()\n",
    "\n",
    "results = axes.hist2d(\n",
    "    nd_football_roster['Height'],\n",
    "    nd_football_roster['Weight'], \n",
    "    cmap='coolwarm')\n",
    "\n",
    "# just to show that  there are 4 elements being returned from hist2d\n",
    "for i in results: \n",
    "    print(type(i))"
   ]
  },
  {
   "cell_type": "code",
   "execution_count": null,
   "metadata": {},
   "outputs": [],
   "source": [
    "figure, axes = plt.subplots()\n",
    "\n",
    "results = axes.hist2d(\n",
    "    nd_football_roster['Height'],\n",
    "    nd_football_roster['Weight'], \n",
    "    cmap='coolwarm')\n",
    "print(results)\n",
    "# # Pass in the 4th element (index 3)\n",
    "figure.colorbar(results[3], label='Count of Occurrence')\n",
    "\n",
    "\n",
    "axes.set_xlabel(\"Height\")\n",
    "axes.set_ylabel(\"Weight\")"
   ]
  },
  {
   "cell_type": "code",
   "execution_count": null,
   "metadata": {},
   "outputs": [],
   "source": [
    "results"
   ]
  },
  {
   "cell_type": "markdown",
   "metadata": {},
   "source": [
    "### Reduce clutter with the `cmin` & `cmax` arguments\n",
    "In both of our examples, there is a lot of visual noise that comes from the bins that have 0 occurences. We can remove this clutter by specifying the `cmin` (count minimum) argument."
   ]
  },
  {
   "cell_type": "code",
   "execution_count": null,
   "metadata": {},
   "outputs": [],
   "source": [
    "figure, axes = plt.subplots()\n",
    "results = axes.hist2d(\n",
    "    nd_football_roster['Height'],\n",
    "    nd_football_roster['Weight'],\n",
    "    cmap='coolwarm',\n",
    "    cmin=1)\n",
    "figure.colorbar(results[3], label='Count of Occurence')"
   ]
  },
  {
   "cell_type": "code",
   "execution_count": null,
   "metadata": {},
   "outputs": [],
   "source": [
    "# notice how range works with this type of visualization...\n",
    "\n",
    "figure, axes = plt.subplots()\n",
    "results = axes.hist2d(\n",
    "    nd_football_roster['Height'],\n",
    "    nd_football_roster['Weight'],\n",
    "    cmap='coolwarm',\n",
    "    cmin=1,\n",
    "    range=((70,76),(200,260))\n",
    "    )\n",
    "figure.colorbar(results[3], label='Count of Occurence')"
   ]
  },
  {
   "cell_type": "markdown",
   "metadata": {},
   "source": [
    "## Activity\n",
    "\n",
    "### 2D Histograms\n",
    "\n",
    "* Plot the 2D histograms of the distance ('DISTANCE') travelled and 'TAXI_IN' time. \n",
    "    * Adjust the parameters for each histogram\n",
    "        * cmin\n",
    "        * cmap\n",
    "        * bins\n",
    "        * range\n",
    "    * Provide a colorbar for 'Number of flights'"
   ]
  },
  {
   "cell_type": "code",
   "execution_count": null,
   "metadata": {},
   "outputs": [],
   "source": [
    "# subplots\n",
    "fig,ax = plt.subplots()\n",
    "flights.dropna(inplace=True)\n",
    "# plot 2d histogram with distance and taxi in\n",
    "results = ax.hist2d(flights['DISTANCE'], flights['TAXI_IN'],\n",
    "         cmap=\"viridis\", cmin=2,\n",
    "         range=((0,2000),(2,15)),\n",
    "               bins=14\n",
    "        )\n",
    "\n",
    "# set the cmap to viridis\n",
    "# clean up the map with range, and cmin/cmax\n",
    "\n",
    "# add color bar\n",
    "fig.colorbar(results[3], label=\"Occurances\")\n",
    "# set title\n",
    "ax.set_title(\"Distance and Taxi In Occurances\")\n",
    "ax.set_xlabel(\"Distance\")\n",
    "ax.set_ylabel(\"Taxi In Time\")"
   ]
  },
  {
   "cell_type": "markdown",
   "metadata": {},
   "source": [
    "# Making Interactive Plots\n",
    "\n",
    "Instead of saying `%matplotlib inline` if you used **`%matplotlib notebook`** you can interact with your plots. This is makes visualization even more **fun**!"
   ]
  },
  {
   "cell_type": "code",
   "execution_count": 4,
   "metadata": {},
   "outputs": [],
   "source": [
    "import pandas as pd\n",
    "import numpy as np\n",
    "import matplotlib as mpl\n",
    "import matplotlib.pyplot as plt\n",
    "\n",
    "# Add this after your imports to configure Jupyter to \n",
    "# display your plots and INTERACT with them\n",
    "%matplotlib notebook"
   ]
  },
  {
   "cell_type": "code",
   "execution_count": 5,
   "metadata": {},
   "outputs": [
    {
     "data": {
      "text/html": [
       "<div>\n",
       "<style scoped>\n",
       "    .dataframe tbody tr th:only-of-type {\n",
       "        vertical-align: middle;\n",
       "    }\n",
       "\n",
       "    .dataframe tbody tr th {\n",
       "        vertical-align: top;\n",
       "    }\n",
       "\n",
       "    .dataframe thead th {\n",
       "        text-align: right;\n",
       "    }\n",
       "</style>\n",
       "<table border=\"1\" class=\"dataframe\">\n",
       "  <thead>\n",
       "    <tr style=\"text-align: right;\">\n",
       "      <th></th>\n",
       "      <th>date</th>\n",
       "      <th>low_temp</th>\n",
       "      <th>high_temp</th>\n",
       "      <th>precipitation</th>\n",
       "      <th>snowfall</th>\n",
       "      <th>snowdepth</th>\n",
       "      <th>avgwindspeed</th>\n",
       "      <th>fog</th>\n",
       "      <th>mist</th>\n",
       "      <th>rain</th>\n",
       "      <th>ice</th>\n",
       "      <th>snow</th>\n",
       "      <th>freezingrain</th>\n",
       "      <th>thunder</th>\n",
       "      <th>highwind</th>\n",
       "      <th>hail</th>\n",
       "    </tr>\n",
       "  </thead>\n",
       "  <tbody>\n",
       "    <tr>\n",
       "      <td>0</td>\n",
       "      <td>1/1/15</td>\n",
       "      <td>23.2</td>\n",
       "      <td>51.1</td>\n",
       "      <td>0.00</td>\n",
       "      <td>0.0</td>\n",
       "      <td>0.0</td>\n",
       "      <td>4.70</td>\n",
       "      <td>No</td>\n",
       "      <td>No</td>\n",
       "      <td>No</td>\n",
       "      <td>No</td>\n",
       "      <td>No</td>\n",
       "      <td>No</td>\n",
       "      <td>No</td>\n",
       "      <td>No</td>\n",
       "      <td>No</td>\n",
       "    </tr>\n",
       "    <tr>\n",
       "      <td>1</td>\n",
       "      <td>1/2/15</td>\n",
       "      <td>41.0</td>\n",
       "      <td>54.0</td>\n",
       "      <td>0.00</td>\n",
       "      <td>0.0</td>\n",
       "      <td>0.0</td>\n",
       "      <td>2.91</td>\n",
       "      <td>No</td>\n",
       "      <td>No</td>\n",
       "      <td>No</td>\n",
       "      <td>No</td>\n",
       "      <td>No</td>\n",
       "      <td>No</td>\n",
       "      <td>No</td>\n",
       "      <td>No</td>\n",
       "      <td>No</td>\n",
       "    </tr>\n",
       "    <tr>\n",
       "      <td>2</td>\n",
       "      <td>1/3/15</td>\n",
       "      <td>46.0</td>\n",
       "      <td>51.1</td>\n",
       "      <td>0.16</td>\n",
       "      <td>0.0</td>\n",
       "      <td>0.0</td>\n",
       "      <td>3.80</td>\n",
       "      <td>Yes</td>\n",
       "      <td>No</td>\n",
       "      <td>No</td>\n",
       "      <td>No</td>\n",
       "      <td>No</td>\n",
       "      <td>No</td>\n",
       "      <td>No</td>\n",
       "      <td>No</td>\n",
       "      <td>No</td>\n",
       "    </tr>\n",
       "    <tr>\n",
       "      <td>3</td>\n",
       "      <td>1/4/15</td>\n",
       "      <td>48.9</td>\n",
       "      <td>69.1</td>\n",
       "      <td>0.29</td>\n",
       "      <td>0.0</td>\n",
       "      <td>0.0</td>\n",
       "      <td>10.07</td>\n",
       "      <td>Yes</td>\n",
       "      <td>No</td>\n",
       "      <td>No</td>\n",
       "      <td>No</td>\n",
       "      <td>No</td>\n",
       "      <td>No</td>\n",
       "      <td>No</td>\n",
       "      <td>No</td>\n",
       "      <td>No</td>\n",
       "    </tr>\n",
       "    <tr>\n",
       "      <td>4</td>\n",
       "      <td>1/5/15</td>\n",
       "      <td>32.0</td>\n",
       "      <td>55.9</td>\n",
       "      <td>0.00</td>\n",
       "      <td>0.0</td>\n",
       "      <td>0.0</td>\n",
       "      <td>5.37</td>\n",
       "      <td>No</td>\n",
       "      <td>No</td>\n",
       "      <td>No</td>\n",
       "      <td>No</td>\n",
       "      <td>No</td>\n",
       "      <td>No</td>\n",
       "      <td>No</td>\n",
       "      <td>No</td>\n",
       "      <td>No</td>\n",
       "    </tr>\n",
       "  </tbody>\n",
       "</table>\n",
       "</div>"
      ],
      "text/plain": [
       "     date  low_temp  high_temp  precipitation  snowfall  snowdepth  \\\n",
       "0  1/1/15      23.2       51.1           0.00       0.0        0.0   \n",
       "1  1/2/15      41.0       54.0           0.00       0.0        0.0   \n",
       "2  1/3/15      46.0       51.1           0.16       0.0        0.0   \n",
       "3  1/4/15      48.9       69.1           0.29       0.0        0.0   \n",
       "4  1/5/15      32.0       55.9           0.00       0.0        0.0   \n",
       "\n",
       "   avgwindspeed  fog mist rain ice snow freezingrain thunder highwind hail  \n",
       "0          4.70   No   No   No  No   No           No      No       No   No  \n",
       "1          2.91   No   No   No  No   No           No      No       No   No  \n",
       "2          3.80  Yes   No   No  No   No           No      No       No   No  \n",
       "3         10.07  Yes   No   No  No   No           No      No       No   No  \n",
       "4          5.37   No   No   No  No   No           No      No       No   No  "
      ]
     },
     "execution_count": 5,
     "metadata": {},
     "output_type": "execute_result"
    }
   ],
   "source": [
    "seattle_weather_2015_2016 = pd.read_csv(\n",
    "    './data/seattle_weather_2015_2016.csv')\n",
    "seattle_weather_2015_2016.head()"
   ]
  },
  {
   "cell_type": "code",
   "execution_count": 6,
   "metadata": {},
   "outputs": [
    {
     "data": {
      "application/javascript": [
       "/* Put everything inside the global mpl namespace */\n",
       "window.mpl = {};\n",
       "\n",
       "\n",
       "mpl.get_websocket_type = function() {\n",
       "    if (typeof(WebSocket) !== 'undefined') {\n",
       "        return WebSocket;\n",
       "    } else if (typeof(MozWebSocket) !== 'undefined') {\n",
       "        return MozWebSocket;\n",
       "    } else {\n",
       "        alert('Your browser does not have WebSocket support. ' +\n",
       "              'Please try Chrome, Safari or Firefox ≥ 6. ' +\n",
       "              'Firefox 4 and 5 are also supported but you ' +\n",
       "              'have to enable WebSockets in about:config.');\n",
       "    };\n",
       "}\n",
       "\n",
       "mpl.figure = function(figure_id, websocket, ondownload, parent_element) {\n",
       "    this.id = figure_id;\n",
       "\n",
       "    this.ws = websocket;\n",
       "\n",
       "    this.supports_binary = (this.ws.binaryType != undefined);\n",
       "\n",
       "    if (!this.supports_binary) {\n",
       "        var warnings = document.getElementById(\"mpl-warnings\");\n",
       "        if (warnings) {\n",
       "            warnings.style.display = 'block';\n",
       "            warnings.textContent = (\n",
       "                \"This browser does not support binary websocket messages. \" +\n",
       "                    \"Performance may be slow.\");\n",
       "        }\n",
       "    }\n",
       "\n",
       "    this.imageObj = new Image();\n",
       "\n",
       "    this.context = undefined;\n",
       "    this.message = undefined;\n",
       "    this.canvas = undefined;\n",
       "    this.rubberband_canvas = undefined;\n",
       "    this.rubberband_context = undefined;\n",
       "    this.format_dropdown = undefined;\n",
       "\n",
       "    this.image_mode = 'full';\n",
       "\n",
       "    this.root = $('<div/>');\n",
       "    this._root_extra_style(this.root)\n",
       "    this.root.attr('style', 'display: inline-block');\n",
       "\n",
       "    $(parent_element).append(this.root);\n",
       "\n",
       "    this._init_header(this);\n",
       "    this._init_canvas(this);\n",
       "    this._init_toolbar(this);\n",
       "\n",
       "    var fig = this;\n",
       "\n",
       "    this.waiting = false;\n",
       "\n",
       "    this.ws.onopen =  function () {\n",
       "            fig.send_message(\"supports_binary\", {value: fig.supports_binary});\n",
       "            fig.send_message(\"send_image_mode\", {});\n",
       "            if (mpl.ratio != 1) {\n",
       "                fig.send_message(\"set_dpi_ratio\", {'dpi_ratio': mpl.ratio});\n",
       "            }\n",
       "            fig.send_message(\"refresh\", {});\n",
       "        }\n",
       "\n",
       "    this.imageObj.onload = function() {\n",
       "            if (fig.image_mode == 'full') {\n",
       "                // Full images could contain transparency (where diff images\n",
       "                // almost always do), so we need to clear the canvas so that\n",
       "                // there is no ghosting.\n",
       "                fig.context.clearRect(0, 0, fig.canvas.width, fig.canvas.height);\n",
       "            }\n",
       "            fig.context.drawImage(fig.imageObj, 0, 0);\n",
       "        };\n",
       "\n",
       "    this.imageObj.onunload = function() {\n",
       "        fig.ws.close();\n",
       "    }\n",
       "\n",
       "    this.ws.onmessage = this._make_on_message_function(this);\n",
       "\n",
       "    this.ondownload = ondownload;\n",
       "}\n",
       "\n",
       "mpl.figure.prototype._init_header = function() {\n",
       "    var titlebar = $(\n",
       "        '<div class=\"ui-dialog-titlebar ui-widget-header ui-corner-all ' +\n",
       "        'ui-helper-clearfix\"/>');\n",
       "    var titletext = $(\n",
       "        '<div class=\"ui-dialog-title\" style=\"width: 100%; ' +\n",
       "        'text-align: center; padding: 3px;\"/>');\n",
       "    titlebar.append(titletext)\n",
       "    this.root.append(titlebar);\n",
       "    this.header = titletext[0];\n",
       "}\n",
       "\n",
       "\n",
       "\n",
       "mpl.figure.prototype._canvas_extra_style = function(canvas_div) {\n",
       "\n",
       "}\n",
       "\n",
       "\n",
       "mpl.figure.prototype._root_extra_style = function(canvas_div) {\n",
       "\n",
       "}\n",
       "\n",
       "mpl.figure.prototype._init_canvas = function() {\n",
       "    var fig = this;\n",
       "\n",
       "    var canvas_div = $('<div/>');\n",
       "\n",
       "    canvas_div.attr('style', 'position: relative; clear: both; outline: 0');\n",
       "\n",
       "    function canvas_keyboard_event(event) {\n",
       "        return fig.key_event(event, event['data']);\n",
       "    }\n",
       "\n",
       "    canvas_div.keydown('key_press', canvas_keyboard_event);\n",
       "    canvas_div.keyup('key_release', canvas_keyboard_event);\n",
       "    this.canvas_div = canvas_div\n",
       "    this._canvas_extra_style(canvas_div)\n",
       "    this.root.append(canvas_div);\n",
       "\n",
       "    var canvas = $('<canvas/>');\n",
       "    canvas.addClass('mpl-canvas');\n",
       "    canvas.attr('style', \"left: 0; top: 0; z-index: 0; outline: 0\")\n",
       "\n",
       "    this.canvas = canvas[0];\n",
       "    this.context = canvas[0].getContext(\"2d\");\n",
       "\n",
       "    var backingStore = this.context.backingStorePixelRatio ||\n",
       "\tthis.context.webkitBackingStorePixelRatio ||\n",
       "\tthis.context.mozBackingStorePixelRatio ||\n",
       "\tthis.context.msBackingStorePixelRatio ||\n",
       "\tthis.context.oBackingStorePixelRatio ||\n",
       "\tthis.context.backingStorePixelRatio || 1;\n",
       "\n",
       "    mpl.ratio = (window.devicePixelRatio || 1) / backingStore;\n",
       "\n",
       "    var rubberband = $('<canvas/>');\n",
       "    rubberband.attr('style', \"position: absolute; left: 0; top: 0; z-index: 1;\")\n",
       "\n",
       "    var pass_mouse_events = true;\n",
       "\n",
       "    canvas_div.resizable({\n",
       "        start: function(event, ui) {\n",
       "            pass_mouse_events = false;\n",
       "        },\n",
       "        resize: function(event, ui) {\n",
       "            fig.request_resize(ui.size.width, ui.size.height);\n",
       "        },\n",
       "        stop: function(event, ui) {\n",
       "            pass_mouse_events = true;\n",
       "            fig.request_resize(ui.size.width, ui.size.height);\n",
       "        },\n",
       "    });\n",
       "\n",
       "    function mouse_event_fn(event) {\n",
       "        if (pass_mouse_events)\n",
       "            return fig.mouse_event(event, event['data']);\n",
       "    }\n",
       "\n",
       "    rubberband.mousedown('button_press', mouse_event_fn);\n",
       "    rubberband.mouseup('button_release', mouse_event_fn);\n",
       "    // Throttle sequential mouse events to 1 every 20ms.\n",
       "    rubberband.mousemove('motion_notify', mouse_event_fn);\n",
       "\n",
       "    rubberband.mouseenter('figure_enter', mouse_event_fn);\n",
       "    rubberband.mouseleave('figure_leave', mouse_event_fn);\n",
       "\n",
       "    canvas_div.on(\"wheel\", function (event) {\n",
       "        event = event.originalEvent;\n",
       "        event['data'] = 'scroll'\n",
       "        if (event.deltaY < 0) {\n",
       "            event.step = 1;\n",
       "        } else {\n",
       "            event.step = -1;\n",
       "        }\n",
       "        mouse_event_fn(event);\n",
       "    });\n",
       "\n",
       "    canvas_div.append(canvas);\n",
       "    canvas_div.append(rubberband);\n",
       "\n",
       "    this.rubberband = rubberband;\n",
       "    this.rubberband_canvas = rubberband[0];\n",
       "    this.rubberband_context = rubberband[0].getContext(\"2d\");\n",
       "    this.rubberband_context.strokeStyle = \"#000000\";\n",
       "\n",
       "    this._resize_canvas = function(width, height) {\n",
       "        // Keep the size of the canvas, canvas container, and rubber band\n",
       "        // canvas in synch.\n",
       "        canvas_div.css('width', width)\n",
       "        canvas_div.css('height', height)\n",
       "\n",
       "        canvas.attr('width', width * mpl.ratio);\n",
       "        canvas.attr('height', height * mpl.ratio);\n",
       "        canvas.attr('style', 'width: ' + width + 'px; height: ' + height + 'px;');\n",
       "\n",
       "        rubberband.attr('width', width);\n",
       "        rubberband.attr('height', height);\n",
       "    }\n",
       "\n",
       "    // Set the figure to an initial 600x600px, this will subsequently be updated\n",
       "    // upon first draw.\n",
       "    this._resize_canvas(600, 600);\n",
       "\n",
       "    // Disable right mouse context menu.\n",
       "    $(this.rubberband_canvas).bind(\"contextmenu\",function(e){\n",
       "        return false;\n",
       "    });\n",
       "\n",
       "    function set_focus () {\n",
       "        canvas.focus();\n",
       "        canvas_div.focus();\n",
       "    }\n",
       "\n",
       "    window.setTimeout(set_focus, 100);\n",
       "}\n",
       "\n",
       "mpl.figure.prototype._init_toolbar = function() {\n",
       "    var fig = this;\n",
       "\n",
       "    var nav_element = $('<div/>');\n",
       "    nav_element.attr('style', 'width: 100%');\n",
       "    this.root.append(nav_element);\n",
       "\n",
       "    // Define a callback function for later on.\n",
       "    function toolbar_event(event) {\n",
       "        return fig.toolbar_button_onclick(event['data']);\n",
       "    }\n",
       "    function toolbar_mouse_event(event) {\n",
       "        return fig.toolbar_button_onmouseover(event['data']);\n",
       "    }\n",
       "\n",
       "    for(var toolbar_ind in mpl.toolbar_items) {\n",
       "        var name = mpl.toolbar_items[toolbar_ind][0];\n",
       "        var tooltip = mpl.toolbar_items[toolbar_ind][1];\n",
       "        var image = mpl.toolbar_items[toolbar_ind][2];\n",
       "        var method_name = mpl.toolbar_items[toolbar_ind][3];\n",
       "\n",
       "        if (!name) {\n",
       "            // put a spacer in here.\n",
       "            continue;\n",
       "        }\n",
       "        var button = $('<button/>');\n",
       "        button.addClass('ui-button ui-widget ui-state-default ui-corner-all ' +\n",
       "                        'ui-button-icon-only');\n",
       "        button.attr('role', 'button');\n",
       "        button.attr('aria-disabled', 'false');\n",
       "        button.click(method_name, toolbar_event);\n",
       "        button.mouseover(tooltip, toolbar_mouse_event);\n",
       "\n",
       "        var icon_img = $('<span/>');\n",
       "        icon_img.addClass('ui-button-icon-primary ui-icon');\n",
       "        icon_img.addClass(image);\n",
       "        icon_img.addClass('ui-corner-all');\n",
       "\n",
       "        var tooltip_span = $('<span/>');\n",
       "        tooltip_span.addClass('ui-button-text');\n",
       "        tooltip_span.html(tooltip);\n",
       "\n",
       "        button.append(icon_img);\n",
       "        button.append(tooltip_span);\n",
       "\n",
       "        nav_element.append(button);\n",
       "    }\n",
       "\n",
       "    var fmt_picker_span = $('<span/>');\n",
       "\n",
       "    var fmt_picker = $('<select/>');\n",
       "    fmt_picker.addClass('mpl-toolbar-option ui-widget ui-widget-content');\n",
       "    fmt_picker_span.append(fmt_picker);\n",
       "    nav_element.append(fmt_picker_span);\n",
       "    this.format_dropdown = fmt_picker[0];\n",
       "\n",
       "    for (var ind in mpl.extensions) {\n",
       "        var fmt = mpl.extensions[ind];\n",
       "        var option = $(\n",
       "            '<option/>', {selected: fmt === mpl.default_extension}).html(fmt);\n",
       "        fmt_picker.append(option);\n",
       "    }\n",
       "\n",
       "    // Add hover states to the ui-buttons\n",
       "    $( \".ui-button\" ).hover(\n",
       "        function() { $(this).addClass(\"ui-state-hover\");},\n",
       "        function() { $(this).removeClass(\"ui-state-hover\");}\n",
       "    );\n",
       "\n",
       "    var status_bar = $('<span class=\"mpl-message\"/>');\n",
       "    nav_element.append(status_bar);\n",
       "    this.message = status_bar[0];\n",
       "}\n",
       "\n",
       "mpl.figure.prototype.request_resize = function(x_pixels, y_pixels) {\n",
       "    // Request matplotlib to resize the figure. Matplotlib will then trigger a resize in the client,\n",
       "    // which will in turn request a refresh of the image.\n",
       "    this.send_message('resize', {'width': x_pixels, 'height': y_pixels});\n",
       "}\n",
       "\n",
       "mpl.figure.prototype.send_message = function(type, properties) {\n",
       "    properties['type'] = type;\n",
       "    properties['figure_id'] = this.id;\n",
       "    this.ws.send(JSON.stringify(properties));\n",
       "}\n",
       "\n",
       "mpl.figure.prototype.send_draw_message = function() {\n",
       "    if (!this.waiting) {\n",
       "        this.waiting = true;\n",
       "        this.ws.send(JSON.stringify({type: \"draw\", figure_id: this.id}));\n",
       "    }\n",
       "}\n",
       "\n",
       "\n",
       "mpl.figure.prototype.handle_save = function(fig, msg) {\n",
       "    var format_dropdown = fig.format_dropdown;\n",
       "    var format = format_dropdown.options[format_dropdown.selectedIndex].value;\n",
       "    fig.ondownload(fig, format);\n",
       "}\n",
       "\n",
       "\n",
       "mpl.figure.prototype.handle_resize = function(fig, msg) {\n",
       "    var size = msg['size'];\n",
       "    if (size[0] != fig.canvas.width || size[1] != fig.canvas.height) {\n",
       "        fig._resize_canvas(size[0], size[1]);\n",
       "        fig.send_message(\"refresh\", {});\n",
       "    };\n",
       "}\n",
       "\n",
       "mpl.figure.prototype.handle_rubberband = function(fig, msg) {\n",
       "    var x0 = msg['x0'] / mpl.ratio;\n",
       "    var y0 = (fig.canvas.height - msg['y0']) / mpl.ratio;\n",
       "    var x1 = msg['x1'] / mpl.ratio;\n",
       "    var y1 = (fig.canvas.height - msg['y1']) / mpl.ratio;\n",
       "    x0 = Math.floor(x0) + 0.5;\n",
       "    y0 = Math.floor(y0) + 0.5;\n",
       "    x1 = Math.floor(x1) + 0.5;\n",
       "    y1 = Math.floor(y1) + 0.5;\n",
       "    var min_x = Math.min(x0, x1);\n",
       "    var min_y = Math.min(y0, y1);\n",
       "    var width = Math.abs(x1 - x0);\n",
       "    var height = Math.abs(y1 - y0);\n",
       "\n",
       "    fig.rubberband_context.clearRect(\n",
       "        0, 0, fig.canvas.width / mpl.ratio, fig.canvas.height / mpl.ratio);\n",
       "\n",
       "    fig.rubberband_context.strokeRect(min_x, min_y, width, height);\n",
       "}\n",
       "\n",
       "mpl.figure.prototype.handle_figure_label = function(fig, msg) {\n",
       "    // Updates the figure title.\n",
       "    fig.header.textContent = msg['label'];\n",
       "}\n",
       "\n",
       "mpl.figure.prototype.handle_cursor = function(fig, msg) {\n",
       "    var cursor = msg['cursor'];\n",
       "    switch(cursor)\n",
       "    {\n",
       "    case 0:\n",
       "        cursor = 'pointer';\n",
       "        break;\n",
       "    case 1:\n",
       "        cursor = 'default';\n",
       "        break;\n",
       "    case 2:\n",
       "        cursor = 'crosshair';\n",
       "        break;\n",
       "    case 3:\n",
       "        cursor = 'move';\n",
       "        break;\n",
       "    }\n",
       "    fig.rubberband_canvas.style.cursor = cursor;\n",
       "}\n",
       "\n",
       "mpl.figure.prototype.handle_message = function(fig, msg) {\n",
       "    fig.message.textContent = msg['message'];\n",
       "}\n",
       "\n",
       "mpl.figure.prototype.handle_draw = function(fig, msg) {\n",
       "    // Request the server to send over a new figure.\n",
       "    fig.send_draw_message();\n",
       "}\n",
       "\n",
       "mpl.figure.prototype.handle_image_mode = function(fig, msg) {\n",
       "    fig.image_mode = msg['mode'];\n",
       "}\n",
       "\n",
       "mpl.figure.prototype.updated_canvas_event = function() {\n",
       "    // Called whenever the canvas gets updated.\n",
       "    this.send_message(\"ack\", {});\n",
       "}\n",
       "\n",
       "// A function to construct a web socket function for onmessage handling.\n",
       "// Called in the figure constructor.\n",
       "mpl.figure.prototype._make_on_message_function = function(fig) {\n",
       "    return function socket_on_message(evt) {\n",
       "        if (evt.data instanceof Blob) {\n",
       "            /* FIXME: We get \"Resource interpreted as Image but\n",
       "             * transferred with MIME type text/plain:\" errors on\n",
       "             * Chrome.  But how to set the MIME type?  It doesn't seem\n",
       "             * to be part of the websocket stream */\n",
       "            evt.data.type = \"image/png\";\n",
       "\n",
       "            /* Free the memory for the previous frames */\n",
       "            if (fig.imageObj.src) {\n",
       "                (window.URL || window.webkitURL).revokeObjectURL(\n",
       "                    fig.imageObj.src);\n",
       "            }\n",
       "\n",
       "            fig.imageObj.src = (window.URL || window.webkitURL).createObjectURL(\n",
       "                evt.data);\n",
       "            fig.updated_canvas_event();\n",
       "            fig.waiting = false;\n",
       "            return;\n",
       "        }\n",
       "        else if (typeof evt.data === 'string' && evt.data.slice(0, 21) == \"data:image/png;base64\") {\n",
       "            fig.imageObj.src = evt.data;\n",
       "            fig.updated_canvas_event();\n",
       "            fig.waiting = false;\n",
       "            return;\n",
       "        }\n",
       "\n",
       "        var msg = JSON.parse(evt.data);\n",
       "        var msg_type = msg['type'];\n",
       "\n",
       "        // Call the  \"handle_{type}\" callback, which takes\n",
       "        // the figure and JSON message as its only arguments.\n",
       "        try {\n",
       "            var callback = fig[\"handle_\" + msg_type];\n",
       "        } catch (e) {\n",
       "            console.log(\"No handler for the '\" + msg_type + \"' message type: \", msg);\n",
       "            return;\n",
       "        }\n",
       "\n",
       "        if (callback) {\n",
       "            try {\n",
       "                // console.log(\"Handling '\" + msg_type + \"' message: \", msg);\n",
       "                callback(fig, msg);\n",
       "            } catch (e) {\n",
       "                console.log(\"Exception inside the 'handler_\" + msg_type + \"' callback:\", e, e.stack, msg);\n",
       "            }\n",
       "        }\n",
       "    };\n",
       "}\n",
       "\n",
       "// from http://stackoverflow.com/questions/1114465/getting-mouse-location-in-canvas\n",
       "mpl.findpos = function(e) {\n",
       "    //this section is from http://www.quirksmode.org/js/events_properties.html\n",
       "    var targ;\n",
       "    if (!e)\n",
       "        e = window.event;\n",
       "    if (e.target)\n",
       "        targ = e.target;\n",
       "    else if (e.srcElement)\n",
       "        targ = e.srcElement;\n",
       "    if (targ.nodeType == 3) // defeat Safari bug\n",
       "        targ = targ.parentNode;\n",
       "\n",
       "    // jQuery normalizes the pageX and pageY\n",
       "    // pageX,Y are the mouse positions relative to the document\n",
       "    // offset() returns the position of the element relative to the document\n",
       "    var x = e.pageX - $(targ).offset().left;\n",
       "    var y = e.pageY - $(targ).offset().top;\n",
       "\n",
       "    return {\"x\": x, \"y\": y};\n",
       "};\n",
       "\n",
       "/*\n",
       " * return a copy of an object with only non-object keys\n",
       " * we need this to avoid circular references\n",
       " * http://stackoverflow.com/a/24161582/3208463\n",
       " */\n",
       "function simpleKeys (original) {\n",
       "  return Object.keys(original).reduce(function (obj, key) {\n",
       "    if (typeof original[key] !== 'object')\n",
       "        obj[key] = original[key]\n",
       "    return obj;\n",
       "  }, {});\n",
       "}\n",
       "\n",
       "mpl.figure.prototype.mouse_event = function(event, name) {\n",
       "    var canvas_pos = mpl.findpos(event)\n",
       "\n",
       "    if (name === 'button_press')\n",
       "    {\n",
       "        this.canvas.focus();\n",
       "        this.canvas_div.focus();\n",
       "    }\n",
       "\n",
       "    var x = canvas_pos.x * mpl.ratio;\n",
       "    var y = canvas_pos.y * mpl.ratio;\n",
       "\n",
       "    this.send_message(name, {x: x, y: y, button: event.button,\n",
       "                             step: event.step,\n",
       "                             guiEvent: simpleKeys(event)});\n",
       "\n",
       "    /* This prevents the web browser from automatically changing to\n",
       "     * the text insertion cursor when the button is pressed.  We want\n",
       "     * to control all of the cursor setting manually through the\n",
       "     * 'cursor' event from matplotlib */\n",
       "    event.preventDefault();\n",
       "    return false;\n",
       "}\n",
       "\n",
       "mpl.figure.prototype._key_event_extra = function(event, name) {\n",
       "    // Handle any extra behaviour associated with a key event\n",
       "}\n",
       "\n",
       "mpl.figure.prototype.key_event = function(event, name) {\n",
       "\n",
       "    // Prevent repeat events\n",
       "    if (name == 'key_press')\n",
       "    {\n",
       "        if (event.which === this._key)\n",
       "            return;\n",
       "        else\n",
       "            this._key = event.which;\n",
       "    }\n",
       "    if (name == 'key_release')\n",
       "        this._key = null;\n",
       "\n",
       "    var value = '';\n",
       "    if (event.ctrlKey && event.which != 17)\n",
       "        value += \"ctrl+\";\n",
       "    if (event.altKey && event.which != 18)\n",
       "        value += \"alt+\";\n",
       "    if (event.shiftKey && event.which != 16)\n",
       "        value += \"shift+\";\n",
       "\n",
       "    value += 'k';\n",
       "    value += event.which.toString();\n",
       "\n",
       "    this._key_event_extra(event, name);\n",
       "\n",
       "    this.send_message(name, {key: value,\n",
       "                             guiEvent: simpleKeys(event)});\n",
       "    return false;\n",
       "}\n",
       "\n",
       "mpl.figure.prototype.toolbar_button_onclick = function(name) {\n",
       "    if (name == 'download') {\n",
       "        this.handle_save(this, null);\n",
       "    } else {\n",
       "        this.send_message(\"toolbar_button\", {name: name});\n",
       "    }\n",
       "};\n",
       "\n",
       "mpl.figure.prototype.toolbar_button_onmouseover = function(tooltip) {\n",
       "    this.message.textContent = tooltip;\n",
       "};\n",
       "mpl.toolbar_items = [[\"Home\", \"Reset original view\", \"fa fa-home icon-home\", \"home\"], [\"Back\", \"Back to previous view\", \"fa fa-arrow-left icon-arrow-left\", \"back\"], [\"Forward\", \"Forward to next view\", \"fa fa-arrow-right icon-arrow-right\", \"forward\"], [\"\", \"\", \"\", \"\"], [\"Pan\", \"Pan axes with left mouse, zoom with right\", \"fa fa-arrows icon-move\", \"pan\"], [\"Zoom\", \"Zoom to rectangle\", \"fa fa-square-o icon-check-empty\", \"zoom\"], [\"\", \"\", \"\", \"\"], [\"Download\", \"Download plot\", \"fa fa-floppy-o icon-save\", \"download\"]];\n",
       "\n",
       "mpl.extensions = [\"eps\", \"jpeg\", \"pdf\", \"png\", \"ps\", \"raw\", \"svg\", \"tif\"];\n",
       "\n",
       "mpl.default_extension = \"png\";var comm_websocket_adapter = function(comm) {\n",
       "    // Create a \"websocket\"-like object which calls the given IPython comm\n",
       "    // object with the appropriate methods. Currently this is a non binary\n",
       "    // socket, so there is still some room for performance tuning.\n",
       "    var ws = {};\n",
       "\n",
       "    ws.close = function() {\n",
       "        comm.close()\n",
       "    };\n",
       "    ws.send = function(m) {\n",
       "        //console.log('sending', m);\n",
       "        comm.send(m);\n",
       "    };\n",
       "    // Register the callback with on_msg.\n",
       "    comm.on_msg(function(msg) {\n",
       "        //console.log('receiving', msg['content']['data'], msg);\n",
       "        // Pass the mpl event to the overridden (by mpl) onmessage function.\n",
       "        ws.onmessage(msg['content']['data'])\n",
       "    });\n",
       "    return ws;\n",
       "}\n",
       "\n",
       "mpl.mpl_figure_comm = function(comm, msg) {\n",
       "    // This is the function which gets called when the mpl process\n",
       "    // starts-up an IPython Comm through the \"matplotlib\" channel.\n",
       "\n",
       "    var id = msg.content.data.id;\n",
       "    // Get hold of the div created by the display call when the Comm\n",
       "    // socket was opened in Python.\n",
       "    var element = $(\"#\" + id);\n",
       "    var ws_proxy = comm_websocket_adapter(comm)\n",
       "\n",
       "    function ondownload(figure, format) {\n",
       "        window.open(figure.imageObj.src);\n",
       "    }\n",
       "\n",
       "    var fig = new mpl.figure(id, ws_proxy,\n",
       "                           ondownload,\n",
       "                           element.get(0));\n",
       "\n",
       "    // Call onopen now - mpl needs it, as it is assuming we've passed it a real\n",
       "    // web socket which is closed, not our websocket->open comm proxy.\n",
       "    ws_proxy.onopen();\n",
       "\n",
       "    fig.parent_element = element.get(0);\n",
       "    fig.cell_info = mpl.find_output_cell(\"<div id='\" + id + \"'></div>\");\n",
       "    if (!fig.cell_info) {\n",
       "        console.error(\"Failed to find cell for figure\", id, fig);\n",
       "        return;\n",
       "    }\n",
       "\n",
       "    var output_index = fig.cell_info[2]\n",
       "    var cell = fig.cell_info[0];\n",
       "\n",
       "};\n",
       "\n",
       "mpl.figure.prototype.handle_close = function(fig, msg) {\n",
       "    var width = fig.canvas.width/mpl.ratio\n",
       "    fig.root.unbind('remove')\n",
       "\n",
       "    // Update the output cell to use the data from the current canvas.\n",
       "    fig.push_to_output();\n",
       "    var dataURL = fig.canvas.toDataURL();\n",
       "    // Re-enable the keyboard manager in IPython - without this line, in FF,\n",
       "    // the notebook keyboard shortcuts fail.\n",
       "    IPython.keyboard_manager.enable()\n",
       "    $(fig.parent_element).html('<img src=\"' + dataURL + '\" width=\"' + width + '\">');\n",
       "    fig.close_ws(fig, msg);\n",
       "}\n",
       "\n",
       "mpl.figure.prototype.close_ws = function(fig, msg){\n",
       "    fig.send_message('closing', msg);\n",
       "    // fig.ws.close()\n",
       "}\n",
       "\n",
       "mpl.figure.prototype.push_to_output = function(remove_interactive) {\n",
       "    // Turn the data on the canvas into data in the output cell.\n",
       "    var width = this.canvas.width/mpl.ratio\n",
       "    var dataURL = this.canvas.toDataURL();\n",
       "    this.cell_info[1]['text/html'] = '<img src=\"' + dataURL + '\" width=\"' + width + '\">';\n",
       "}\n",
       "\n",
       "mpl.figure.prototype.updated_canvas_event = function() {\n",
       "    // Tell IPython that the notebook contents must change.\n",
       "    IPython.notebook.set_dirty(true);\n",
       "    this.send_message(\"ack\", {});\n",
       "    var fig = this;\n",
       "    // Wait a second, then push the new image to the DOM so\n",
       "    // that it is saved nicely (might be nice to debounce this).\n",
       "    setTimeout(function () { fig.push_to_output() }, 1000);\n",
       "}\n",
       "\n",
       "mpl.figure.prototype._init_toolbar = function() {\n",
       "    var fig = this;\n",
       "\n",
       "    var nav_element = $('<div/>');\n",
       "    nav_element.attr('style', 'width: 100%');\n",
       "    this.root.append(nav_element);\n",
       "\n",
       "    // Define a callback function for later on.\n",
       "    function toolbar_event(event) {\n",
       "        return fig.toolbar_button_onclick(event['data']);\n",
       "    }\n",
       "    function toolbar_mouse_event(event) {\n",
       "        return fig.toolbar_button_onmouseover(event['data']);\n",
       "    }\n",
       "\n",
       "    for(var toolbar_ind in mpl.toolbar_items){\n",
       "        var name = mpl.toolbar_items[toolbar_ind][0];\n",
       "        var tooltip = mpl.toolbar_items[toolbar_ind][1];\n",
       "        var image = mpl.toolbar_items[toolbar_ind][2];\n",
       "        var method_name = mpl.toolbar_items[toolbar_ind][3];\n",
       "\n",
       "        if (!name) { continue; };\n",
       "\n",
       "        var button = $('<button class=\"btn btn-default\" href=\"#\" title=\"' + name + '\"><i class=\"fa ' + image + ' fa-lg\"></i></button>');\n",
       "        button.click(method_name, toolbar_event);\n",
       "        button.mouseover(tooltip, toolbar_mouse_event);\n",
       "        nav_element.append(button);\n",
       "    }\n",
       "\n",
       "    // Add the status bar.\n",
       "    var status_bar = $('<span class=\"mpl-message\" style=\"text-align:right; float: right;\"/>');\n",
       "    nav_element.append(status_bar);\n",
       "    this.message = status_bar[0];\n",
       "\n",
       "    // Add the close button to the window.\n",
       "    var buttongrp = $('<div class=\"btn-group inline pull-right\"></div>');\n",
       "    var button = $('<button class=\"btn btn-mini btn-primary\" href=\"#\" title=\"Stop Interaction\"><i class=\"fa fa-power-off icon-remove icon-large\"></i></button>');\n",
       "    button.click(function (evt) { fig.handle_close(fig, {}); } );\n",
       "    button.mouseover('Stop Interaction', toolbar_mouse_event);\n",
       "    buttongrp.append(button);\n",
       "    var titlebar = this.root.find($('.ui-dialog-titlebar'));\n",
       "    titlebar.prepend(buttongrp);\n",
       "}\n",
       "\n",
       "mpl.figure.prototype._root_extra_style = function(el){\n",
       "    var fig = this\n",
       "    el.on(\"remove\", function(){\n",
       "\tfig.close_ws(fig, {});\n",
       "    });\n",
       "}\n",
       "\n",
       "mpl.figure.prototype._canvas_extra_style = function(el){\n",
       "    // this is important to make the div 'focusable\n",
       "    el.attr('tabindex', 0)\n",
       "    // reach out to IPython and tell the keyboard manager to turn it's self\n",
       "    // off when our div gets focus\n",
       "\n",
       "    // location in version 3\n",
       "    if (IPython.notebook.keyboard_manager) {\n",
       "        IPython.notebook.keyboard_manager.register_events(el);\n",
       "    }\n",
       "    else {\n",
       "        // location in version 2\n",
       "        IPython.keyboard_manager.register_events(el);\n",
       "    }\n",
       "\n",
       "}\n",
       "\n",
       "mpl.figure.prototype._key_event_extra = function(event, name) {\n",
       "    var manager = IPython.notebook.keyboard_manager;\n",
       "    if (!manager)\n",
       "        manager = IPython.keyboard_manager;\n",
       "\n",
       "    // Check for shift+enter\n",
       "    if (event.shiftKey && event.which == 13) {\n",
       "        this.canvas_div.blur();\n",
       "        event.shiftKey = false;\n",
       "        // Send a \"J\" for go to next cell\n",
       "        event.which = 74;\n",
       "        event.keyCode = 74;\n",
       "        manager.command_mode();\n",
       "        manager.handle_keydown(event);\n",
       "    }\n",
       "}\n",
       "\n",
       "mpl.figure.prototype.handle_save = function(fig, msg) {\n",
       "    fig.ondownload(fig, null);\n",
       "}\n",
       "\n",
       "\n",
       "mpl.find_output_cell = function(html_output) {\n",
       "    // Return the cell and output element which can be found *uniquely* in the notebook.\n",
       "    // Note - this is a bit hacky, but it is done because the \"notebook_saving.Notebook\"\n",
       "    // IPython event is triggered only after the cells have been serialised, which for\n",
       "    // our purposes (turning an active figure into a static one), is too late.\n",
       "    var cells = IPython.notebook.get_cells();\n",
       "    var ncells = cells.length;\n",
       "    for (var i=0; i<ncells; i++) {\n",
       "        var cell = cells[i];\n",
       "        if (cell.cell_type === 'code'){\n",
       "            for (var j=0; j<cell.output_area.outputs.length; j++) {\n",
       "                var data = cell.output_area.outputs[j];\n",
       "                if (data.data) {\n",
       "                    // IPython >= 3 moved mimebundle to data attribute of output\n",
       "                    data = data.data;\n",
       "                }\n",
       "                if (data['text/html'] == html_output) {\n",
       "                    return [cell, data, j];\n",
       "                }\n",
       "            }\n",
       "        }\n",
       "    }\n",
       "}\n",
       "\n",
       "// Register the function which deals with the matplotlib target/channel.\n",
       "// The kernel may be null if the page has been refreshed.\n",
       "if (IPython.notebook.kernel != null) {\n",
       "    IPython.notebook.kernel.comm_manager.register_target('matplotlib', mpl.mpl_figure_comm);\n",
       "}\n"
      ],
      "text/plain": [
       "<IPython.core.display.Javascript object>"
      ]
     },
     "metadata": {},
     "output_type": "display_data"
    },
    {
     "data": {
      "text/html": [
       "<img src=\"data:image/png;base64,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\" width=\"640\">"
      ],
      "text/plain": [
       "<IPython.core.display.HTML object>"
      ]
     },
     "metadata": {},
     "output_type": "display_data"
    },
    {
     "data": {
      "text/plain": [
       "<matplotlib.colorbar.Colorbar at 0x7ff848730a50>"
      ]
     },
     "execution_count": 6,
     "metadata": {},
     "output_type": "execute_result"
    }
   ],
   "source": [
    "# Plotting high & low temps with different colormaps\n",
    "# along with separate colorbars\n",
    "figure, axes = plt.subplots()\n",
    "\n",
    "low_temps = axes.scatter(seattle_weather_2015_2016.index, \n",
    "             seattle_weather_2015_2016['low_temp'], \n",
    "             c=seattle_weather_2015_2016['low_temp'], \n",
    "             cmap='PuBu')\n",
    "\n",
    "high_temps = axes.scatter(seattle_weather_2015_2016.index, \n",
    "             seattle_weather_2015_2016['high_temp'],\n",
    "             c=seattle_weather_2015_2016['high_temp'], \n",
    "             cmap='YlOrRd')\n",
    "\n",
    "figure.colorbar(low_temps, label=\"Low Temperature\")\n",
    "figure.colorbar(high_temps, label = \"High Temperature\")"
   ]
  },
  {
   "cell_type": "markdown",
   "metadata": {},
   "source": [
    "# Matplotlib Subplots"
   ]
  },
  {
   "cell_type": "markdown",
   "metadata": {},
   "source": [
    "## Introduction\n",
    "In this section we are going to learn how to create multiple plots that are connected to each other in a single *`figure`* object. In Matplotlib, these are called \"subplots\". You may also think of them as linked plots."
   ]
  },
  {
   "cell_type": "code",
   "execution_count": 7,
   "metadata": {},
   "outputs": [],
   "source": [
    "nd_football_roster = pd.read_csv('./data/nd-football-2018-roster.csv')\n",
    "seattle_weather_2015_2016 = pd.read_csv(\n",
    "    './data/seattle_weather_2015_2016.csv')"
   ]
  },
  {
   "cell_type": "markdown",
   "metadata": {},
   "source": [
    "## Generating Subplots\n",
    "You've actually been using the method needed to create a grid of subplots from the very beginning of this chapter.\n",
    "\n",
    "We've used **`plt.subplots()`** function to return a single figure and axes objects, but it is also capable of generating a grid of axes objects with supplied with the correct arguments.\n",
    "\n",
    "In the following example, I will generate a 1x2 grid of axes for us to work with."
   ]
  },
  {
   "cell_type": "code",
   "execution_count": 11,
   "metadata": {},
   "outputs": [
    {
     "name": "stdout",
     "output_type": "stream",
     "text": [
      "<class 'numpy.ndarray'>\n",
      "[<matplotlib.axes._subplots.AxesSubplot object at 0x7ff848824c10>\n",
      " <matplotlib.axes._subplots.AxesSubplot object at 0x7ff8a856a390>]\n"
     ]
    },
    {
     "data": {
      "image/png": "[encoded data removed]",
      "text/plain": [
       "<Figure size 432x288 with 2 Axes>"
      ]
     },
     "metadata": {
      "needs_background": "light"
     },
     "output_type": "display_data"
    }
   ],
   "source": [
    "%matplotlib inline\n",
    "figure, axes = plt.subplots(1, 2)\n",
    "print(type(axes), axes, sep='\\n')"
   ]
  },
  {
   "cell_type": "markdown",
   "metadata": {},
   "source": [
    "Notice that the *`axes`* variable now points to a Numpy array filled with **`AxesSubplot`** objects. If we attempt to plot something on the *`axes`* variable itself it will fail because a Numpy array can't plot anything!"
   ]
  },
  {
   "cell_type": "code",
   "execution_count": 16,
   "metadata": {},
   "outputs": [
    {
     "ename": "AttributeError",
     "evalue": "'numpy.ndarray' object has no attribute 'scatter'",
     "output_type": "error",
     "traceback": [
      "\u001b[0;31m---------------------------------------------------------------------------\u001b[0m",
      "\u001b[0;31mAttributeError\u001b[0m                            Traceback (most recent call last)",
      "\u001b[0;32m<ipython-input-16-77c382dd8605>\u001b[0m in \u001b[0;36m<module>\u001b[0;34m\u001b[0m\n\u001b[1;32m      1\u001b[0m \u001b[0mfigure\u001b[0m\u001b[0;34m,\u001b[0m \u001b[0maxes\u001b[0m \u001b[0;34m=\u001b[0m \u001b[0mplt\u001b[0m\u001b[0;34m.\u001b[0m\u001b[0msubplots\u001b[0m\u001b[0;34m(\u001b[0m\u001b[0;36m1\u001b[0m\u001b[0;34m,\u001b[0m \u001b[0;36m2\u001b[0m\u001b[0;34m)\u001b[0m\u001b[0;34m\u001b[0m\u001b[0;34m\u001b[0m\u001b[0m\n\u001b[0;32m----> 2\u001b[0;31m \u001b[0maxes\u001b[0m\u001b[0;34m.\u001b[0m\u001b[0mscatter\u001b[0m\u001b[0;34m(\u001b[0m\u001b[0mnd_football_roster\u001b[0m\u001b[0;34m[\u001b[0m\u001b[0;34m'Height'\u001b[0m\u001b[0;34m]\u001b[0m\u001b[0;34m)\u001b[0m\u001b[0;34m\u001b[0m\u001b[0;34m\u001b[0m\u001b[0m\n\u001b[0m",
      "\u001b[0;31mAttributeError\u001b[0m: 'numpy.ndarray' object has no attribute 'scatter'"
     ]
    },
    {
     "data": {
      "image/png": "[encoded data removed]",
      "text/plain": [
       "<Figure size 432x288 with 2 Axes>"
      ]
     },
     "metadata": {
      "needs_background": "light"
     },
     "output_type": "display_data"
    }
   ],
   "source": [
    "figure, axes = plt.subplots(1, 2)\n",
    "axes.scatter(nd_football_roster['Height'])   \n"
   ]
  },
  {
   "cell_type": "markdown",
   "metadata": {},
   "source": [
    "Instead we have to address the specific **`AxesSubplot`** objects inside of the Numpy array that we want to plot with:"
   ]
  },
  {
   "cell_type": "code",
   "execution_count": 17,
   "metadata": {},
   "outputs": [
    {
     "data": {
      "text/plain": [
       "Text(0.5, 1.0, 'ND Football Player Weights')"
      ]
     },
     "execution_count": 17,
     "metadata": {},
     "output_type": "execute_result"
    },
    {
     "data": {
      "image/png": "[encoded data removed]",
      "text/plain": [
       "<Figure size 432x288 with 2 Axes>"
      ]
     },
     "metadata": {
      "needs_background": "light"
     },
     "output_type": "display_data"
    }
   ],
   "source": [
    "figure, axes = plt.subplots(1, 2)\n",
    "\n",
    "axes[0].scatter(\n",
    "    nd_football_roster.index, nd_football_roster['Height'])\n",
    "axes[0].set_title('ND Football Player Heights')\n",
    "\n",
    "\n",
    "axes[1].scatter(\n",
    "    nd_football_roster.index, nd_football_roster['Weight'])\n",
    "axes[1].set_title('ND Football Player Weights')"
   ]
  },
  {
   "cell_type": "markdown",
   "metadata": {},
   "source": [
    "A potentially confusing case arises when you create a grid with multiple rows as this results in a 2 dimensional Numpy array being returned from the *`plt.subplots()`* method.\n",
    "\n",
    "When you have this condition, you have to specify both the row and column indices of the *`AxesSubplot`* objects you want to plot with.\n",
    "\n",
    "In the following example, I will only plot on the top-left and bottom-right subplots to demonstrate."
   ]
  },
  {
   "cell_type": "code",
   "execution_count": 18,
   "metadata": {},
   "outputs": [
    {
     "data": {
      "text/plain": [
       "<matplotlib.collections.PathCollection at 0x7ff8585dc1d0>"
      ]
     },
     "execution_count": 18,
     "metadata": {},
     "output_type": "execute_result"
    },
    {
     "data": {
      "image/png": "[encoded data removed]",
      "text/plain": [
       "<Figure size 432x288 with 4 Axes>"
      ]
     },
     "metadata": {
      "needs_background": "light"
     },
     "output_type": "display_data"
    }
   ],
   "source": [
    "figure, axes = plt.subplots(2, 2)\n",
    "axes[0, 0].scatter(\n",
    "    nd_football_roster.index, nd_football_roster['Height'])\n",
    "\n",
    "axes[1, 1].scatter(\n",
    "    nd_football_roster.index, nd_football_roster['Weight'])"
   ]
  },
  {
   "cell_type": "markdown",
   "metadata": {},
   "source": [
    "### Sharing X/Y Axis between Subplots\n",
    "In our examples above, each subplot is given a separate x and y axis. This can become somewhat cluttered as you can see.\n",
    "\n",
    "The *`plt.subplots()`* method gives use the ability to share x/y axis between multiple subplots via the `sharex` and `sharey` arguments.\n",
    "\n",
    "Let's show how we might use this with some Seattle weather subplots."
   ]
  },
  {
   "cell_type": "code",
   "execution_count": 19,
   "metadata": {},
   "outputs": [
    {
     "data": {
      "text/plain": [
       "<matplotlib.collections.PathCollection at 0x7ff869c193d0>"
      ]
     },
     "execution_count": 19,
     "metadata": {},
     "output_type": "execute_result"
    },
    {
     "data": {
      "image/png": "[encoded data removed]",
      "text/plain": [
       "<Figure size 432x288 with 2 Axes>"
      ]
     },
     "metadata": {
      "needs_background": "light"
     },
     "output_type": "display_data"
    }
   ],
   "source": [
    "# Here we'll generate two plots\n",
    "# The low/high temps for Seattle\n",
    "figure, axes = plt.subplots(1, 2)\n",
    "\n",
    "axes[0].scatter(seattle_weather_2015_2016.index, \n",
    "             seattle_weather_2015_2016['low_temp'], \n",
    "             c=seattle_weather_2015_2016['low_temp'], \n",
    "             cmap='PuBu')\n",
    "\n",
    "axes[1].scatter(seattle_weather_2015_2016.index, \n",
    "             seattle_weather_2015_2016['high_temp'],\n",
    "             c=seattle_weather_2015_2016['high_temp'], \n",
    "             cmap='YlOrRd')"
   ]
  },
  {
   "cell_type": "markdown",
   "metadata": {},
   "source": [
    "Each of the subplots has been given its own x-axis and y-axis. Let's specify that they should share their y-axis and see how that changes the appearance of our figure:"
   ]
  },
  {
   "cell_type": "code",
   "execution_count": 20,
   "metadata": {},
   "outputs": [
    {
     "data": {
      "text/plain": [
       "<matplotlib.collections.PathCollection at 0x7ff8a8598510>"
      ]
     },
     "execution_count": 20,
     "metadata": {},
     "output_type": "execute_result"
    },
    {
     "data": {
      "image/png": "[encoded data removed]",
      "text/plain": [
       "<Figure size 432x288 with 2 Axes>"
      ]
     },
     "metadata": {
      "needs_background": "light"
     },
     "output_type": "display_data"
    }
   ],
   "source": [
    "figure, axes = plt.subplots(1, 2, sharey=True)\n",
    "\n",
    "axes[0].scatter(seattle_weather_2015_2016.index, \n",
    "             seattle_weather_2015_2016['low_temp'], \n",
    "             c=seattle_weather_2015_2016['low_temp'], \n",
    "             cmap='PuBu')\n",
    "\n",
    "axes[1].scatter(seattle_weather_2015_2016.index, \n",
    "             seattle_weather_2015_2016['high_temp'],\n",
    "             c=seattle_weather_2015_2016['high_temp'], \n",
    "             cmap='YlOrRd')"
   ]
  },
  {
   "cell_type": "markdown",
   "metadata": {},
   "source": [
    "Very nice. You can see now that there is a single y-axis that is shared between the two subplots. Matplotlib automatically expands the values in the axis to the range necessary to cover the two subplots.\n",
    "\n",
    "Doing this not only reduced the complexity of the two plots, but also visually aligned the data so that the low temperatures appear lower than the high temperatures."
   ]
  },
  {
   "cell_type": "markdown",
   "metadata": {},
   "source": [
    "## Activity: Four Subplots\n",
    "\n",
    "We will use flight_sample.csv for this activity\n",
    "\n",
    "* Use subplots to plot the following 4 (2x2) plots in a single figure\n",
    "\n",
    "    * Plot the histogram of the DISTANCE travelled by all the flights\n",
    "    * Plot the histogram of the DISTANCE travelled by **only** UA flights\n",
    "    * Plot the histogram of the DISTANCE travelled by **only** HA flights\n",
    "    * Plot the histogram of the DISTANCE travelled by **only** B6 flights\n",
    "    * Add Title to each plot\n",
    "* Does it make sense to share any axis (sharex or sharey) in this case? "
   ]
  },
  {
   "cell_type": "code",
   "execution_count": 28,
   "metadata": {},
   "outputs": [],
   "source": [
    "ua_dist  = flights[ flights['AIRLINE'] == 'UA']['DISTANCE']\n",
    "ha_dist  = flights[ flights['AIRLINE'] == 'HA']['DISTANCE']\n",
    "b6_dist  = flights[ flights['AIRLINE'] == 'B6']['DISTANCE']\n",
    "all_dist = flights['DISTANCE']\n"
   ]
  },
  {
   "cell_type": "code",
   "execution_count": 46,
   "metadata": {},
   "outputs": [
    {
     "data": {
      "text/plain": [
       "Text(0.5, 1.0, 'Jet Blue')"
      ]
     },
     "execution_count": 46,
     "metadata": {},
     "output_type": "execute_result"
    },
    {
     "data": {
      "image/png": "[encoded data removed]",
      "text/plain": [
       "<Figure size 432x288 with 4 Axes>"
      ]
     },
     "metadata": {
      "needs_background": "light"
     },
     "output_type": "display_data"
    }
   ],
   "source": [
    "# I chose just to sharex because the distance is important to compare\n",
    "# and the y axis is fine being relative to each airline\n",
    "fig,ax = plt.subplots(2,2, sharex=True)\n",
    "all_ax = ax[0,0]\n",
    "all_ax.hist(ua_dist)\n",
    "all_ax.set_title(\"All Airlines\")\n",
    "all_ax.set_xlabel(\"Distance\")\n",
    "# all_ax.margins(10)\n",
    "fig.subplots_adjust(hspace=.5)\n",
    "\n",
    "ax[0,1].hist(ua_dist)\n",
    "ax[0,1].set_title(\"United\")\n",
    "\n",
    "ax[1,0].hist(ha_dist)\n",
    "ax[1,0].set_title(\"Hawaiian\")\n",
    "\n",
    "ax[1,1].hist(b6_dist)\n",
    "ax[1,1].set_title(\"Jet Blue\")"
   ]
  }
 ],
 "metadata": {
  "kernelspec": {
   "display_name": "Python 3",
   "language": "python",
   "name": "python3"
  },
  "language_info": {
   "codemirror_mode": {
    "name": "ipython",
    "version": 3
   },
   "file_extension": ".py",
   "mimetype": "text/x-python",
   "name": "python",
   "nbconvert_exporter": "python",
   "pygments_lexer": "ipython3",
   "version": "3.7.4"
  }
 },
 "nbformat": 4,
 "nbformat_minor": 2
}
