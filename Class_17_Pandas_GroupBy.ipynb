{
 "cells": [
  {
   "cell_type": "code",
   "execution_count": 1,
   "metadata": {},
   "outputs": [],
   "source": [
    "import pandas as pd\n",
    "import numpy as np"
   ]
  },
  {
   "cell_type": "markdown",
   "metadata": {},
   "source": [
    "## Review MultiIndex and Summary Statistics\n",
    "\n",
    "1. Last class we discussed multiindex and `describe()` method for computing summary statistics of a `DataFrame`. \n",
    "2. Strongly recommend to review the material for understanding the following topics. "
   ]
  },
  {
   "cell_type": "markdown",
   "metadata": {},
   "source": [
    "# Pandas Aggregation\n"
   ]
  },
  {
   "cell_type": "code",
   "execution_count": null,
   "metadata": {},
   "outputs": [],
   "source": [
    "# We'll be using our college scorecard dataset in this tutorial.\n",
    "college_scorecard = pd.read_csv(\n",
    "    './data/college-scorecard-data-scrubbed.csv', \n",
    "    encoding='latin-1')"
   ]
  },
  {
   "cell_type": "markdown",
   "metadata": {},
   "source": [
    "### The `describe()` method\n",
    "The `describe()` method is available on both **`Series`** and **`DataFrame`** objects and outputs a variety of aggregations that are very useful in getting the general \"sense\" of a dataset.\n"
   ]
  },
  {
   "cell_type": "code",
   "execution_count": null,
   "metadata": {
    "scrolled": true
   },
   "outputs": [],
   "source": [
    "# You can specify **`include='all'`** to force Pandas\n",
    "# to evaluate all columns.  It will inject NaN where\n",
    "# a calculation cannot be done.\n",
    "college_scorecard.describe()\n",
    "college_scorecard.describe(include='all')"
   ]
  },
  {
   "cell_type": "markdown",
   "metadata": {},
   "source": [
    "## Airline Data"
   ]
  },
  {
   "cell_type": "markdown",
   "metadata": {},
   "source": [
    "We will using a sample dataset of the flight schedules data that is available on Kaggle [here](https://www.kaggle.com/usdot/flight-delays)\n",
    "\n",
    "This is only a sample of the original data. You will use the original data in your Group Project!"
   ]
  },
  {
   "cell_type": "code",
   "execution_count": 2,
   "metadata": {},
   "outputs": [
    {
     "data": {
      "text/html": [
       "<div>\n",
       "<style scoped>\n",
       "    .dataframe tbody tr th:only-of-type {\n",
       "        vertical-align: middle;\n",
       "    }\n",
       "\n",
       "    .dataframe tbody tr th {\n",
       "        vertical-align: top;\n",
       "    }\n",
       "\n",
       "    .dataframe thead th {\n",
       "        text-align: right;\n",
       "    }\n",
       "</style>\n",
       "<table border=\"1\" class=\"dataframe\">\n",
       "  <thead>\n",
       "    <tr style=\"text-align: right;\">\n",
       "      <th></th>\n",
       "      <th>YEAR</th>\n",
       "      <th>MONTH</th>\n",
       "      <th>DAY</th>\n",
       "      <th>DAY_OF_WEEK</th>\n",
       "      <th>AIRLINE</th>\n",
       "      <th>FLIGHT_NUMBER</th>\n",
       "      <th>TAXI_IN</th>\n",
       "      <th>TAXI_OUT</th>\n",
       "      <th>DISTANCE</th>\n",
       "    </tr>\n",
       "  </thead>\n",
       "  <tbody>\n",
       "    <tr>\n",
       "      <td>7408</td>\n",
       "      <td>2015</td>\n",
       "      <td>1</td>\n",
       "      <td>14</td>\n",
       "      <td>3</td>\n",
       "      <td>WN</td>\n",
       "      <td>2771</td>\n",
       "      <td>5.0</td>\n",
       "      <td>6.0</td>\n",
       "      <td>405</td>\n",
       "    </tr>\n",
       "    <tr>\n",
       "      <td>5110</td>\n",
       "      <td>2015</td>\n",
       "      <td>1</td>\n",
       "      <td>3</td>\n",
       "      <td>6</td>\n",
       "      <td>OO</td>\n",
       "      <td>5482</td>\n",
       "      <td>13.0</td>\n",
       "      <td>11.0</td>\n",
       "      <td>916</td>\n",
       "    </tr>\n",
       "    <tr>\n",
       "      <td>3533</td>\n",
       "      <td>2015</td>\n",
       "      <td>8</td>\n",
       "      <td>20</td>\n",
       "      <td>4</td>\n",
       "      <td>VX</td>\n",
       "      <td>353</td>\n",
       "      <td>6.0</td>\n",
       "      <td>13.0</td>\n",
       "      <td>2704</td>\n",
       "    </tr>\n",
       "    <tr>\n",
       "      <td>3761</td>\n",
       "      <td>2015</td>\n",
       "      <td>5</td>\n",
       "      <td>16</td>\n",
       "      <td>6</td>\n",
       "      <td>DL</td>\n",
       "      <td>2160</td>\n",
       "      <td>9.0</td>\n",
       "      <td>17.0</td>\n",
       "      <td>594</td>\n",
       "    </tr>\n",
       "    <tr>\n",
       "      <td>407</td>\n",
       "      <td>2015</td>\n",
       "      <td>7</td>\n",
       "      <td>13</td>\n",
       "      <td>1</td>\n",
       "      <td>OO</td>\n",
       "      <td>4971</td>\n",
       "      <td>9.0</td>\n",
       "      <td>14.0</td>\n",
       "      <td>744</td>\n",
       "    </tr>\n",
       "    <tr>\n",
       "      <td>7142</td>\n",
       "      <td>2015</td>\n",
       "      <td>3</td>\n",
       "      <td>9</td>\n",
       "      <td>1</td>\n",
       "      <td>OO</td>\n",
       "      <td>7414</td>\n",
       "      <td>7.0</td>\n",
       "      <td>27.0</td>\n",
       "      <td>67</td>\n",
       "    </tr>\n",
       "    <tr>\n",
       "      <td>2629</td>\n",
       "      <td>2015</td>\n",
       "      <td>5</td>\n",
       "      <td>24</td>\n",
       "      <td>7</td>\n",
       "      <td>HA</td>\n",
       "      <td>118</td>\n",
       "      <td>4.0</td>\n",
       "      <td>8.0</td>\n",
       "      <td>163</td>\n",
       "    </tr>\n",
       "    <tr>\n",
       "      <td>6658</td>\n",
       "      <td>2015</td>\n",
       "      <td>11</td>\n",
       "      <td>8</td>\n",
       "      <td>7</td>\n",
       "      <td>DL</td>\n",
       "      <td>807</td>\n",
       "      <td>6.0</td>\n",
       "      <td>12.0</td>\n",
       "      <td>746</td>\n",
       "    </tr>\n",
       "    <tr>\n",
       "      <td>554</td>\n",
       "      <td>2015</td>\n",
       "      <td>8</td>\n",
       "      <td>30</td>\n",
       "      <td>7</td>\n",
       "      <td>EV</td>\n",
       "      <td>4986</td>\n",
       "      <td>4.0</td>\n",
       "      <td>16.0</td>\n",
       "      <td>780</td>\n",
       "    </tr>\n",
       "    <tr>\n",
       "      <td>155</td>\n",
       "      <td>2015</td>\n",
       "      <td>1</td>\n",
       "      <td>2</td>\n",
       "      <td>5</td>\n",
       "      <td>MQ</td>\n",
       "      <td>2860</td>\n",
       "      <td>7.0</td>\n",
       "      <td>22.0</td>\n",
       "      <td>158</td>\n",
       "    </tr>\n",
       "  </tbody>\n",
       "</table>\n",
       "</div>"
      ],
      "text/plain": [
       "      YEAR  MONTH  DAY  DAY_OF_WEEK AIRLINE  FLIGHT_NUMBER  TAXI_IN  TAXI_OUT  \\\n",
       "7408  2015      1   14            3      WN           2771      5.0       6.0   \n",
       "5110  2015      1    3            6      OO           5482     13.0      11.0   \n",
       "3533  2015      8   20            4      VX            353      6.0      13.0   \n",
       "3761  2015      5   16            6      DL           2160      9.0      17.0   \n",
       "407   2015      7   13            1      OO           4971      9.0      14.0   \n",
       "7142  2015      3    9            1      OO           7414      7.0      27.0   \n",
       "2629  2015      5   24            7      HA            118      4.0       8.0   \n",
       "6658  2015     11    8            7      DL            807      6.0      12.0   \n",
       "554   2015      8   30            7      EV           4986      4.0      16.0   \n",
       "155   2015      1    2            5      MQ           2860      7.0      22.0   \n",
       "\n",
       "      DISTANCE  \n",
       "7408       405  \n",
       "5110       916  \n",
       "3533      2704  \n",
       "3761       594  \n",
       "407        744  \n",
       "7142        67  \n",
       "2629       163  \n",
       "6658       746  \n",
       "554        780  \n",
       "155        158  "
      ]
     },
     "execution_count": 2,
     "metadata": {},
     "output_type": "execute_result"
    }
   ],
   "source": [
    "flights = pd.read_csv('./data/flight_sample.csv')\n",
    "flights.sample(10)\n",
    "# flights.describe(include=\"all\")"
   ]
  },
  {
   "cell_type": "markdown",
   "metadata": {},
   "source": [
    "## Activity\n",
    "\n",
    "\n",
    "### Selection Without using GroupBy\n",
    "\n",
    "**NOTE**: The following three questions does not involve any `groupby`\n",
    "\n",
    "1. Returning to the `flights` dataframe, extract only the flight details of the American Airlines (AA) using a mask. \n",
    "2. What is the median DISTANCE, TAXI_IN times and TAXI_OUT times? \n",
    "3. How about median DISTANCE, TAXI_IN and TAXI_OUT times for United Airlines (UA)? \n"
   ]
  },
  {
   "cell_type": "code",
   "execution_count": null,
   "metadata": {},
   "outputs": [],
   "source": [
    "# Question 1\n",
    "aa_flights = flights[ flights['AIRLINE'] == 'AA']\n",
    "# aa_flights"
   ]
  },
  {
   "cell_type": "code",
   "execution_count": null,
   "metadata": {},
   "outputs": [],
   "source": [
    "# Question 2\n",
    "print(aa_flights['DISTANCE'].median())\n",
    "print(aa_flights['TAXI_IN'].median())\n",
    "print(aa_flights['TAXI_OUT'].median())"
   ]
  },
  {
   "cell_type": "code",
   "execution_count": null,
   "metadata": {},
   "outputs": [],
   "source": [
    "aa_flights[['DISTANCE','TAXI_OUT','TAXI_OUT']].median()"
   ]
  },
  {
   "cell_type": "code",
   "execution_count": null,
   "metadata": {},
   "outputs": [],
   "source": [
    "# Question 3\n",
    "ua_flights = flights[ flights['AIRLINE'] == 'UA']\n",
    "print(ua_flights['DISTANCE'].median())\n",
    "print(ua_flights['TAXI_IN'].median())\n",
    "print(ua_flights['TAXI_OUT'].median())"
   ]
  },
  {
   "cell_type": "markdown",
   "metadata": {},
   "source": [
    "# Pandas Grouping"
   ]
  },
  {
   "cell_type": "markdown",
   "metadata": {},
   "source": [
    "## The `groupby()` Method\n",
    "\n",
    "So far, all the calculations that we've done on **`DataFrame`** objects have looked at the values of columns as a whole.\n",
    "\n",
    "The `groupby()` method allows you to move into deeper forms analysis by splitting up the rows of a dataset into groups by the values in specified row(s). You can think of this in some ways as putting rows into buckets for evaluation."
   ]
  },
  {
   "cell_type": "markdown",
   "metadata": {},
   "source": [
    "### Specifying how to Split your Dataset into Groups\n",
    "Of course, before we can perform evaluations on groups, we have to create them from an existing dataframe. \n",
    "\n",
    "Let's explore how **`groupby()`** provides a variety of ways to split up your datasets. We'll explore some of these here, starting with the most simple."
   ]
  },
  {
   "cell_type": "markdown",
   "metadata": {},
   "source": [
    "#### Single Column Grouping"
   ]
  },
  {
   "cell_type": "code",
   "execution_count": null,
   "metadata": {},
   "outputs": [],
   "source": [
    "flights_by_airline = flights.groupby(['AIRLINE'])\n",
    "print(flights_by_airline.groups)\n",
    "flights_by_airline.head()"
   ]
  },
  {
   "cell_type": "markdown",
   "metadata": {},
   "source": [
    "The **`groupby()`** method returns an type called **`DataFrameGroupBy`**. We will explore it in more depth shortly, but for now just know that it has an attribute called **`groups`** which provides a *`dict`* object with the **labels** of each group and the **corresponding index values** in the original dataframe that belong to that group.\n",
    "\n",
    "If you look above, you can see there is a group labelled 'AA' will index values [2,   19,   43,   55,   59,   64,   71,   74,   82,   92, ...].\n",
    "\n",
    "You can think of this as a record of all the groups that we will perform calculations on later."
   ]
  },
  {
   "cell_type": "markdown",
   "metadata": {},
   "source": [
    "#### Multi Column Grouping\n",
    "\n",
    "You can specify multiple columns if you wish to split your data up in multiple levels:"
   ]
  },
  {
   "cell_type": "code",
   "execution_count": null,
   "metadata": {},
   "outputs": [],
   "source": [
    "flights_by_airline_month = flights.groupby(['AIRLINE', 'MONTH'])\n",
    "flights_by_airline_month.groups"
   ]
  },
  {
   "cell_type": "markdown",
   "metadata": {},
   "source": [
    "### Aggregations after GroupBy\n",
    "\n",
    "For example, let us say you want to find out the average distance traveled by each airline, you can do that using the following aggregeate function"
   ]
  },
  {
   "cell_type": "code",
   "execution_count": 3,
   "metadata": {},
   "outputs": [
    {
     "data": {
      "text/html": [
       "<div>\n",
       "<style scoped>\n",
       "    .dataframe tbody tr th:only-of-type {\n",
       "        vertical-align: middle;\n",
       "    }\n",
       "\n",
       "    .dataframe tbody tr th {\n",
       "        vertical-align: top;\n",
       "    }\n",
       "\n",
       "    .dataframe thead th {\n",
       "        text-align: right;\n",
       "    }\n",
       "</style>\n",
       "<table border=\"1\" class=\"dataframe\">\n",
       "  <thead>\n",
       "    <tr style=\"text-align: right;\">\n",
       "      <th></th>\n",
       "      <th>YEAR</th>\n",
       "      <th>MONTH</th>\n",
       "      <th>DAY</th>\n",
       "      <th>DAY_OF_WEEK</th>\n",
       "      <th>AIRLINE</th>\n",
       "      <th>FLIGHT_NUMBER</th>\n",
       "      <th>TAXI_IN</th>\n",
       "      <th>TAXI_OUT</th>\n",
       "      <th>DISTANCE</th>\n",
       "    </tr>\n",
       "  </thead>\n",
       "  <tbody>\n",
       "    <tr>\n",
       "      <td>0</td>\n",
       "      <td>2015</td>\n",
       "      <td>8</td>\n",
       "      <td>19</td>\n",
       "      <td>3</td>\n",
       "      <td>EV</td>\n",
       "      <td>3260</td>\n",
       "      <td>7.0</td>\n",
       "      <td>20.0</td>\n",
       "      <td>1091</td>\n",
       "    </tr>\n",
       "    <tr>\n",
       "      <td>1</td>\n",
       "      <td>2015</td>\n",
       "      <td>9</td>\n",
       "      <td>23</td>\n",
       "      <td>3</td>\n",
       "      <td>WN</td>\n",
       "      <td>3050</td>\n",
       "      <td>4.0</td>\n",
       "      <td>9.0</td>\n",
       "      <td>837</td>\n",
       "    </tr>\n",
       "    <tr>\n",
       "      <td>2</td>\n",
       "      <td>2015</td>\n",
       "      <td>10</td>\n",
       "      <td>16</td>\n",
       "      <td>5</td>\n",
       "      <td>AA</td>\n",
       "      <td>1382</td>\n",
       "      <td>13.0</td>\n",
       "      <td>25.0</td>\n",
       "      <td>761</td>\n",
       "    </tr>\n",
       "    <tr>\n",
       "      <td>3</td>\n",
       "      <td>2015</td>\n",
       "      <td>1</td>\n",
       "      <td>19</td>\n",
       "      <td>1</td>\n",
       "      <td>WN</td>\n",
       "      <td>4274</td>\n",
       "      <td>5.0</td>\n",
       "      <td>23.0</td>\n",
       "      <td>1547</td>\n",
       "    </tr>\n",
       "    <tr>\n",
       "      <td>4</td>\n",
       "      <td>2015</td>\n",
       "      <td>4</td>\n",
       "      <td>22</td>\n",
       "      <td>3</td>\n",
       "      <td>WN</td>\n",
       "      <td>2237</td>\n",
       "      <td>5.0</td>\n",
       "      <td>18.0</td>\n",
       "      <td>872</td>\n",
       "    </tr>\n",
       "  </tbody>\n",
       "</table>\n",
       "</div>"
      ],
      "text/plain": [
       "   YEAR  MONTH  DAY  DAY_OF_WEEK AIRLINE  FLIGHT_NUMBER  TAXI_IN  TAXI_OUT  \\\n",
       "0  2015      8   19            3      EV           3260      7.0      20.0   \n",
       "1  2015      9   23            3      WN           3050      4.0       9.0   \n",
       "2  2015     10   16            5      AA           1382     13.0      25.0   \n",
       "3  2015      1   19            1      WN           4274      5.0      23.0   \n",
       "4  2015      4   22            3      WN           2237      5.0      18.0   \n",
       "\n",
       "   DISTANCE  \n",
       "0      1091  \n",
       "1       837  \n",
       "2       761  \n",
       "3      1547  \n",
       "4       872  "
      ]
     },
     "execution_count": 3,
     "metadata": {},
     "output_type": "execute_result"
    }
   ],
   "source": [
    "flights.head()"
   ]
  },
  {
   "cell_type": "code",
   "execution_count": 4,
   "metadata": {},
   "outputs": [],
   "source": [
    "flights_by_airline = flights.groupby(['AIRLINE'])"
   ]
  },
  {
   "cell_type": "code",
   "execution_count": 5,
   "metadata": {},
   "outputs": [
    {
     "data": {
      "text/html": [
       "<div>\n",
       "<style scoped>\n",
       "    .dataframe tbody tr th:only-of-type {\n",
       "        vertical-align: middle;\n",
       "    }\n",
       "\n",
       "    .dataframe tbody tr th {\n",
       "        vertical-align: top;\n",
       "    }\n",
       "\n",
       "    .dataframe thead th {\n",
       "        text-align: right;\n",
       "    }\n",
       "</style>\n",
       "<table border=\"1\" class=\"dataframe\">\n",
       "  <thead>\n",
       "    <tr style=\"text-align: right;\">\n",
       "      <th></th>\n",
       "      <th>YEAR</th>\n",
       "      <th>MONTH</th>\n",
       "      <th>DAY</th>\n",
       "      <th>DAY_OF_WEEK</th>\n",
       "      <th>FLIGHT_NUMBER</th>\n",
       "      <th>TAXI_IN</th>\n",
       "      <th>TAXI_OUT</th>\n",
       "      <th>DISTANCE</th>\n",
       "    </tr>\n",
       "    <tr>\n",
       "      <th>AIRLINE</th>\n",
       "      <th></th>\n",
       "      <th></th>\n",
       "      <th></th>\n",
       "      <th></th>\n",
       "      <th></th>\n",
       "      <th></th>\n",
       "      <th></th>\n",
       "      <th></th>\n",
       "    </tr>\n",
       "  </thead>\n",
       "  <tbody>\n",
       "    <tr>\n",
       "      <td>AA</td>\n",
       "      <td>2015.0</td>\n",
       "      <td>7.097862</td>\n",
       "      <td>16.024671</td>\n",
       "      <td>4.055921</td>\n",
       "      <td>1266.090461</td>\n",
       "      <td>9.092593</td>\n",
       "      <td>17.785354</td>\n",
       "      <td>1053.736842</td>\n",
       "    </tr>\n",
       "    <tr>\n",
       "      <td>AS</td>\n",
       "      <td>2015.0</td>\n",
       "      <td>6.565916</td>\n",
       "      <td>15.356913</td>\n",
       "      <td>3.996785</td>\n",
       "      <td>386.385852</td>\n",
       "      <td>6.443730</td>\n",
       "      <td>15.073955</td>\n",
       "      <td>1202.405145</td>\n",
       "    </tr>\n",
       "    <tr>\n",
       "      <td>B6</td>\n",
       "      <td>2015.0</td>\n",
       "      <td>6.653333</td>\n",
       "      <td>15.771111</td>\n",
       "      <td>3.893333</td>\n",
       "      <td>905.420000</td>\n",
       "      <td>5.966216</td>\n",
       "      <td>18.231982</td>\n",
       "      <td>1064.124444</td>\n",
       "    </tr>\n",
       "    <tr>\n",
       "      <td>DL</td>\n",
       "      <td>2015.0</td>\n",
       "      <td>6.551383</td>\n",
       "      <td>15.486825</td>\n",
       "      <td>3.887352</td>\n",
       "      <td>1631.198287</td>\n",
       "      <td>7.279392</td>\n",
       "      <td>17.189564</td>\n",
       "      <td>862.416996</td>\n",
       "    </tr>\n",
       "    <tr>\n",
       "      <td>EV</td>\n",
       "      <td>2015.0</td>\n",
       "      <td>6.408591</td>\n",
       "      <td>15.355644</td>\n",
       "      <td>3.851149</td>\n",
       "      <td>4742.821179</td>\n",
       "      <td>7.700409</td>\n",
       "      <td>16.813456</td>\n",
       "      <td>466.038961</td>\n",
       "    </tr>\n",
       "    <tr>\n",
       "      <td>F9</td>\n",
       "      <td>2015.0</td>\n",
       "      <td>7.181818</td>\n",
       "      <td>15.762238</td>\n",
       "      <td>3.790210</td>\n",
       "      <td>775.594406</td>\n",
       "      <td>10.188811</td>\n",
       "      <td>16.335664</td>\n",
       "      <td>1034.223776</td>\n",
       "    </tr>\n",
       "    <tr>\n",
       "      <td>HA</td>\n",
       "      <td>2015.0</td>\n",
       "      <td>6.239669</td>\n",
       "      <td>16.140496</td>\n",
       "      <td>3.809917</td>\n",
       "      <td>209.578512</td>\n",
       "      <td>7.214876</td>\n",
       "      <td>11.115702</td>\n",
       "      <td>789.768595</td>\n",
       "    </tr>\n",
       "    <tr>\n",
       "      <td>MQ</td>\n",
       "      <td>2015.0</td>\n",
       "      <td>6.247059</td>\n",
       "      <td>14.858824</td>\n",
       "      <td>3.917647</td>\n",
       "      <td>3304.494118</td>\n",
       "      <td>8.512397</td>\n",
       "      <td>16.628099</td>\n",
       "      <td>433.701961</td>\n",
       "    </tr>\n",
       "    <tr>\n",
       "      <td>NK</td>\n",
       "      <td>2015.0</td>\n",
       "      <td>6.706161</td>\n",
       "      <td>15.938389</td>\n",
       "      <td>3.976303</td>\n",
       "      <td>534.971564</td>\n",
       "      <td>8.908213</td>\n",
       "      <td>14.318841</td>\n",
       "      <td>993.298578</td>\n",
       "    </tr>\n",
       "    <tr>\n",
       "      <td>OO</td>\n",
       "      <td>2015.0</td>\n",
       "      <td>6.347614</td>\n",
       "      <td>16.034080</td>\n",
       "      <td>3.938656</td>\n",
       "      <td>5193.527751</td>\n",
       "      <td>6.725919</td>\n",
       "      <td>17.864945</td>\n",
       "      <td>516.424537</td>\n",
       "    </tr>\n",
       "  </tbody>\n",
       "</table>\n",
       "</div>"
      ],
      "text/plain": [
       "           YEAR     MONTH        DAY  DAY_OF_WEEK  FLIGHT_NUMBER    TAXI_IN  \\\n",
       "AIRLINE                                                                       \n",
       "AA       2015.0  7.097862  16.024671     4.055921    1266.090461   9.092593   \n",
       "AS       2015.0  6.565916  15.356913     3.996785     386.385852   6.443730   \n",
       "B6       2015.0  6.653333  15.771111     3.893333     905.420000   5.966216   \n",
       "DL       2015.0  6.551383  15.486825     3.887352    1631.198287   7.279392   \n",
       "EV       2015.0  6.408591  15.355644     3.851149    4742.821179   7.700409   \n",
       "F9       2015.0  7.181818  15.762238     3.790210     775.594406  10.188811   \n",
       "HA       2015.0  6.239669  16.140496     3.809917     209.578512   7.214876   \n",
       "MQ       2015.0  6.247059  14.858824     3.917647    3304.494118   8.512397   \n",
       "NK       2015.0  6.706161  15.938389     3.976303     534.971564   8.908213   \n",
       "OO       2015.0  6.347614  16.034080     3.938656    5193.527751   6.725919   \n",
       "\n",
       "          TAXI_OUT     DISTANCE  \n",
       "AIRLINE                          \n",
       "AA       17.785354  1053.736842  \n",
       "AS       15.073955  1202.405145  \n",
       "B6       18.231982  1064.124444  \n",
       "DL       17.189564   862.416996  \n",
       "EV       16.813456   466.038961  \n",
       "F9       16.335664  1034.223776  \n",
       "HA       11.115702   789.768595  \n",
       "MQ       16.628099   433.701961  \n",
       "NK       14.318841   993.298578  \n",
       "OO       17.864945   516.424537  "
      ]
     },
     "execution_count": 5,
     "metadata": {},
     "output_type": "execute_result"
    }
   ],
   "source": [
    "flights_by_airline.mean()[:10]"
   ]
  },
  {
   "cell_type": "code",
   "execution_count": 12,
   "metadata": {},
   "outputs": [],
   "source": [
    "avg_by_airline = flights_by_airline[['DISTANCE', 'TAXI_OUT', 'TAXI_IN']].mean()"
   ]
  },
  {
   "cell_type": "markdown",
   "metadata": {},
   "source": [
    "**NOTE**: The double [[ ]] for computing the summary stististics. The first pair [] is used to look into the `DataFrameGroupyBy` object the second pair [] is used to list all the columns you want to produce the summary statistics. "
   ]
  },
  {
   "cell_type": "code",
   "execution_count": 13,
   "metadata": {},
   "outputs": [
    {
     "data": {
      "text/html": [
       "<div>\n",
       "<style scoped>\n",
       "    .dataframe tbody tr th:only-of-type {\n",
       "        vertical-align: middle;\n",
       "    }\n",
       "\n",
       "    .dataframe tbody tr th {\n",
       "        vertical-align: top;\n",
       "    }\n",
       "\n",
       "    .dataframe thead th {\n",
       "        text-align: right;\n",
       "    }\n",
       "</style>\n",
       "<table border=\"1\" class=\"dataframe\">\n",
       "  <thead>\n",
       "    <tr style=\"text-align: right;\">\n",
       "      <th></th>\n",
       "      <th>DISTANCE</th>\n",
       "      <th>TAXI_OUT</th>\n",
       "      <th>TAXI_IN</th>\n",
       "    </tr>\n",
       "    <tr>\n",
       "      <th>AIRLINE</th>\n",
       "      <th></th>\n",
       "      <th></th>\n",
       "      <th></th>\n",
       "    </tr>\n",
       "  </thead>\n",
       "  <tbody>\n",
       "    <tr>\n",
       "      <td>AA</td>\n",
       "      <td>1053.736842</td>\n",
       "      <td>17.785354</td>\n",
       "      <td>9.092593</td>\n",
       "    </tr>\n",
       "    <tr>\n",
       "      <td>AS</td>\n",
       "      <td>1202.405145</td>\n",
       "      <td>15.073955</td>\n",
       "      <td>6.443730</td>\n",
       "    </tr>\n",
       "    <tr>\n",
       "      <td>B6</td>\n",
       "      <td>1064.124444</td>\n",
       "      <td>18.231982</td>\n",
       "      <td>5.966216</td>\n",
       "    </tr>\n",
       "    <tr>\n",
       "      <td>DL</td>\n",
       "      <td>862.416996</td>\n",
       "      <td>17.189564</td>\n",
       "      <td>7.279392</td>\n",
       "    </tr>\n",
       "    <tr>\n",
       "      <td>EV</td>\n",
       "      <td>466.038961</td>\n",
       "      <td>16.813456</td>\n",
       "      <td>7.700409</td>\n",
       "    </tr>\n",
       "    <tr>\n",
       "      <td>F9</td>\n",
       "      <td>1034.223776</td>\n",
       "      <td>16.335664</td>\n",
       "      <td>10.188811</td>\n",
       "    </tr>\n",
       "    <tr>\n",
       "      <td>HA</td>\n",
       "      <td>789.768595</td>\n",
       "      <td>11.115702</td>\n",
       "      <td>7.214876</td>\n",
       "    </tr>\n",
       "    <tr>\n",
       "      <td>MQ</td>\n",
       "      <td>433.701961</td>\n",
       "      <td>16.628099</td>\n",
       "      <td>8.512397</td>\n",
       "    </tr>\n",
       "    <tr>\n",
       "      <td>NK</td>\n",
       "      <td>993.298578</td>\n",
       "      <td>14.318841</td>\n",
       "      <td>8.908213</td>\n",
       "    </tr>\n",
       "    <tr>\n",
       "      <td>OO</td>\n",
       "      <td>516.424537</td>\n",
       "      <td>17.864945</td>\n",
       "      <td>6.725919</td>\n",
       "    </tr>\n",
       "    <tr>\n",
       "      <td>UA</td>\n",
       "      <td>1243.796421</td>\n",
       "      <td>16.754545</td>\n",
       "      <td>8.638225</td>\n",
       "    </tr>\n",
       "    <tr>\n",
       "      <td>US</td>\n",
       "      <td>952.810000</td>\n",
       "      <td>18.600000</td>\n",
       "      <td>7.872414</td>\n",
       "    </tr>\n",
       "    <tr>\n",
       "      <td>VX</td>\n",
       "      <td>1418.900000</td>\n",
       "      <td>14.917431</td>\n",
       "      <td>7.587156</td>\n",
       "    </tr>\n",
       "    <tr>\n",
       "      <td>WN</td>\n",
       "      <td>722.505027</td>\n",
       "      <td>11.931787</td>\n",
       "      <td>6.247911</td>\n",
       "    </tr>\n",
       "  </tbody>\n",
       "</table>\n",
       "</div>"
      ],
      "text/plain": [
       "            DISTANCE   TAXI_OUT    TAXI_IN\n",
       "AIRLINE                                   \n",
       "AA       1053.736842  17.785354   9.092593\n",
       "AS       1202.405145  15.073955   6.443730\n",
       "B6       1064.124444  18.231982   5.966216\n",
       "DL        862.416996  17.189564   7.279392\n",
       "EV        466.038961  16.813456   7.700409\n",
       "F9       1034.223776  16.335664  10.188811\n",
       "HA        789.768595  11.115702   7.214876\n",
       "MQ        433.701961  16.628099   8.512397\n",
       "NK        993.298578  14.318841   8.908213\n",
       "OO        516.424537  17.864945   6.725919\n",
       "UA       1243.796421  16.754545   8.638225\n",
       "US        952.810000  18.600000   7.872414\n",
       "VX       1418.900000  14.917431   7.587156\n",
       "WN        722.505027  11.931787   6.247911"
      ]
     },
     "execution_count": 13,
     "metadata": {},
     "output_type": "execute_result"
    }
   ],
   "source": [
    "avg_by_airline"
   ]
  },
  {
   "cell_type": "raw",
   "metadata": {},
   "source": []
  },
  {
   "cell_type": "markdown",
   "metadata": {},
   "source": [
    "## Activity\n",
    "### Gerneralizing using GroupBy\n",
    "\n",
    "4. Instead of doing this for each airline separately, can you do this for all airlines at a the same time using `groupby`?\n",
    "5. Extract the median DISTANCE for SouthWest airlines (WN) and assign it a variable `median_distance_WN`. \n",
    "6. What is the median DISTANCE, TAXI_IN times and TAXI_OUT times per airline per month? Hint: Notice that we want to group by two different columns.\n",
    "7. Extract the median TAXI_OUT for SouthWest airlines (WN) in December (12) and assign it a variable `median_distance_WN_12`. "
   ]
  },
  {
   "cell_type": "code",
   "execution_count": null,
   "metadata": {},
   "outputs": [],
   "source": [
    "# Question 4\n",
    "# get median 'DISTANCE', 'TAXI_IN', 'TAXI_OUT' for all airlines\n",
    "flights_by_airline = flights.groupby(['AIRLINE'])\n",
    "flights_by_airline_mean = flights_by_airline[ ['DISTANCE', 'TAXI_IN', 'TAXI_OUT'] ].mean()\n",
    "flights_by_airline_mean.loc['WN']"
   ]
  },
  {
   "cell_type": "code",
   "execution_count": null,
   "metadata": {},
   "outputs": [],
   "source": [
    "# Question 5\n",
    "# Extract the median DISTANCE for SouthWest airlines (WN) using loc[]\n",
    "# Assign it a variable median_distance_WN\n",
    "flights_by_airline_mean.loc['WN']['DISTANCE']"
   ]
  },
  {
   "cell_type": "code",
   "execution_count": null,
   "metadata": {},
   "outputs": [],
   "source": [
    "# Question 6\n",
    "# What is the median DISTANCE, TAXI_IN times and TAXI_OUT times per airline per month? \n",
    "flights_by_airline_and_month = flights.groupby(['AIRLINE','MONTH'])\n",
    "airline_and_month_summary = flights_by_airline_and_month[\n",
    "        ['DISTANCE', 'TAXI_IN', 'TAXI_OUT']\n",
    "    ].median()"
   ]
  },
  {
   "cell_type": "code",
   "execution_count": null,
   "metadata": {},
   "outputs": [],
   "source": [
    "# Question 7: \n",
    "# Extract the median TAXI_OUT for SouthWest airlines (WN) in December (12) \n",
    "# Assign it a variable median_distance_WN_12\n",
    "airline_and_month_summary.loc['WN', 12]['DISTANCE']"
   ]
  },
  {
   "cell_type": "markdown",
   "metadata": {},
   "source": [
    "### Understanding the Aggregation After GroupBy: Method Dispatching\n",
    "\n",
    "Let us now look at how the Aggregations on the DataFrameGroupBy objects work. In the **`DataFrameGroupBy`** objects, any method not found on the object itself is forwarded (\"**dispatched**\") to all the groups that it contains.\n",
    "\n",
    "That is why we were able to ask for the *`median`* of a **`flights_by_airline`** object above and get something back: it is (1) \"dispatching\" the *`median`* method call to each group (that is each airline), (2) collecting the results and (3) presenting them to us."
   ]
  },
  {
   "cell_type": "code",
   "execution_count": null,
   "metadata": {},
   "outputs": [],
   "source": [
    "flights_by_airline = flights.groupby(['AIRLINE'])"
   ]
  },
  {
   "cell_type": "code",
   "execution_count": null,
   "metadata": {},
   "outputs": [],
   "source": [
    "flights_by_airline.median()"
   ]
  },
  {
   "cell_type": "code",
   "execution_count": null,
   "metadata": {},
   "outputs": [],
   "source": [
    "# Compute the median for the entire DataFrameGroupBy object and then select 'DISTANCE' column \n",
    "flights_by_airline.median()[['DISTANCE']]"
   ]
  },
  {
   "cell_type": "code",
   "execution_count": null,
   "metadata": {},
   "outputs": [],
   "source": [
    "# Select the 'DISTANCE' Column as a dataframe and then compute the median\n",
    "flights_by_airline[ ['DISTANCE'] ].median()"
   ]
  },
  {
   "cell_type": "code",
   "execution_count": null,
   "metadata": {},
   "outputs": [],
   "source": [
    "# Select the 'DISTANCE' Column as a numpy array and then compute the median\n",
    "flights_by_airline['DISTANCE'].median()"
   ]
  },
  {
   "cell_type": "markdown",
   "metadata": {},
   "source": [
    "**Question**: Which of the above methods should be preferred? "
   ]
  },
  {
   "cell_type": "markdown",
   "metadata": {},
   "source": [
    "### Methods of `DataFrameGroupBy` Objects\n",
    "Now we will understand the various operations built into the `DataFrameGroupBy` object type."
   ]
  },
  {
   "cell_type": "markdown",
   "metadata": {},
   "source": [
    "#### The `aggregate()` Method\n",
    "At first, the `aggregate()` method appears to be quite similiar to what we just covered when we talked about method dispatching. It performs aggregations on the groups in a **`DataFrameGroupBy`** object."
   ]
  },
  {
   "cell_type": "code",
   "execution_count": null,
   "metadata": {},
   "outputs": [],
   "source": [
    "flights_by_airline.aggregate('mean')"
   ]
  },
  {
   "cell_type": "markdown",
   "metadata": {},
   "source": [
    "The difference is that the **`aggregate()`** method gives you some additional options that are not available if you rely on method dispatching as shown above."
   ]
  },
  {
   "cell_type": "code",
   "execution_count": null,
   "metadata": {},
   "outputs": [],
   "source": [
    "# You can pass multiple aggregates as a list.\n",
    "# Here will we get various aggregates for each\n",
    "# column of our flights_by_airline object.\n",
    "flights_by_airline.aggregate([np.mean, 'min', 'max'])[:5]"
   ]
  },
  {
   "cell_type": "markdown",
   "metadata": {},
   "source": [
    "<div class=\"alert alert-block alert-warning\">\n",
    "<p>\n",
    "It is important to notice that you are able to pass both strings and functions to the `aggregate()` method. It is probably best to choose one approach and stick with it rather than mixing and matching like I've done here.\n",
    "</p>\n",
    "</div>"
   ]
  },
  {
   "cell_type": "code",
   "execution_count": null,
   "metadata": {},
   "outputs": [],
   "source": [
    "flights_by_airline.aggregate([np.mean, np.min, np.max]).head(5)"
   ]
  },
  {
   "cell_type": "markdown",
   "metadata": {},
   "source": [
    "Your textbook also talks about using a dict to apply labels to the aggregation columns so that they can have user friendly names like 'Longest Distance' rather than just 'max'.\n",
    "\n",
    "This sort of functionality is, however, deprecated in Pandas, which means that it will be removed in future versions.\n",
    "\n",
    "To accomplish the same thing, we should instead append a `rename()` method after our `aggregate()` method like so:"
   ]
  },
  {
   "cell_type": "code",
   "execution_count": null,
   "metadata": {},
   "outputs": [],
   "source": [
    "# Using `rename()` to apply friendly labels to output columns\n",
    "flights_by_airline[['DISTANCE','TAXI_OUT']].aggregate(\n",
    "    [np.mean, np.min, np.max]).rename(\n",
    "        columns={'mean': 'Avg. Distance', \n",
    "                 'amin': 'Shortest Distance', \n",
    "                 'amax': 'Longest Distance'})"
   ]
  },
  {
   "cell_type": "markdown",
   "metadata": {},
   "source": [
    "<div class=\"alert alert-block alert-danger\">\n",
    "<p>\n",
    "Note, there are three main things happening in the above statement. \n",
    "<ul>\n",
    "<li> flights_by_airline['DISTANCE'] selects the distance column for analysis</li>\n",
    "<li> flights_by_airline['DISTANCE'].aggregate([np.mean, np.min, np.max]) computes the average, min and max of the distance column selected</li>\n",
    "<li> Finally .rename() function is appropriately renaming the columns according the dictionary we have given  </li>\n",
    "</ul>\n",
    "</p>\n",
    "</div>"
   ]
  },
  {
   "cell_type": "markdown",
   "metadata": {},
   "source": [
    "The recommended way of using a **`dict`** with the **`aggregate()`** method is actually to specify which aggregation(s) to perform on what columns. You can use it to specify different aggregation(s) on a per-column basis.\n",
    "\n",
    "Here I'll use it to get the high/low values for DISTANCE and the mean for TAXI_IN on our *`flights_by_airline_month`* object."
   ]
  },
  {
   "cell_type": "code",
   "execution_count": null,
   "metadata": {},
   "outputs": [],
   "source": [
    "flights_by_airline_month = flights.groupby(['AIRLINE', 'MONTH'])\n",
    "\n",
    "# Notice how using this style automatically filters\n",
    "# out all columns you don't specify.\n",
    "flights_by_airline_month.aggregate(\n",
    "        {'DISTANCE': [np.min, np.max], \n",
    "         'TAXI_IN': np.mean}\n",
    ").tail(20)"
   ]
  },
  {
   "cell_type": "markdown",
   "metadata": {},
   "source": [
    "## Activity: \n",
    "\n",
    "We will work again on the `college-loan-default-rates.csv` and `college-scorecard-data-scrubbed.csv` datasets. \n",
    "\n",
    "Use `aggregate()` method to produce\n",
    "\n",
    "1. The average, minimum and maximum `full_time_retention_rate_4_year` per state using `college-scorecard-data-scrubbed.csv` dataset. \n",
    "    * After producing the above summary statistics, make sure you rename your columns for average, minimum and maximum as `Avg. Retention`, `Low Retention`, and `High Retention` respectively. \n",
    "2. Produce per state and city, minimum and maximum for the `sat_average` column and average for the `full_time_retention_rate_4_year` column. \n",
    "\n",
    "3. Which state has the highest average four year retention rate (`full_time_retention_rate_4_year`)? Which has the lowest average? \n"
   ]
  },
  {
   "cell_type": "code",
   "execution_count": null,
   "metadata": {},
   "outputs": [],
   "source": [
    "# For this tutorial, we will need both of our datasets.\n",
    "college_loan_defaults = pd.read_csv(\n",
    "    './data/college-loan-default-rates.csv')\n",
    "\n",
    "college_scorecard = pd.read_csv(\n",
    "    './data/college-scorecard-data-scrubbed.csv', \n",
    "    encoding='latin-1')\n",
    "\n",
    "college_scorecard.head()"
   ]
  },
  {
   "cell_type": "code",
   "execution_count": null,
   "metadata": {
    "scrolled": true
   },
   "outputs": [],
   "source": [
    "# Question 1\n",
    "# The average, minimum and maximum full_time_retention_rate_4_year \n",
    "# per state using college-scorecard-data-scrubbed.csv dataset.\n",
    "# After producing the above summary statistics, \n",
    "# make sure you rename your columns for \n",
    "# average, minimum and maximum as Avg. Retention, Low Retention, and High Retention respectively.\n",
    "\n",
    "scores_by_state = college_scorecard.groupby(['state'])\n",
    "scores_by_state_summary = scores_by_state['full_time_retention_rate_4_year'].aggregate(\n",
    "    [\n",
    "        np.mean, \n",
    "        np.min, \n",
    "        np.max\n",
    "    ]\n",
    "    ).rename(\n",
    "        columns={\n",
    "            'mean': 'Average', \n",
    "            'amin': 'Minimum', \n",
    "            'amax': 'Maximum'}\n",
    "            )\n",
    "scores_by_state_summary[:3]"
   ]
  },
  {
   "cell_type": "code",
   "execution_count": null,
   "metadata": {},
   "outputs": [],
   "source": [
    "# Question 2\n",
    "# Produce per state and city, minimum and maximum for the sat_average column \n",
    "# and average for the full_time_retention_rate_4_year column\n",
    "scores_by_state_city = college_scorecard.groupby(['state', 'city'])\n",
    "scores_by_state_city_summary = scores_by_state_city.aggregate(\n",
    "        {\n",
    "            'full_time_retention_rate_4_year': [np.mean],\n",
    "            'sat_average': [np.min, np.max]\n",
    "        }\n",
    "        ).rename(\n",
    "            columns={\n",
    "                'mean': 'Average', 'amin': 'Minimum', 'amax': 'Maximum'\n",
    "            })\n",
    "scores_by_state_city_summary    "
   ]
  },
  {
   "cell_type": "code",
   "execution_count": null,
   "metadata": {},
   "outputs": [],
   "source": [
    "# Question 3\n",
    "# Return to the summary of state scores from first step...\n",
    "# Which state has the highest average four year retention rate (full_time_retention_rate_4_year)? \n",
    "# Which has the lowest average?\n",
    "print(scores_by_state_summary['Average'].idxmax())\n",
    "print(scores_by_state_summary['Average'].idxmin())"
   ]
  },
  {
   "cell_type": "markdown",
   "metadata": {},
   "source": [
    "<div class=\"alert alert-block alert-warning\">\n",
    "<h3> Important Notes</h3>\n",
    "<p> </p> \n",
    "When producing any of the summary statistics using group by, you can assign your intermediate operations to the variables. In the entire section above, I have been mostly trying to produce the results to show them to you. However, you can assign the results to a variable for using it in the future. **See the example below.** \n",
    "</div>"
   ]
  },
  {
   "cell_type": "code",
   "execution_count": null,
   "metadata": {},
   "outputs": [],
   "source": [
    "flights_by_airline_month = flights.groupby(['AIRLINE', 'MONTH'])\n",
    "aggregation = {\n",
    "                'DISTANCE': [np.min, np.max], \n",
    "                 'TAXI_IN': np.mean\n",
    "              }\n",
    "column_names = { 'amin': \"Minimum\", 'amax': 'Maximum', 'mean': 'Average' }\n",
    "\n",
    "summary_distance_taxi_in = flights_by_airline_month.aggregate(aggregation).rename(columns=column_names)"
   ]
  },
  {
   "cell_type": "code",
   "execution_count": null,
   "metadata": {},
   "outputs": [],
   "source": [
    "summary_distance_taxi_in.head()"
   ]
  },
  {
   "cell_type": "code",
   "execution_count": null,
   "metadata": {},
   "outputs": [],
   "source": [
    "# Remember from the last class that we can do aggregations at multiple levels using Hierarchical index. \n",
    "summary_distance_taxi_in.mean(level='AIRLINE')"
   ]
  },
  {
   "cell_type": "code",
   "execution_count": null,
   "metadata": {},
   "outputs": [],
   "source": [
    "summary_distance_taxi_in.mean(level='MONTH')"
   ]
  }
 ],
 "metadata": {
  "kernelspec": {
   "display_name": "Python 3",
   "language": "python",
   "name": "python3"
  },
  "language_info": {
   "codemirror_mode": {
    "name": "ipython",
    "version": 3
   },
   "file_extension": ".py",
   "mimetype": "text/x-python",
   "name": "python",
   "nbconvert_exporter": "python",
   "pygments_lexer": "ipython3",
   "version": "3.7.4"
  }
 },
 "nbformat": 4,
 "nbformat_minor": 2
}
